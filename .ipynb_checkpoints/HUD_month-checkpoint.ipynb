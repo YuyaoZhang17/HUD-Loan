{
 "cells": [
  {
   "cell_type": "code",
   "execution_count": 1,
   "metadata": {},
   "outputs": [],
   "source": [
    "import pandas as pd\n",
    "import numpy as np\n",
    "import datetime\n",
    "import glob"
   ]
  },
  {
   "cell_type": "code",
   "execution_count": 2,
   "metadata": {},
   "outputs": [],
   "source": [
    "start=\"2009-10-14\""
   ]
  },
  {
   "cell_type": "code",
   "execution_count": 3,
   "metadata": {},
   "outputs": [],
   "source": [
    "libor=pd.read_csv(\"LIBOR USD.csv\")"
   ]
  },
  {
   "cell_type": "code",
   "execution_count": 4,
   "metadata": {},
   "outputs": [],
   "source": [
    "libor[\"Date\"]=libor[\"Date\"].map(lambda x:pd.to_datetime(x,format='%d.%m.%Y'))"
   ]
  },
  {
   "cell_type": "code",
   "execution_count": 5,
   "metadata": {},
   "outputs": [],
   "source": [
    "libor[\"Week\"]=libor[\"Date\"].map(lambda x:x.to_period(\"W\"))"
   ]
  },
  {
   "cell_type": "code",
   "execution_count": 6,
   "metadata": {},
   "outputs": [],
   "source": [
    "libor=libor.sort_values(\"Date\")"
   ]
  },
  {
   "cell_type": "code",
   "execution_count": 7,
   "metadata": {},
   "outputs": [],
   "source": [
    "libor=libor[libor[\"Date\"]>start]\n",
    "libor=libor.groupby(\"Week\")[\"ON\",\"1W\",\"1M\",\"2M\",\"3M\",\"6M\",\"12M\"].mean()"
   ]
  },
  {
   "cell_type": "code",
   "execution_count": 8,
   "metadata": {},
   "outputs": [],
   "source": [
    "path_trea =r'./Treasury' \n",
    "allFiles_trea = glob.glob(path_trea + \"/*.csv\")\n",
    "frame_trea = pd.DataFrame()\n",
    "list_trea = []\n",
    "for file_trea in allFiles_trea:\n",
    "    df_trea = pd.read_csv(file_trea,index_col=\"Date\", header=0)\n",
    "    list_trea.append(df_trea)\n",
    "frame_trea=pd.concat(list_trea)"
   ]
  },
  {
   "cell_type": "code",
   "execution_count": 9,
   "metadata": {},
   "outputs": [],
   "source": [
    "frame_trea.index=frame_trea.index.map(lambda x:pd.to_datetime(x,format='%m/%d/%Y'))"
   ]
  },
  {
   "cell_type": "code",
   "execution_count": 10,
   "metadata": {},
   "outputs": [],
   "source": [
    "frame_trea[\"Week\"]=frame_trea.index.map(lambda x:x.to_period(\"W\"))"
   ]
  },
  {
   "cell_type": "code",
   "execution_count": 11,
   "metadata": {},
   "outputs": [],
   "source": [
    "frame_trea.to_csv(\"Treasury.csv\")"
   ]
  },
  {
   "cell_type": "code",
   "execution_count": 12,
   "metadata": {},
   "outputs": [],
   "source": [
    "frame_trea=frame_trea[frame_trea.index>start]\n",
    "frame_trea=frame_trea.groupby(\"Week\")[\"1 Mo\",\"6 Mo\",\"1 Yr\",\"5 Yr\",\"10 Yr\",\"20 Yr\",\"30 Yr\"].mean()"
   ]
  },
  {
   "cell_type": "code",
   "execution_count": 13,
   "metadata": {},
   "outputs": [],
   "source": [
    "hud=pd.read_csv(\"RM-A_09-30-2019.csv\")"
   ]
  },
  {
   "cell_type": "code",
   "execution_count": 14,
   "metadata": {},
   "outputs": [],
   "source": [
    "hud[\"DATE\"]=hud[\"INITIAL ENDORSEMENT DATE\"].map(lambda x:pd.to_datetime(x,format='%m/%d/%Y'))"
   ]
  },
  {
   "cell_type": "code",
   "execution_count": 15,
   "metadata": {},
   "outputs": [],
   "source": [
    "hud[\"Week\"]=hud[\"DATE\"].map(lambda x:x.to_period(\"W\"))"
   ]
  },
  {
   "cell_type": "code",
   "execution_count": 16,
   "metadata": {},
   "outputs": [],
   "source": [
    "hud=hud[hud[\"DATE\"]>start].reset_index()"
   ]
  },
  {
   "cell_type": "code",
   "execution_count": 17,
   "metadata": {},
   "outputs": [],
   "source": [
    "cata=[\"202\", \"811\"]\n",
    "catb=[\"542(c)\",\"542(b)\"]\n",
    "catc=[\"221\",\"220\",\"231\",\"213\"]\n",
    "catd=\"223(f)\"\n",
    "cate=\"223(a)(7)\"\n",
    "catg=\"241a\"\n",
    "cath=[\"234(d)\",\"207\",\"223(d)\"]\n",
    "cati=[\"232\",\"Board&Care\",\"ICF\",\"Nursing\"]\n",
    "catj=[\"Hospital\",\"Group Practice\"]"
   ]
  },
  {
   "cell_type": "code",
   "execution_count": 18,
   "metadata": {},
   "outputs": [],
   "source": [
    "cats=[cata,catb,catc,catd,cate,catg,cath,cati,catj]"
   ]
  },
  {
   "cell_type": "code",
   "execution_count": 19,
   "metadata": {},
   "outputs": [
    {
     "name": "stderr",
     "output_type": "stream",
     "text": [
      "C:\\Users\\19018\\Anaconda3\\lib\\site-packages\\ipykernel_launcher.py:7: SettingWithCopyWarning: \n",
      "A value is trying to be set on a copy of a slice from a DataFrame\n",
      "\n",
      "See the caveats in the documentation: http://pandas.pydata.org/pandas-docs/stable/user_guide/indexing.html#returning-a-view-versus-a-copy\n",
      "  import sys\n"
     ]
    }
   ],
   "source": [
    "for i in range(len(cats)):\n",
    "    name=\"Category %i\"%(i)\n",
    "    hud[name]=False\n",
    "    for j in range(len(hud)):\n",
    "        for k in range(len(cats[i])):\n",
    "            if (cats[i][k] in hud[\"SOA CATEGORY/SUB CATEGORY\"][j]):\n",
    "                hud[name][j]=True"
   ]
  },
  {
   "cell_type": "code",
   "execution_count": 20,
   "metadata": {},
   "outputs": [
    {
     "name": "stderr",
     "output_type": "stream",
     "text": [
      "C:\\Users\\19018\\Anaconda3\\lib\\site-packages\\ipykernel_launcher.py:3: SettingWithCopyWarning: \n",
      "A value is trying to be set on a copy of a slice from a DataFrame\n",
      "\n",
      "See the caveats in the documentation: http://pandas.pydata.org/pandas-docs/stable/user_guide/indexing.html#returning-a-view-versus-a-copy\n",
      "  This is separate from the ipykernel package so we can avoid doing imports until\n"
     ]
    }
   ],
   "source": [
    "hud[\"Category\"]=None\n",
    "for i in range(len(hud)):\n",
    "    hud[\"Category\"][i]=[]\n",
    "    if hud[\"Category 0\"][i]==True:\n",
    "        hud[\"Category\"][i].append(\"Capital Advances\")\n",
    "    if hud[\"Category 1\"][i]==True:\n",
    "        hud[\"Category\"][i].append(\"Risk Sharing\")\n",
    "    if hud[\"Category 2\"][i]==True:\n",
    "        hud[\"Category\"][i].append(\"New Construction\")\n",
    "    if hud[\"Category 3\"][i]==True:\n",
    "        hud[\"Category\"][i].append(\"Refinancing_Purchase of Apartments_Coops\")\n",
    "    if hud[\"Category 4\"][i]==True:\n",
    "        hud[\"Category\"][i].append(\"Refinancing of Apt\")\n",
    "    if hud[\"Category 5\"][i]==True:\n",
    "        hud[\"Category\"][i].append(\"Improvements_Additions for Apartments_Coops\")\n",
    "    if hud[\"Category 6\"][i]==True:\n",
    "        hud[\"Category\"][i].append(\"Other FHA\")\n",
    "    if hud[\"Category 7\"][i]==True:\n",
    "        hud[\"Category\"][i].append(\"Health Care Facilities\")\n",
    "    if hud[\"Category 8\"][i]==True:\n",
    "        hud[\"Category\"][i].append(\"Hospitals and Group Practices\")"
   ]
  },
  {
   "cell_type": "code",
   "execution_count": 21,
   "metadata": {},
   "outputs": [
    {
     "data": {
      "text/plain": [
       "Index(['index', 'HUD PROJECT NUMBER', 'PROPERTY NAME', 'PROPERTY STREET',\n",
       "       'PROPERTY CITY', 'PROPERTY STATE', 'PROPERTY ZIP', 'UNITS',\n",
       "       'INITIAL ENDORSEMENT DATE', 'FINAL ENDORSEMENT DATE',\n",
       "       'ORIGINAL MORTGAGE AMOUNT', 'FIRST PAYMENT DATE', 'MATURITY DATE',\n",
       "       'TERM IN MONTHS', 'INTEREST RATE', 'CURRENT PRINCIPAL AND INTEREST',\n",
       "       'AMORTIZED PRINCIPAL BALANCE', 'HOLDER NAME', 'HOLDER CITY',\n",
       "       'HOLDER STATE', 'SERVICER NAME', 'SERVICER CITY', 'SERVICER STATE',\n",
       "       'SECTION OF ACT CODE', 'SOA CATEGORY/SUB CATEGORY', 'TE', 'TC', 'DATE',\n",
       "       'Week', 'Category 0', 'Category 1', 'Category 2', 'Category 3',\n",
       "       'Category 4', 'Category 5', 'Category 6', 'Category 7', 'Category 8',\n",
       "       'Category'],\n",
       "      dtype='object')"
      ]
     },
     "execution_count": 21,
     "metadata": {},
     "output_type": "execute_result"
    }
   ],
   "source": [
    "hud.columns"
   ]
  },
  {
   "cell_type": "code",
   "execution_count": 22,
   "metadata": {},
   "outputs": [],
   "source": [
    "hud_cat=hud[['HUD PROJECT NUMBER', 'PROPERTY NAME', 'PROPERTY STREET',\n",
    "       'PROPERTY CITY', 'PROPERTY STATE', 'PROPERTY ZIP', 'UNITS',\n",
    "       'INITIAL ENDORSEMENT DATE', 'FINAL ENDORSEMENT DATE',\n",
    "       'ORIGINAL MORTGAGE AMOUNT', 'FIRST PAYMENT DATE', 'MATURITY DATE',\n",
    "       'TERM IN MONTHS', 'INTEREST RATE', 'CURRENT PRINCIPAL AND INTEREST',\n",
    "       'AMORTIZED PRINCIPAL BALANCE', 'HOLDER NAME', 'HOLDER CITY',\n",
    "       'HOLDER STATE', 'SERVICER NAME', 'SERVICER CITY', 'SERVICER STATE',\n",
    "       'SECTION OF ACT CODE', 'SOA CATEGORY/SUB CATEGORY','Week','Category']]"
   ]
  },
  {
   "cell_type": "code",
   "execution_count": 126,
   "metadata": {},
   "outputs": [],
   "source": [
    "hud_cat[\"PROPERTY CITY\"]=hud_cat[\"PROPERTY CITY\"].map(lambda x:x.upper())\n",
    "hud_cat=hud_cat.sort_values(\"PROPERTY CITY\")\n"
   ]
  },
  {
   "cell_type": "code",
   "execution_count": 127,
   "metadata": {},
   "outputs": [],
   "source": [
    "hud_cat.to_csv(\"HUD with Category.csv\")"
   ]
  },
  {
   "cell_type": "code",
   "execution_count": 25,
   "metadata": {},
   "outputs": [
    {
     "data": {
      "text/plain": [
       "3959"
      ]
     },
     "execution_count": 25,
     "metadata": {},
     "output_type": "execute_result"
    }
   ],
   "source": [
    "len(hud[\"PROPERTY CITY\"].unique())"
   ]
  },
  {
   "cell_type": "code",
   "execution_count": 26,
   "metadata": {},
   "outputs": [],
   "source": [
    "# capital advance\n",
    "CA=hud[hud[\"Category 0\"]==True].groupby([\"PROPERTY CITY\",\"Week\"])[\"INTEREST RATE\"].mean()"
   ]
  },
  {
   "cell_type": "code",
   "execution_count": 27,
   "metadata": {},
   "outputs": [],
   "source": [
    "aa=hud.groupby([\"PROPERTY CITY\",\"Week\"])[\"INTEREST RATE\"].mean()\n",
    "aa=aa.reset_index([\"PROPERTY CITY\",\"Week\"])"
   ]
  },
  {
   "cell_type": "code",
   "execution_count": 28,
   "metadata": {},
   "outputs": [],
   "source": [
    "aa.to_csv(\"City Data for Risk Sharing with HFAs & QPEs Type Loan.csv\")"
   ]
  },
  {
   "cell_type": "code",
   "execution_count": 29,
   "metadata": {},
   "outputs": [],
   "source": [
    "# Risk Sharing with HFAs & QPEs\n",
    "RS=hud[hud[\"Category 1\"]==True].groupby([\"PROPERTY STATE\",\"Week\"])[\"INTEREST RATE\"].mean()\n",
    "RS=RS.reset_index([\"PROPERTY STATE\",\"Week\"])"
   ]
  },
  {
   "cell_type": "code",
   "execution_count": 30,
   "metadata": {},
   "outputs": [
    {
     "name": "stderr",
     "output_type": "stream",
     "text": [
      "C:\\Users\\19018\\Anaconda3\\lib\\site-packages\\numpy\\lib\\function_base.py:2522: RuntimeWarning: Degrees of freedom <= 0 for slice\n",
      "  c = cov(x, y, rowvar)\n",
      "C:\\Users\\19018\\Anaconda3\\lib\\site-packages\\numpy\\lib\\function_base.py:2451: RuntimeWarning: divide by zero encountered in true_divide\n",
      "  c *= np.true_divide(1, fact)\n"
     ]
    }
   ],
   "source": [
    "states=RS[\"PROPERTY STATE\"].unique()\n",
    "df_list=[]\n",
    "df_s=pd.DataFrame()\n",
    "for i in range(len(states)):\n",
    "    df=RS[RS[\"PROPERTY STATE\"]==states[i]]\n",
    "    df=df.merge(libor,on=\"Week\")\n",
    "    df[\"spread between libor 12M\"]=df[\"INTEREST RATE\"]-df[\"12M\"]\n",
    "    df[\"Corr with libor 12M\"]=df[\"12M\"].corr(df[\"INTEREST RATE\"])\n",
    "    df=df.merge(frame_trea,on=\"Week\")\n",
    "    df[\"spread between 10 Yr treasury\"]=df[\"INTEREST RATE\"]-df[\"10 Yr\"]\n",
    "    df[\"Corr with 10 Yr treasury\"]=df[\"10 Yr\"].corr(df[\"INTEREST RATE\"])\n",
    "    df[\"spread between 20 Yr treasury\"]=df[\"INTEREST RATE\"]-df[\"20 Yr\"]\n",
    "    df[\"Corr with 20 Yr treasury\"]=df[\"20 Yr\"].corr(df[\"INTEREST RATE\"])\n",
    "    df[\"spread between 30 Yr treasury\"]=df[\"INTEREST RATE\"]-df[\"30 Yr\"]\n",
    "    df[\"Corr with 30 Yr treasury\"]=df[\"30 Yr\"].corr(df[\"INTEREST RATE\"])\n",
    "    df_list.append(df)\n",
    "df_s=pd.concat(df_list).reset_index(drop=True)\n",
    "    "
   ]
  },
  {
   "cell_type": "code",
   "execution_count": 31,
   "metadata": {},
   "outputs": [],
   "source": [
    "df_s.to_csv(\"State Data for Risk Sharing with HFAs & QPEs Type Loan.csv\")"
   ]
  },
  {
   "cell_type": "code",
   "execution_count": 32,
   "metadata": {},
   "outputs": [],
   "source": [
    "hud=hud.groupby([\"PROPERTY CITY\",\"Week\"])[\"INTEREST RATE\"].mean()\n",
    "hud=hud.reset_index([\"PROPERTY CITY\",\"Week\"])"
   ]
  },
  {
   "cell_type": "code",
   "execution_count": 34,
   "metadata": {},
   "outputs": [],
   "source": [
    "city=hud[\"PROPERTY CITY\"].unique()\n",
    "df_list=[]\n",
    "df_s=pd.DataFrame()\n",
    "for i in range(len(city)):\n",
    "    df=hud[hud[\"PROPERTY CITY\"]==city[i]]\n",
    "    df=df.merge(libor[\"ON\"],on=\"Week\")\n",
    "    df[\"spread between libor ON\"]=df[\"INTEREST RATE\"]-df[\"ON\"]\n",
    "    df[\"Corr with libor ON\"]=df[\"ON\"].corr(df[\"INTEREST RATE\"])\n",
    "    \n",
    "    df=df.merge(libor[\"1W\"],on=\"Week\")\n",
    "    df[\"spread between libor 1W\"]=df[\"INTEREST RATE\"]-df[\"1W\"]\n",
    "    df[\"Corr with libor 1W\"]=df[\"1W\"].corr(df[\"INTEREST RATE\"])\n",
    "    \n",
    "    df=df.merge(libor[\"1M\"],on=\"Week\")\n",
    "    df[\"spread between libor 1M\"]=df[\"INTEREST RATE\"]-df[\"1M\"]\n",
    "    df[\"Corr with libor 1M\"]=df[\"1M\"].corr(df[\"INTEREST RATE\"])\n",
    "    \n",
    "    df=df.merge(libor[\"2M\"],on=\"Week\")\n",
    "    df[\"spread between libor 2M\"]=df[\"INTEREST RATE\"]-df[\"2M\"]\n",
    "    df[\"Corr with libor 2M\"]=df[\"2M\"].corr(df[\"INTEREST RATE\"])\n",
    "    \n",
    "    df=df.merge(libor[\"3M\"],on=\"Week\")\n",
    "    df[\"spread between libor 3M\"]=df[\"INTEREST RATE\"]-df[\"3M\"]\n",
    "    df[\"Corr with libor 3M\"]=df[\"3M\"].corr(df[\"INTEREST RATE\"])\n",
    "    \n",
    "    df=df.merge(libor[\"6M\"],on=\"Week\")\n",
    "    df[\"spread between libor 6M\"]=df[\"INTEREST RATE\"]-df[\"6M\"]\n",
    "    df[\"Corr with libor 6M\"]=df[\"6M\"].corr(df[\"INTEREST RATE\"])\n",
    "    \n",
    "    df=df.merge(libor[\"12M\"],on=\"Week\")\n",
    "    df[\"spread between libor 12M\"]=df[\"INTEREST RATE\"]-df[\"12M\"]\n",
    "    df[\"Corr with libor 12M\"]=df[\"12M\"].corr(df[\"INTEREST RATE\"])\n",
    "\n",
    "    df=df.merge(frame_trea[\"1 Mo\"],on=\"Week\")\n",
    "    df[\"spread between 1 Mo treasury\"]=df[\"INTEREST RATE\"]-df[\"1 Mo\"]\n",
    "    df[\"Corr with 1 Mo treasury\"]=df[\"1 Mo\"].corr(df[\"INTEREST RATE\"])\n",
    "    \n",
    "    df=df.merge(frame_trea[\"6 Mo\"],on=\"Week\")\n",
    "    df[\"spread between 6 Mo treasury\"]=df[\"INTEREST RATE\"]-df[\"6 Mo\"]\n",
    "    df[\"Corr with 6 Mo treasury\"]=df[\"6 Mo\"].corr(df[\"INTEREST RATE\"])\n",
    "    \n",
    "    df=df.merge(frame_trea[\"1 Yr\"],on=\"Week\")\n",
    "    df[\"spread between 1 Yr treasury\"]=df[\"INTEREST RATE\"]-df[\"1 Yr\"]\n",
    "    df[\"Corr with 1 Yr treasury\"]=df[\"1 Yr\"].corr(df[\"INTEREST RATE\"])\n",
    "    \n",
    "    df=df.merge(frame_trea[\"5 Yr\"],on=\"Week\")\n",
    "    df[\"spread between 5 Yr treasury\"]=df[\"INTEREST RATE\"]-df[\"5 Yr\"]\n",
    "    df[\"Corr with 5 Yr treasury\"]=df[\"5 Yr\"].corr(df[\"INTEREST RATE\"])\n",
    "    \n",
    "    df=df.merge(frame_trea[\"10 Yr\"],on=\"Week\")\n",
    "    df[\"spread between 10 Yr treasury\"]=df[\"INTEREST RATE\"]-df[\"10 Yr\"]\n",
    "    df[\"Corr with 10 Yr treasury\"]=df[\"10 Yr\"].corr(df[\"INTEREST RATE\"])\n",
    "    \n",
    "    df=df.merge(frame_trea[\"20 Yr\"],on=\"Week\")\n",
    "    df[\"spread between 20 Yr treasury\"]=df[\"INTEREST RATE\"]-df[\"20 Yr\"]\n",
    "    df[\"Corr with 20 Yr treasury\"]=df[\"20 Yr\"].corr(df[\"INTEREST RATE\"])\n",
    "    \n",
    "    df=df.merge(frame_trea[\"30 Yr\"],on=\"Week\")\n",
    "    df[\"spread between 30 Yr treasury\"]=df[\"INTEREST RATE\"]-df[\"30 Yr\"]\n",
    "    df[\"Corr with 30 Yr treasury\"]=df[\"30 Yr\"].corr(df[\"INTEREST RATE\"])\n",
    "    df_list.append(df)\n",
    "df_s=pd.concat(df_list).reset_index(drop=True)\n",
    "\n",
    "\n",
    "df_s.to_csv(\"City Data of HUD.csv\",index=False)"
   ]
  },
  {
   "cell_type": "code",
   "execution_count": 129,
   "metadata": {},
   "outputs": [],
   "source": [
    "categories=[\"Risk Sharing\",\"New Construction\",\"Refinancing_Purchase of Apartments_Coops\",\n",
    "     \"Refinancing of Apt\",\"Improvements_Additions for Apartments_Coops\",\"Other FHA\",\"Health Care Facilities\",\n",
    "     \"Hospitals and Group Practices\"]\n",
    "\n",
    "for i in range(len(categories)):\n",
    "    hud_sub=hud_cat[hud_cat[\"Category\"].str.contains(categories[i],regex=False)]\n",
    "    hud_sub=hud_sub.groupby([\"PROPERTY CITY\",\"Week\"])[\"INTEREST RATE\"].mean()\n",
    "    hud_sub=hud_sub.reset_index([\"PROPERTY CITY\",\"Week\"])\n",
    "    hud_sub[\"Category\"]=categories[i]\n",
    "    city=hud_sub[\"PROPERTY CITY\"].unique()\n",
    "    df_list=[]\n",
    "    df_s=pd.DataFrame()\n",
    "    name=\"City Data of HUD_\"+categories[i]\n",
    "    for i in range(len(city)):\n",
    "        df=hud_sub[hud_sub[\"PROPERTY CITY\"]==city[i]]\n",
    "        df=df.merge(libor[\"ON\"],on=\"Week\")\n",
    "        df[\"spread between libor ON\"]=df[\"INTEREST RATE\"]-df[\"ON\"]\n",
    "        df[\"Corr with libor ON\"]=df[\"ON\"].corr(df[\"INTEREST RATE\"])\n",
    "\n",
    "        df=df.merge(libor[\"1W\"],on=\"Week\")\n",
    "        df[\"spread between libor 1W\"]=df[\"INTEREST RATE\"]-df[\"1W\"]\n",
    "        df[\"Corr with libor 1W\"]=df[\"1W\"].corr(df[\"INTEREST RATE\"])\n",
    "\n",
    "        df=df.merge(libor[\"1M\"],on=\"Week\")\n",
    "        df[\"spread between libor 1M\"]=df[\"INTEREST RATE\"]-df[\"1M\"]\n",
    "        df[\"Corr with libor 1M\"]=df[\"1M\"].corr(df[\"INTEREST RATE\"])\n",
    "\n",
    "        df=df.merge(libor[\"2M\"],on=\"Week\")\n",
    "        df[\"spread between libor 2M\"]=df[\"INTEREST RATE\"]-df[\"2M\"]\n",
    "        df[\"Corr with libor 2M\"]=df[\"2M\"].corr(df[\"INTEREST RATE\"])\n",
    "\n",
    "        df=df.merge(libor[\"3M\"],on=\"Week\")\n",
    "        df[\"spread between libor 3M\"]=df[\"INTEREST RATE\"]-df[\"3M\"]\n",
    "        df[\"Corr with libor 3M\"]=df[\"3M\"].corr(df[\"INTEREST RATE\"])\n",
    "\n",
    "        df=df.merge(libor[\"6M\"],on=\"Week\")\n",
    "        df[\"spread between libor 6M\"]=df[\"INTEREST RATE\"]-df[\"6M\"]\n",
    "        df[\"Corr with libor 6M\"]=df[\"6M\"].corr(df[\"INTEREST RATE\"])\n",
    "\n",
    "        df=df.merge(libor[\"12M\"],on=\"Week\")\n",
    "        df[\"spread between libor 12M\"]=df[\"INTEREST RATE\"]-df[\"12M\"]\n",
    "        df[\"Corr with libor 12M\"]=df[\"12M\"].corr(df[\"INTEREST RATE\"])\n",
    "\n",
    "        df=df.merge(frame_trea[\"1 Mo\"],on=\"Week\")\n",
    "        df[\"spread between 1 Mo treasury\"]=df[\"INTEREST RATE\"]-df[\"1 Mo\"]\n",
    "        df[\"Corr with 1 Mo treasury\"]=df[\"1 Mo\"].corr(df[\"INTEREST RATE\"])\n",
    "\n",
    "        df=df.merge(frame_trea[\"6 Mo\"],on=\"Week\")\n",
    "        df[\"spread between 6 Mo treasury\"]=df[\"INTEREST RATE\"]-df[\"6 Mo\"]\n",
    "        df[\"Corr with 6 Mo treasury\"]=df[\"6 Mo\"].corr(df[\"INTEREST RATE\"])\n",
    "\n",
    "        df=df.merge(frame_trea[\"1 Yr\"],on=\"Week\")\n",
    "        df[\"spread between 1 Yr treasury\"]=df[\"INTEREST RATE\"]-df[\"1 Yr\"]\n",
    "        df[\"Corr with 1 Yr treasury\"]=df[\"1 Yr\"].corr(df[\"INTEREST RATE\"])\n",
    "\n",
    "        df=df.merge(frame_trea[\"5 Yr\"],on=\"Week\")\n",
    "        df[\"spread between 5 Yr treasury\"]=df[\"INTEREST RATE\"]-df[\"5 Yr\"]\n",
    "        df[\"Corr with 5 Yr treasury\"]=df[\"5 Yr\"].corr(df[\"INTEREST RATE\"])\n",
    "\n",
    "        df=df.merge(frame_trea[\"10 Yr\"],on=\"Week\")\n",
    "        df[\"spread between 10 Yr treasury\"]=df[\"INTEREST RATE\"]-df[\"10 Yr\"]\n",
    "        df[\"Corr with 10 Yr treasury\"]=df[\"10 Yr\"].corr(df[\"INTEREST RATE\"])\n",
    "\n",
    "        df=df.merge(frame_trea[\"20 Yr\"],on=\"Week\")\n",
    "        df[\"spread between 20 Yr treasury\"]=df[\"INTEREST RATE\"]-df[\"20 Yr\"]\n",
    "        df[\"Corr with 20 Yr treasury\"]=df[\"20 Yr\"].corr(df[\"INTEREST RATE\"])\n",
    "\n",
    "        df=df.merge(frame_trea[\"30 Yr\"],on=\"Week\")\n",
    "        df[\"spread between 30 Yr treasury\"]=df[\"INTEREST RATE\"]-df[\"30 Yr\"]\n",
    "        df[\"Corr with 30 Yr treasury\"]=df[\"30 Yr\"].corr(df[\"INTEREST RATE\"])\n",
    "        df_list.append(df)\n",
    "    if len(df_list)!=0:\n",
    "        df_s=pd.concat(df_list).reset_index(drop=True)\n",
    "        df_s.to_csv(name+\".csv\",index=False)"
   ]
  },
  {
   "cell_type": "code",
   "execution_count": 12,
   "metadata": {},
   "outputs": [],
   "source": [
    "cities=[\"BOSTON\", \"PHILADELPHIA\", \"NEW YORK\", \"WASHINGTON\", \"CHICAGO\", \"LOS ANGELES\", \"ATLANTA\"]"
   ]
  },
  {
   "cell_type": "code",
   "execution_count": null,
   "metadata": {},
   "outputs": [],
   "source": []
  },
  {
   "cell_type": "code",
   "execution_count": 13,
   "metadata": {},
   "outputs": [],
   "source": [
    "hud_cat=pd.read_csv(\"HUD with Category.csv\")"
   ]
  },
  {
   "cell_type": "code",
   "execution_count": null,
   "metadata": {},
   "outputs": [],
   "source": []
  },
  {
   "cell_type": "code",
   "execution_count": 15,
   "metadata": {},
   "outputs": [],
   "source": [
    "health=pd.read_csv(\"City Data of HUD_Health Care Facilities.csv\")"
   ]
  },
  {
   "cell_type": "code",
   "execution_count": 16,
   "metadata": {},
   "outputs": [
    {
     "data": {
      "text/html": [
       "<div>\n",
       "<style scoped>\n",
       "    .dataframe tbody tr th:only-of-type {\n",
       "        vertical-align: middle;\n",
       "    }\n",
       "\n",
       "    .dataframe tbody tr th {\n",
       "        vertical-align: top;\n",
       "    }\n",
       "\n",
       "    .dataframe thead th {\n",
       "        text-align: right;\n",
       "    }\n",
       "</style>\n",
       "<table border=\"1\" class=\"dataframe\">\n",
       "  <thead>\n",
       "    <tr style=\"text-align: right;\">\n",
       "      <th></th>\n",
       "      <th>PROPERTY CITY</th>\n",
       "      <th>Week</th>\n",
       "      <th>INTEREST RATE</th>\n",
       "      <th>Category</th>\n",
       "      <th>ON</th>\n",
       "      <th>spread between libor ON</th>\n",
       "      <th>Corr with libor ON</th>\n",
       "      <th>1W</th>\n",
       "      <th>spread between libor 1W</th>\n",
       "      <th>Corr with libor 1W</th>\n",
       "      <th>...</th>\n",
       "      <th>Corr with 5 Yr treasury</th>\n",
       "      <th>10 Yr</th>\n",
       "      <th>spread between 10 Yr treasury</th>\n",
       "      <th>Corr with 10 Yr treasury</th>\n",
       "      <th>20 Yr</th>\n",
       "      <th>spread between 20 Yr treasury</th>\n",
       "      <th>Corr with 20 Yr treasury</th>\n",
       "      <th>30 Yr</th>\n",
       "      <th>spread between 30 Yr treasury</th>\n",
       "      <th>Corr with 30 Yr treasury</th>\n",
       "    </tr>\n",
       "  </thead>\n",
       "  <tbody>\n",
       "    <tr>\n",
       "      <td>0</td>\n",
       "      <td>ABERCEN</td>\n",
       "      <td>2013-08-26/2013-09-01</td>\n",
       "      <td>4.89</td>\n",
       "      <td>Health Care Facilities</td>\n",
       "      <td>0.117150</td>\n",
       "      <td>4.772850</td>\n",
       "      <td>NaN</td>\n",
       "      <td>0.148330</td>\n",
       "      <td>4.741670</td>\n",
       "      <td>NaN</td>\n",
       "      <td>...</td>\n",
       "      <td>NaN</td>\n",
       "      <td>2.7640</td>\n",
       "      <td>2.1260</td>\n",
       "      <td>NaN</td>\n",
       "      <td>3.476</td>\n",
       "      <td>1.414</td>\n",
       "      <td>NaN</td>\n",
       "      <td>3.724</td>\n",
       "      <td>1.166</td>\n",
       "      <td>NaN</td>\n",
       "    </tr>\n",
       "    <tr>\n",
       "      <td>1</td>\n",
       "      <td>ABERDEEN</td>\n",
       "      <td>2013-06-03/2013-06-09</td>\n",
       "      <td>2.93</td>\n",
       "      <td>Health Care Facilities</td>\n",
       "      <td>0.133340</td>\n",
       "      <td>2.796660</td>\n",
       "      <td>NaN</td>\n",
       "      <td>0.158510</td>\n",
       "      <td>2.771490</td>\n",
       "      <td>NaN</td>\n",
       "      <td>...</td>\n",
       "      <td>NaN</td>\n",
       "      <td>2.1240</td>\n",
       "      <td>0.8060</td>\n",
       "      <td>NaN</td>\n",
       "      <td>2.928</td>\n",
       "      <td>0.002</td>\n",
       "      <td>NaN</td>\n",
       "      <td>3.276</td>\n",
       "      <td>-0.346</td>\n",
       "      <td>NaN</td>\n",
       "    </tr>\n",
       "    <tr>\n",
       "      <td>2</td>\n",
       "      <td>ABILENE</td>\n",
       "      <td>2013-11-11/2013-11-17</td>\n",
       "      <td>4.17</td>\n",
       "      <td>Health Care Facilities</td>\n",
       "      <td>0.102100</td>\n",
       "      <td>4.067900</td>\n",
       "      <td>NaN</td>\n",
       "      <td>0.128410</td>\n",
       "      <td>4.041590</td>\n",
       "      <td>NaN</td>\n",
       "      <td>...</td>\n",
       "      <td>NaN</td>\n",
       "      <td>2.7375</td>\n",
       "      <td>1.4325</td>\n",
       "      <td>NaN</td>\n",
       "      <td>3.525</td>\n",
       "      <td>0.645</td>\n",
       "      <td>NaN</td>\n",
       "      <td>3.820</td>\n",
       "      <td>0.350</td>\n",
       "      <td>NaN</td>\n",
       "    </tr>\n",
       "    <tr>\n",
       "      <td>3</td>\n",
       "      <td>ABINGDON</td>\n",
       "      <td>2018-04-23/2018-04-29</td>\n",
       "      <td>3.98</td>\n",
       "      <td>Health Care Facilities</td>\n",
       "      <td>1.703380</td>\n",
       "      <td>2.276620</td>\n",
       "      <td>NaN</td>\n",
       "      <td>1.747002</td>\n",
       "      <td>2.232998</td>\n",
       "      <td>NaN</td>\n",
       "      <td>...</td>\n",
       "      <td>NaN</td>\n",
       "      <td>2.9940</td>\n",
       "      <td>0.9860</td>\n",
       "      <td>NaN</td>\n",
       "      <td>3.072</td>\n",
       "      <td>0.908</td>\n",
       "      <td>NaN</td>\n",
       "      <td>3.170</td>\n",
       "      <td>0.810</td>\n",
       "      <td>NaN</td>\n",
       "    </tr>\n",
       "    <tr>\n",
       "      <td>4</td>\n",
       "      <td>ACTON</td>\n",
       "      <td>2012-12-17/2012-12-23</td>\n",
       "      <td>2.50</td>\n",
       "      <td>Health Care Facilities</td>\n",
       "      <td>0.163600</td>\n",
       "      <td>2.336400</td>\n",
       "      <td>NaN</td>\n",
       "      <td>0.187000</td>\n",
       "      <td>2.313000</td>\n",
       "      <td>NaN</td>\n",
       "      <td>...</td>\n",
       "      <td>NaN</td>\n",
       "      <td>1.8040</td>\n",
       "      <td>0.6960</td>\n",
       "      <td>NaN</td>\n",
       "      <td>2.558</td>\n",
       "      <td>-0.058</td>\n",
       "      <td>NaN</td>\n",
       "      <td>2.968</td>\n",
       "      <td>-0.468</td>\n",
       "      <td>NaN</td>\n",
       "    </tr>\n",
       "    <tr>\n",
       "      <td>...</td>\n",
       "      <td>...</td>\n",
       "      <td>...</td>\n",
       "      <td>...</td>\n",
       "      <td>...</td>\n",
       "      <td>...</td>\n",
       "      <td>...</td>\n",
       "      <td>...</td>\n",
       "      <td>...</td>\n",
       "      <td>...</td>\n",
       "      <td>...</td>\n",
       "      <td>...</td>\n",
       "      <td>...</td>\n",
       "      <td>...</td>\n",
       "      <td>...</td>\n",
       "      <td>...</td>\n",
       "      <td>...</td>\n",
       "      <td>...</td>\n",
       "      <td>...</td>\n",
       "      <td>...</td>\n",
       "      <td>...</td>\n",
       "      <td>...</td>\n",
       "    </tr>\n",
       "    <tr>\n",
       "      <td>3421</td>\n",
       "      <td>YUMA</td>\n",
       "      <td>2015-10-26/2015-11-01</td>\n",
       "      <td>3.52</td>\n",
       "      <td>Health Care Facilities</td>\n",
       "      <td>0.130360</td>\n",
       "      <td>3.389640</td>\n",
       "      <td>-0.768248</td>\n",
       "      <td>0.154440</td>\n",
       "      <td>3.365560</td>\n",
       "      <td>-0.763337</td>\n",
       "      <td>...</td>\n",
       "      <td>-0.637098</td>\n",
       "      <td>2.1140</td>\n",
       "      <td>1.4060</td>\n",
       "      <td>0.806346</td>\n",
       "      <td>2.530</td>\n",
       "      <td>0.990</td>\n",
       "      <td>0.917387</td>\n",
       "      <td>2.898</td>\n",
       "      <td>0.622</td>\n",
       "      <td>0.956323</td>\n",
       "    </tr>\n",
       "    <tr>\n",
       "      <td>3422</td>\n",
       "      <td>YUMA</td>\n",
       "      <td>2017-11-13/2017-11-19</td>\n",
       "      <td>3.29</td>\n",
       "      <td>Health Care Facilities</td>\n",
       "      <td>1.182780</td>\n",
       "      <td>2.107220</td>\n",
       "      <td>-0.768248</td>\n",
       "      <td>1.203502</td>\n",
       "      <td>2.086498</td>\n",
       "      <td>-0.763337</td>\n",
       "      <td>...</td>\n",
       "      <td>-0.637098</td>\n",
       "      <td>2.3660</td>\n",
       "      <td>0.9240</td>\n",
       "      <td>0.806346</td>\n",
       "      <td>2.620</td>\n",
       "      <td>0.670</td>\n",
       "      <td>0.917387</td>\n",
       "      <td>2.814</td>\n",
       "      <td>0.476</td>\n",
       "      <td>0.956323</td>\n",
       "    </tr>\n",
       "    <tr>\n",
       "      <td>3423</td>\n",
       "      <td>ZABULON</td>\n",
       "      <td>2014-09-29/2014-10-05</td>\n",
       "      <td>3.67</td>\n",
       "      <td>Health Care Facilities</td>\n",
       "      <td>0.088300</td>\n",
       "      <td>3.581700</td>\n",
       "      <td>NaN</td>\n",
       "      <td>0.119340</td>\n",
       "      <td>3.550660</td>\n",
       "      <td>NaN</td>\n",
       "      <td>...</td>\n",
       "      <td>NaN</td>\n",
       "      <td>2.4660</td>\n",
       "      <td>1.2040</td>\n",
       "      <td>NaN</td>\n",
       "      <td>2.918</td>\n",
       "      <td>0.752</td>\n",
       "      <td>NaN</td>\n",
       "      <td>3.158</td>\n",
       "      <td>0.512</td>\n",
       "      <td>NaN</td>\n",
       "    </tr>\n",
       "    <tr>\n",
       "      <td>3424</td>\n",
       "      <td>ZANESVILLE</td>\n",
       "      <td>2018-09-10/2018-09-16</td>\n",
       "      <td>4.19</td>\n",
       "      <td>Health Care Facilities</td>\n",
       "      <td>1.917654</td>\n",
       "      <td>2.272346</td>\n",
       "      <td>NaN</td>\n",
       "      <td>1.961550</td>\n",
       "      <td>2.228450</td>\n",
       "      <td>NaN</td>\n",
       "      <td>...</td>\n",
       "      <td>NaN</td>\n",
       "      <td>2.9700</td>\n",
       "      <td>1.2200</td>\n",
       "      <td>NaN</td>\n",
       "      <td>3.046</td>\n",
       "      <td>1.144</td>\n",
       "      <td>NaN</td>\n",
       "      <td>3.114</td>\n",
       "      <td>1.076</td>\n",
       "      <td>NaN</td>\n",
       "    </tr>\n",
       "    <tr>\n",
       "      <td>3425</td>\n",
       "      <td>ZION</td>\n",
       "      <td>2019-02-11/2019-02-17</td>\n",
       "      <td>4.42</td>\n",
       "      <td>Health Care Facilities</td>\n",
       "      <td>2.384776</td>\n",
       "      <td>2.035224</td>\n",
       "      <td>NaN</td>\n",
       "      <td>2.415078</td>\n",
       "      <td>2.004922</td>\n",
       "      <td>NaN</td>\n",
       "      <td>...</td>\n",
       "      <td>NaN</td>\n",
       "      <td>2.6720</td>\n",
       "      <td>1.7480</td>\n",
       "      <td>NaN</td>\n",
       "      <td>2.860</td>\n",
       "      <td>1.560</td>\n",
       "      <td>NaN</td>\n",
       "      <td>3.014</td>\n",
       "      <td>1.406</td>\n",
       "      <td>NaN</td>\n",
       "    </tr>\n",
       "  </tbody>\n",
       "</table>\n",
       "<p>3426 rows × 46 columns</p>\n",
       "</div>"
      ],
      "text/plain": [
       "     PROPERTY CITY                   Week  INTEREST RATE  \\\n",
       "0          ABERCEN  2013-08-26/2013-09-01           4.89   \n",
       "1         ABERDEEN  2013-06-03/2013-06-09           2.93   \n",
       "2          ABILENE  2013-11-11/2013-11-17           4.17   \n",
       "3         ABINGDON  2018-04-23/2018-04-29           3.98   \n",
       "4            ACTON  2012-12-17/2012-12-23           2.50   \n",
       "...            ...                    ...            ...   \n",
       "3421          YUMA  2015-10-26/2015-11-01           3.52   \n",
       "3422          YUMA  2017-11-13/2017-11-19           3.29   \n",
       "3423       ZABULON  2014-09-29/2014-10-05           3.67   \n",
       "3424    ZANESVILLE  2018-09-10/2018-09-16           4.19   \n",
       "3425          ZION  2019-02-11/2019-02-17           4.42   \n",
       "\n",
       "                    Category        ON  spread between libor ON  \\\n",
       "0     Health Care Facilities  0.117150                 4.772850   \n",
       "1     Health Care Facilities  0.133340                 2.796660   \n",
       "2     Health Care Facilities  0.102100                 4.067900   \n",
       "3     Health Care Facilities  1.703380                 2.276620   \n",
       "4     Health Care Facilities  0.163600                 2.336400   \n",
       "...                      ...       ...                      ...   \n",
       "3421  Health Care Facilities  0.130360                 3.389640   \n",
       "3422  Health Care Facilities  1.182780                 2.107220   \n",
       "3423  Health Care Facilities  0.088300                 3.581700   \n",
       "3424  Health Care Facilities  1.917654                 2.272346   \n",
       "3425  Health Care Facilities  2.384776                 2.035224   \n",
       "\n",
       "      Corr with libor ON        1W  spread between libor 1W  \\\n",
       "0                    NaN  0.148330                 4.741670   \n",
       "1                    NaN  0.158510                 2.771490   \n",
       "2                    NaN  0.128410                 4.041590   \n",
       "3                    NaN  1.747002                 2.232998   \n",
       "4                    NaN  0.187000                 2.313000   \n",
       "...                  ...       ...                      ...   \n",
       "3421           -0.768248  0.154440                 3.365560   \n",
       "3422           -0.768248  1.203502                 2.086498   \n",
       "3423                 NaN  0.119340                 3.550660   \n",
       "3424                 NaN  1.961550                 2.228450   \n",
       "3425                 NaN  2.415078                 2.004922   \n",
       "\n",
       "      Corr with libor 1W  ...  Corr with 5 Yr treasury   10 Yr  \\\n",
       "0                    NaN  ...                      NaN  2.7640   \n",
       "1                    NaN  ...                      NaN  2.1240   \n",
       "2                    NaN  ...                      NaN  2.7375   \n",
       "3                    NaN  ...                      NaN  2.9940   \n",
       "4                    NaN  ...                      NaN  1.8040   \n",
       "...                  ...  ...                      ...     ...   \n",
       "3421           -0.763337  ...                -0.637098  2.1140   \n",
       "3422           -0.763337  ...                -0.637098  2.3660   \n",
       "3423                 NaN  ...                      NaN  2.4660   \n",
       "3424                 NaN  ...                      NaN  2.9700   \n",
       "3425                 NaN  ...                      NaN  2.6720   \n",
       "\n",
       "      spread between 10 Yr treasury  Corr with 10 Yr treasury  20 Yr  \\\n",
       "0                            2.1260                       NaN  3.476   \n",
       "1                            0.8060                       NaN  2.928   \n",
       "2                            1.4325                       NaN  3.525   \n",
       "3                            0.9860                       NaN  3.072   \n",
       "4                            0.6960                       NaN  2.558   \n",
       "...                             ...                       ...    ...   \n",
       "3421                         1.4060                  0.806346  2.530   \n",
       "3422                         0.9240                  0.806346  2.620   \n",
       "3423                         1.2040                       NaN  2.918   \n",
       "3424                         1.2200                       NaN  3.046   \n",
       "3425                         1.7480                       NaN  2.860   \n",
       "\n",
       "      spread between 20 Yr treasury  Corr with 20 Yr treasury  30 Yr  \\\n",
       "0                             1.414                       NaN  3.724   \n",
       "1                             0.002                       NaN  3.276   \n",
       "2                             0.645                       NaN  3.820   \n",
       "3                             0.908                       NaN  3.170   \n",
       "4                            -0.058                       NaN  2.968   \n",
       "...                             ...                       ...    ...   \n",
       "3421                          0.990                  0.917387  2.898   \n",
       "3422                          0.670                  0.917387  2.814   \n",
       "3423                          0.752                       NaN  3.158   \n",
       "3424                          1.144                       NaN  3.114   \n",
       "3425                          1.560                       NaN  3.014   \n",
       "\n",
       "      spread between 30 Yr treasury  Corr with 30 Yr treasury  \n",
       "0                             1.166                       NaN  \n",
       "1                            -0.346                       NaN  \n",
       "2                             0.350                       NaN  \n",
       "3                             0.810                       NaN  \n",
       "4                            -0.468                       NaN  \n",
       "...                             ...                       ...  \n",
       "3421                          0.622                  0.956323  \n",
       "3422                          0.476                  0.956323  \n",
       "3423                          0.512                       NaN  \n",
       "3424                          1.076                       NaN  \n",
       "3425                          1.406                       NaN  \n",
       "\n",
       "[3426 rows x 46 columns]"
      ]
     },
     "execution_count": 16,
     "metadata": {},
     "output_type": "execute_result"
    }
   ],
   "source": [
    "health"
   ]
  },
  {
   "cell_type": "code",
   "execution_count": null,
   "metadata": {},
   "outputs": [],
   "source": []
  },
  {
   "cell_type": "code",
   "execution_count": null,
   "metadata": {},
   "outputs": [],
   "source": []
  },
  {
   "cell_type": "code",
   "execution_count": null,
   "metadata": {},
   "outputs": [],
   "source": []
  },
  {
   "cell_type": "code",
   "execution_count": null,
   "metadata": {},
   "outputs": [],
   "source": []
  },
  {
   "cell_type": "code",
   "execution_count": null,
   "metadata": {},
   "outputs": [],
   "source": []
  }
 ],
 "metadata": {
  "kernelspec": {
   "display_name": "Python 3",
   "language": "python",
   "name": "python3"
  },
  "language_info": {
   "codemirror_mode": {
    "name": "ipython",
    "version": 3
   },
   "file_extension": ".py",
   "mimetype": "text/x-python",
   "name": "python",
   "nbconvert_exporter": "python",
   "pygments_lexer": "ipython3",
   "version": "3.6.5"
  }
 },
 "nbformat": 4,
 "nbformat_minor": 2
}
