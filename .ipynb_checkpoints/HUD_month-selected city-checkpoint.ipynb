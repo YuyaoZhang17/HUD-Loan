{
 "cells": [
  {
   "cell_type": "code",
   "execution_count": 1,
   "metadata": {},
   "outputs": [],
   "source": [
    "import pandas as pd\n",
    "import numpy as np\n",
    "import datetime\n",
    "import glob"
   ]
  },
  {
   "cell_type": "code",
   "execution_count": 2,
   "metadata": {},
   "outputs": [],
   "source": [
    "start=\"2009-10-14\""
   ]
  },
  {
   "cell_type": "code",
   "execution_count": 3,
   "metadata": {},
   "outputs": [],
   "source": [
    "libor=pd.read_csv(\"LIBOR USD.csv\")"
   ]
  },
  {
   "cell_type": "code",
   "execution_count": 4,
   "metadata": {},
   "outputs": [],
   "source": [
    "libor[\"Date\"]=libor[\"Date\"].map(lambda x:pd.to_datetime(x,format='%d.%m.%Y'))"
   ]
  },
  {
   "cell_type": "code",
   "execution_count": 5,
   "metadata": {},
   "outputs": [],
   "source": [
    "libor[\"Month\"]=libor[\"Date\"].map(lambda x:x.to_period(\"M\"))"
   ]
  },
  {
   "cell_type": "code",
   "execution_count": 6,
   "metadata": {},
   "outputs": [],
   "source": [
    "libor=libor.sort_values(\"Date\")"
   ]
  },
  {
   "cell_type": "code",
   "execution_count": 7,
   "metadata": {},
   "outputs": [],
   "source": [
    "libor=libor[libor[\"Date\"]>start]\n",
    "libor=libor.groupby(\"Month\")[\"ON\",\"1W\",\"1M\",\"2M\",\"3M\",\"6M\",\"12M\"].mean()"
   ]
  },
  {
   "cell_type": "code",
   "execution_count": 8,
   "metadata": {},
   "outputs": [],
   "source": [
    "path_trea =r'./Treasury' \n",
    "allFiles_trea = glob.glob(path_trea + \"/*.csv\")\n",
    "frame_trea = pd.DataFrame()\n",
    "list_trea = []\n",
    "for file_trea in allFiles_trea:\n",
    "    df_trea = pd.read_csv(file_trea,index_col=\"Date\", header=0)\n",
    "    list_trea.append(df_trea)\n",
    "frame_trea=pd.concat(list_trea)"
   ]
  },
  {
   "cell_type": "code",
   "execution_count": 9,
   "metadata": {},
   "outputs": [],
   "source": [
    "frame_trea.index=frame_trea.index.map(lambda x:pd.to_datetime(x,format='%m/%d/%Y'))"
   ]
  },
  {
   "cell_type": "code",
   "execution_count": 10,
   "metadata": {},
   "outputs": [],
   "source": [
    "frame_trea[\"Month\"]=frame_trea.index.map(lambda x:x.to_period(\"M\"))"
   ]
  },
  {
   "cell_type": "code",
   "execution_count": 11,
   "metadata": {},
   "outputs": [],
   "source": [
    "frame_trea.to_csv(\"Treasury_month.csv\")"
   ]
  },
  {
   "cell_type": "code",
   "execution_count": 12,
   "metadata": {},
   "outputs": [],
   "source": [
    "frame_trea=frame_trea[frame_trea.index>start]\n",
    "frame_trea=frame_trea.groupby(\"Month\")[\"1 Mo\",\"6 Mo\",\"1 Yr\",\"5 Yr\",\"10 Yr\",\"20 Yr\",\"30 Yr\"].mean()"
   ]
  },
  {
   "cell_type": "code",
   "execution_count": 13,
   "metadata": {},
   "outputs": [],
   "source": [
    "hud=pd.read_csv(\"RM-A_09-30-2019.csv\")"
   ]
  },
  {
   "cell_type": "code",
   "execution_count": 14,
   "metadata": {},
   "outputs": [],
   "source": [
    "hud[\"DATE\"]=hud[\"INITIAL ENDORSEMENT DATE\"].map(lambda x:pd.to_datetime(x,format='%m/%d/%Y'))"
   ]
  },
  {
   "cell_type": "code",
   "execution_count": 15,
   "metadata": {},
   "outputs": [],
   "source": [
    "hud[\"Month\"]=hud[\"DATE\"].map(lambda x:x.to_period(\"M\"))"
   ]
  },
  {
   "cell_type": "code",
   "execution_count": 16,
   "metadata": {},
   "outputs": [],
   "source": [
    "hud=hud[hud[\"DATE\"]>start].reset_index()"
   ]
  },
  {
   "cell_type": "code",
   "execution_count": 17,
   "metadata": {},
   "outputs": [],
   "source": [
    "cities=[\"BOSTON\", \"PHILADELPHIA\", \"NEW YORK\", \"WASHINGTON\", \"CHICAGO\", \"LOS ANGELES\", \"ATLANTA\"]"
   ]
  },
  {
   "cell_type": "code",
   "execution_count": 18,
   "metadata": {},
   "outputs": [
    {
     "ename": "FileNotFoundError",
     "evalue": "[Errno 2] File b'HUD with Category_month.csv' does not exist: b'HUD with Category_month.csv'",
     "output_type": "error",
     "traceback": [
      "\u001b[1;31m---------------------------------------------------------------------------\u001b[0m",
      "\u001b[1;31mFileNotFoundError\u001b[0m                         Traceback (most recent call last)",
      "\u001b[1;32m<ipython-input-18-cf4c6f0fd355>\u001b[0m in \u001b[0;36m<module>\u001b[1;34m\u001b[0m\n\u001b[1;32m----> 1\u001b[1;33m \u001b[0mhud_cat\u001b[0m\u001b[1;33m=\u001b[0m\u001b[0mpd\u001b[0m\u001b[1;33m.\u001b[0m\u001b[0mread_csv\u001b[0m\u001b[1;33m(\u001b[0m\u001b[1;34m\"HUD with Category_month.csv\"\u001b[0m\u001b[1;33m)\u001b[0m\u001b[1;33m\u001b[0m\u001b[1;33m\u001b[0m\u001b[0m\n\u001b[0m",
      "\u001b[1;32m~\\Anaconda3\\lib\\site-packages\\pandas\\io\\parsers.py\u001b[0m in \u001b[0;36mparser_f\u001b[1;34m(filepath_or_buffer, sep, delimiter, header, names, index_col, usecols, squeeze, prefix, mangle_dupe_cols, dtype, engine, converters, true_values, false_values, skipinitialspace, skiprows, skipfooter, nrows, na_values, keep_default_na, na_filter, verbose, skip_blank_lines, parse_dates, infer_datetime_format, keep_date_col, date_parser, dayfirst, cache_dates, iterator, chunksize, compression, thousands, decimal, lineterminator, quotechar, quoting, doublequote, escapechar, comment, encoding, dialect, error_bad_lines, warn_bad_lines, delim_whitespace, low_memory, memory_map, float_precision)\u001b[0m\n\u001b[0;32m    683\u001b[0m         )\n\u001b[0;32m    684\u001b[0m \u001b[1;33m\u001b[0m\u001b[0m\n\u001b[1;32m--> 685\u001b[1;33m         \u001b[1;32mreturn\u001b[0m \u001b[0m_read\u001b[0m\u001b[1;33m(\u001b[0m\u001b[0mfilepath_or_buffer\u001b[0m\u001b[1;33m,\u001b[0m \u001b[0mkwds\u001b[0m\u001b[1;33m)\u001b[0m\u001b[1;33m\u001b[0m\u001b[1;33m\u001b[0m\u001b[0m\n\u001b[0m\u001b[0;32m    686\u001b[0m \u001b[1;33m\u001b[0m\u001b[0m\n\u001b[0;32m    687\u001b[0m     \u001b[0mparser_f\u001b[0m\u001b[1;33m.\u001b[0m\u001b[0m__name__\u001b[0m \u001b[1;33m=\u001b[0m \u001b[0mname\u001b[0m\u001b[1;33m\u001b[0m\u001b[1;33m\u001b[0m\u001b[0m\n",
      "\u001b[1;32m~\\Anaconda3\\lib\\site-packages\\pandas\\io\\parsers.py\u001b[0m in \u001b[0;36m_read\u001b[1;34m(filepath_or_buffer, kwds)\u001b[0m\n\u001b[0;32m    455\u001b[0m \u001b[1;33m\u001b[0m\u001b[0m\n\u001b[0;32m    456\u001b[0m     \u001b[1;31m# Create the parser.\u001b[0m\u001b[1;33m\u001b[0m\u001b[1;33m\u001b[0m\u001b[1;33m\u001b[0m\u001b[0m\n\u001b[1;32m--> 457\u001b[1;33m     \u001b[0mparser\u001b[0m \u001b[1;33m=\u001b[0m \u001b[0mTextFileReader\u001b[0m\u001b[1;33m(\u001b[0m\u001b[0mfp_or_buf\u001b[0m\u001b[1;33m,\u001b[0m \u001b[1;33m**\u001b[0m\u001b[0mkwds\u001b[0m\u001b[1;33m)\u001b[0m\u001b[1;33m\u001b[0m\u001b[1;33m\u001b[0m\u001b[0m\n\u001b[0m\u001b[0;32m    458\u001b[0m \u001b[1;33m\u001b[0m\u001b[0m\n\u001b[0;32m    459\u001b[0m     \u001b[1;32mif\u001b[0m \u001b[0mchunksize\u001b[0m \u001b[1;32mor\u001b[0m \u001b[0miterator\u001b[0m\u001b[1;33m:\u001b[0m\u001b[1;33m\u001b[0m\u001b[1;33m\u001b[0m\u001b[0m\n",
      "\u001b[1;32m~\\Anaconda3\\lib\\site-packages\\pandas\\io\\parsers.py\u001b[0m in \u001b[0;36m__init__\u001b[1;34m(self, f, engine, **kwds)\u001b[0m\n\u001b[0;32m    893\u001b[0m             \u001b[0mself\u001b[0m\u001b[1;33m.\u001b[0m\u001b[0moptions\u001b[0m\u001b[1;33m[\u001b[0m\u001b[1;34m\"has_index_names\"\u001b[0m\u001b[1;33m]\u001b[0m \u001b[1;33m=\u001b[0m \u001b[0mkwds\u001b[0m\u001b[1;33m[\u001b[0m\u001b[1;34m\"has_index_names\"\u001b[0m\u001b[1;33m]\u001b[0m\u001b[1;33m\u001b[0m\u001b[1;33m\u001b[0m\u001b[0m\n\u001b[0;32m    894\u001b[0m \u001b[1;33m\u001b[0m\u001b[0m\n\u001b[1;32m--> 895\u001b[1;33m         \u001b[0mself\u001b[0m\u001b[1;33m.\u001b[0m\u001b[0m_make_engine\u001b[0m\u001b[1;33m(\u001b[0m\u001b[0mself\u001b[0m\u001b[1;33m.\u001b[0m\u001b[0mengine\u001b[0m\u001b[1;33m)\u001b[0m\u001b[1;33m\u001b[0m\u001b[1;33m\u001b[0m\u001b[0m\n\u001b[0m\u001b[0;32m    896\u001b[0m \u001b[1;33m\u001b[0m\u001b[0m\n\u001b[0;32m    897\u001b[0m     \u001b[1;32mdef\u001b[0m \u001b[0mclose\u001b[0m\u001b[1;33m(\u001b[0m\u001b[0mself\u001b[0m\u001b[1;33m)\u001b[0m\u001b[1;33m:\u001b[0m\u001b[1;33m\u001b[0m\u001b[1;33m\u001b[0m\u001b[0m\n",
      "\u001b[1;32m~\\Anaconda3\\lib\\site-packages\\pandas\\io\\parsers.py\u001b[0m in \u001b[0;36m_make_engine\u001b[1;34m(self, engine)\u001b[0m\n\u001b[0;32m   1133\u001b[0m     \u001b[1;32mdef\u001b[0m \u001b[0m_make_engine\u001b[0m\u001b[1;33m(\u001b[0m\u001b[0mself\u001b[0m\u001b[1;33m,\u001b[0m \u001b[0mengine\u001b[0m\u001b[1;33m=\u001b[0m\u001b[1;34m\"c\"\u001b[0m\u001b[1;33m)\u001b[0m\u001b[1;33m:\u001b[0m\u001b[1;33m\u001b[0m\u001b[1;33m\u001b[0m\u001b[0m\n\u001b[0;32m   1134\u001b[0m         \u001b[1;32mif\u001b[0m \u001b[0mengine\u001b[0m \u001b[1;33m==\u001b[0m \u001b[1;34m\"c\"\u001b[0m\u001b[1;33m:\u001b[0m\u001b[1;33m\u001b[0m\u001b[1;33m\u001b[0m\u001b[0m\n\u001b[1;32m-> 1135\u001b[1;33m             \u001b[0mself\u001b[0m\u001b[1;33m.\u001b[0m\u001b[0m_engine\u001b[0m \u001b[1;33m=\u001b[0m \u001b[0mCParserWrapper\u001b[0m\u001b[1;33m(\u001b[0m\u001b[0mself\u001b[0m\u001b[1;33m.\u001b[0m\u001b[0mf\u001b[0m\u001b[1;33m,\u001b[0m \u001b[1;33m**\u001b[0m\u001b[0mself\u001b[0m\u001b[1;33m.\u001b[0m\u001b[0moptions\u001b[0m\u001b[1;33m)\u001b[0m\u001b[1;33m\u001b[0m\u001b[1;33m\u001b[0m\u001b[0m\n\u001b[0m\u001b[0;32m   1136\u001b[0m         \u001b[1;32melse\u001b[0m\u001b[1;33m:\u001b[0m\u001b[1;33m\u001b[0m\u001b[1;33m\u001b[0m\u001b[0m\n\u001b[0;32m   1137\u001b[0m             \u001b[1;32mif\u001b[0m \u001b[0mengine\u001b[0m \u001b[1;33m==\u001b[0m \u001b[1;34m\"python\"\u001b[0m\u001b[1;33m:\u001b[0m\u001b[1;33m\u001b[0m\u001b[1;33m\u001b[0m\u001b[0m\n",
      "\u001b[1;32m~\\Anaconda3\\lib\\site-packages\\pandas\\io\\parsers.py\u001b[0m in \u001b[0;36m__init__\u001b[1;34m(self, src, **kwds)\u001b[0m\n\u001b[0;32m   1915\u001b[0m         \u001b[0mkwds\u001b[0m\u001b[1;33m[\u001b[0m\u001b[1;34m\"usecols\"\u001b[0m\u001b[1;33m]\u001b[0m \u001b[1;33m=\u001b[0m \u001b[0mself\u001b[0m\u001b[1;33m.\u001b[0m\u001b[0musecols\u001b[0m\u001b[1;33m\u001b[0m\u001b[1;33m\u001b[0m\u001b[0m\n\u001b[0;32m   1916\u001b[0m \u001b[1;33m\u001b[0m\u001b[0m\n\u001b[1;32m-> 1917\u001b[1;33m         \u001b[0mself\u001b[0m\u001b[1;33m.\u001b[0m\u001b[0m_reader\u001b[0m \u001b[1;33m=\u001b[0m \u001b[0mparsers\u001b[0m\u001b[1;33m.\u001b[0m\u001b[0mTextReader\u001b[0m\u001b[1;33m(\u001b[0m\u001b[0msrc\u001b[0m\u001b[1;33m,\u001b[0m \u001b[1;33m**\u001b[0m\u001b[0mkwds\u001b[0m\u001b[1;33m)\u001b[0m\u001b[1;33m\u001b[0m\u001b[1;33m\u001b[0m\u001b[0m\n\u001b[0m\u001b[0;32m   1918\u001b[0m         \u001b[0mself\u001b[0m\u001b[1;33m.\u001b[0m\u001b[0munnamed_cols\u001b[0m \u001b[1;33m=\u001b[0m \u001b[0mself\u001b[0m\u001b[1;33m.\u001b[0m\u001b[0m_reader\u001b[0m\u001b[1;33m.\u001b[0m\u001b[0munnamed_cols\u001b[0m\u001b[1;33m\u001b[0m\u001b[1;33m\u001b[0m\u001b[0m\n\u001b[0;32m   1919\u001b[0m \u001b[1;33m\u001b[0m\u001b[0m\n",
      "\u001b[1;32mpandas\\_libs\\parsers.pyx\u001b[0m in \u001b[0;36mpandas._libs.parsers.TextReader.__cinit__\u001b[1;34m()\u001b[0m\n",
      "\u001b[1;32mpandas\\_libs\\parsers.pyx\u001b[0m in \u001b[0;36mpandas._libs.parsers.TextReader._setup_parser_source\u001b[1;34m()\u001b[0m\n",
      "\u001b[1;31mFileNotFoundError\u001b[0m: [Errno 2] File b'HUD with Category_month.csv' does not exist: b'HUD with Category_month.csv'"
     ]
    }
   ],
   "source": [
    "hud_cat=pd.read_csv(\"HUD with Category_month.csv\")"
   ]
  },
  {
   "cell_type": "code",
   "execution_count": 32,
   "metadata": {},
   "outputs": [],
   "source": [
    "hud=hud.groupby([\"PROPERTY CITY\",\"Month\"])[\"INTEREST RATE\"].mean()\n",
    "hud=hud.reset_index([\"PROPERTY CITY\",\"Month\"])\n",
    "hud=hud[hud[\"PROPERTY CITY\"].contains(cities)]"
   ]
  },
  {
   "cell_type": "code",
   "execution_count": 33,
   "metadata": {},
   "outputs": [],
   "source": [
    "city=hud[\"PROPERTY CITY\"].unique()\n",
    "df_list=[]\n",
    "df_s=pd.DataFrame()\n",
    "for i in range(len(city)):\n",
    "    df=hud[hud[\"PROPERTY CITY\"]==city[i]]\n",
    "    df=df.merge(libor[\"ON\"],on=\"Month\")\n",
    "    df[\"spread between libor ON\"]=df[\"INTEREST RATE\"]-df[\"ON\"]\n",
    "    df[\"Corr with libor ON\"]=df[\"ON\"].corr(df[\"INTEREST RATE\"])\n",
    "    \n",
    "    df=df.merge(libor[\"1W\"],on=\"Month\")\n",
    "    df[\"spread between libor 1W\"]=df[\"INTEREST RATE\"]-df[\"1W\"]\n",
    "    df[\"Corr with libor 1W\"]=df[\"1W\"].corr(df[\"INTEREST RATE\"])\n",
    "    \n",
    "    df=df.merge(libor[\"1M\"],on=\"Month\")\n",
    "    df[\"spread between libor 1M\"]=df[\"INTEREST RATE\"]-df[\"1M\"]\n",
    "    df[\"Corr with libor 1M\"]=df[\"1M\"].corr(df[\"INTEREST RATE\"])\n",
    "    \n",
    "    df=df.merge(libor[\"2M\"],on=\"Month\")\n",
    "    df[\"spread between libor 2M\"]=df[\"INTEREST RATE\"]-df[\"2M\"]\n",
    "    df[\"Corr with libor 2M\"]=df[\"2M\"].corr(df[\"INTEREST RATE\"])\n",
    "    \n",
    "    df=df.merge(libor[\"3M\"],on=\"Month\")\n",
    "    df[\"spread between libor 3M\"]=df[\"INTEREST RATE\"]-df[\"3M\"]\n",
    "    df[\"Corr with libor 3M\"]=df[\"3M\"].corr(df[\"INTEREST RATE\"])\n",
    "    \n",
    "    df=df.merge(libor[\"6M\"],on=\"Month\")\n",
    "    df[\"spread between libor 6M\"]=df[\"INTEREST RATE\"]-df[\"6M\"]\n",
    "    df[\"Corr with libor 6M\"]=df[\"6M\"].corr(df[\"INTEREST RATE\"])\n",
    "    \n",
    "    df=df.merge(libor[\"12M\"],on=\"Month\")\n",
    "    df[\"spread between libor 12M\"]=df[\"INTEREST RATE\"]-df[\"12M\"]\n",
    "    df[\"Corr with libor 12M\"]=df[\"12M\"].corr(df[\"INTEREST RATE\"])\n",
    "\n",
    "    df=df.merge(frame_trea[\"1 Mo\"],on=\"Month\")\n",
    "    df[\"spread between 1 Mo treasury\"]=df[\"INTEREST RATE\"]-df[\"1 Mo\"]\n",
    "    df[\"Corr with 1 Mo treasury\"]=df[\"1 Mo\"].corr(df[\"INTEREST RATE\"])\n",
    "    \n",
    "    df=df.merge(frame_trea[\"6 Mo\"],on=\"Month\")\n",
    "    df[\"spread between 6 Mo treasury\"]=df[\"INTEREST RATE\"]-df[\"6 Mo\"]\n",
    "    df[\"Corr with 6 Mo treasury\"]=df[\"6 Mo\"].corr(df[\"INTEREST RATE\"])\n",
    "    \n",
    "    df=df.merge(frame_trea[\"1 Yr\"],on=\"Month\")\n",
    "    df[\"spread between 1 Yr treasury\"]=df[\"INTEREST RATE\"]-df[\"1 Yr\"]\n",
    "    df[\"Corr with 1 Yr treasury\"]=df[\"1 Yr\"].corr(df[\"INTEREST RATE\"])\n",
    "    \n",
    "    df=df.merge(frame_trea[\"5 Yr\"],on=\"Month\")\n",
    "    df[\"spread between 5 Yr treasury\"]=df[\"INTEREST RATE\"]-df[\"5 Yr\"]\n",
    "    df[\"Corr with 5 Yr treasury\"]=df[\"5 Yr\"].corr(df[\"INTEREST RATE\"])\n",
    "    \n",
    "    df=df.merge(frame_trea[\"10 Yr\"],on=\"Month\")\n",
    "    df[\"spread between 10 Yr treasury\"]=df[\"INTEREST RATE\"]-df[\"10 Yr\"]\n",
    "    df[\"Corr with 10 Yr treasury\"]=df[\"10 Yr\"].corr(df[\"INTEREST RATE\"])\n",
    "    \n",
    "    df=df.merge(frame_trea[\"20 Yr\"],on=\"Month\")\n",
    "    df[\"spread between 20 Yr treasury\"]=df[\"INTEREST RATE\"]-df[\"20 Yr\"]\n",
    "    df[\"Corr with 20 Yr treasury\"]=df[\"20 Yr\"].corr(df[\"INTEREST RATE\"])\n",
    "    \n",
    "    df=df.merge(frame_trea[\"30 Yr\"],on=\"Month\")\n",
    "    df[\"spread between 30 Yr treasury\"]=df[\"INTEREST RATE\"]-df[\"30 Yr\"]\n",
    "    df[\"Corr with 30 Yr treasury\"]=df[\"30 Yr\"].corr(df[\"INTEREST RATE\"])\n",
    "    df_list.append(df)\n",
    "df_s=pd.concat(df_list).reset_index(drop=True)\n",
    "\n",
    "\n",
    "df_s.to_csv(\"City Data of HUD_month.csv\",index=False)"
   ]
  },
  {
   "cell_type": "code",
   "execution_count": 36,
   "metadata": {},
   "outputs": [],
   "source": [
    "categories=[\"Risk Sharing\",\"New Construction\",\"Refinancing_Purchase of Apartments_Coops\",\n",
    "     \"Refinancing of Apt\",\"Improvements_Additions for Apartments_Coops\",\"Other FHA\",\"Health Care Facilities\",\n",
    "     \"Hospitals and Group Practices\"]\n",
    "\n",
    "for i in range(len(categories)):\n",
    "    hud_sub=hud_cat[hud_cat[\"Category\"].str.contains(categories[i],regex=False)]\n",
    "    hud_sub=hud_sub.groupby([\"PROPERTY CITY\",\"Month\"])[\"INTEREST RATE\"].mean()\n",
    "    hud_sub=hud_sub.reset_index([\"PROPERTY CITY\",\"Month\"])\n",
    "    hud_sub[\"Category\"]=categories[i]\n",
    "    city=hud_sub[\"PROPERTY CITY\"].unique()\n",
    "    df_list=[]\n",
    "    df_s=pd.DataFrame()\n",
    "    name=\"month/City Data of HUD_\"+categories[i]\n",
    "    for i in range(len(city)):\n",
    "        df=hud_sub[hud_sub[\"PROPERTY CITY\"]==city[i]]\n",
    "        df=df.merge(libor[\"ON\"],on=\"Month\")\n",
    "        df[\"spread between libor ON\"]=df[\"INTEREST RATE\"]-df[\"ON\"]\n",
    "        df[\"Corr with libor ON\"]=df[\"ON\"].corr(df[\"INTEREST RATE\"])\n",
    "\n",
    "        df=df.merge(libor[\"1W\"],on=\"Month\")\n",
    "        df[\"spread between libor 1W\"]=df[\"INTEREST RATE\"]-df[\"1W\"]\n",
    "        df[\"Corr with libor 1W\"]=df[\"1W\"].corr(df[\"INTEREST RATE\"])\n",
    "\n",
    "        df=df.merge(libor[\"1M\"],on=\"Month\")\n",
    "        df[\"spread between libor 1M\"]=df[\"INTEREST RATE\"]-df[\"1M\"]\n",
    "        df[\"Corr with libor 1M\"]=df[\"1M\"].corr(df[\"INTEREST RATE\"])\n",
    "\n",
    "        df=df.merge(libor[\"2M\"],on=\"Month\")\n",
    "        df[\"spread between libor 2M\"]=df[\"INTEREST RATE\"]-df[\"2M\"]\n",
    "        df[\"Corr with libor 2M\"]=df[\"2M\"].corr(df[\"INTEREST RATE\"])\n",
    "\n",
    "        df=df.merge(libor[\"3M\"],on=\"Month\")\n",
    "        df[\"spread between libor 3M\"]=df[\"INTEREST RATE\"]-df[\"3M\"]\n",
    "        df[\"Corr with libor 3M\"]=df[\"3M\"].corr(df[\"INTEREST RATE\"])\n",
    "\n",
    "        df=df.merge(libor[\"6M\"],on=\"Month\")\n",
    "        df[\"spread between libor 6M\"]=df[\"INTEREST RATE\"]-df[\"6M\"]\n",
    "        df[\"Corr with libor 6M\"]=df[\"6M\"].corr(df[\"INTEREST RATE\"])\n",
    "\n",
    "        df=df.merge(libor[\"12M\"],on=\"Month\")\n",
    "        df[\"spread between libor 12M\"]=df[\"INTEREST RATE\"]-df[\"12M\"]\n",
    "        df[\"Corr with libor 12M\"]=df[\"12M\"].corr(df[\"INTEREST RATE\"])\n",
    "\n",
    "        df=df.merge(frame_trea[\"1 Mo\"],on=\"Month\")\n",
    "        df[\"spread between 1 Mo treasury\"]=df[\"INTEREST RATE\"]-df[\"1 Mo\"]\n",
    "        df[\"Corr with 1 Mo treasury\"]=df[\"1 Mo\"].corr(df[\"INTEREST RATE\"])\n",
    "\n",
    "        df=df.merge(frame_trea[\"6 Mo\"],on=\"Month\")\n",
    "        df[\"spread between 6 Mo treasury\"]=df[\"INTEREST RATE\"]-df[\"6 Mo\"]\n",
    "        df[\"Corr with 6 Mo treasury\"]=df[\"6 Mo\"].corr(df[\"INTEREST RATE\"])\n",
    "\n",
    "        df=df.merge(frame_trea[\"1 Yr\"],on=\"Month\")\n",
    "        df[\"spread between 1 Yr treasury\"]=df[\"INTEREST RATE\"]-df[\"1 Yr\"]\n",
    "        df[\"Corr with 1 Yr treasury\"]=df[\"1 Yr\"].corr(df[\"INTEREST RATE\"])\n",
    "\n",
    "        df=df.merge(frame_trea[\"5 Yr\"],on=\"Month\")\n",
    "        df[\"spread between 5 Yr treasury\"]=df[\"INTEREST RATE\"]-df[\"5 Yr\"]\n",
    "        df[\"Corr with 5 Yr treasury\"]=df[\"5 Yr\"].corr(df[\"INTEREST RATE\"])\n",
    "\n",
    "        df=df.merge(frame_trea[\"10 Yr\"],on=\"Month\")\n",
    "        df[\"spread between 10 Yr treasury\"]=df[\"INTEREST RATE\"]-df[\"10 Yr\"]\n",
    "        df[\"Corr with 10 Yr treasury\"]=df[\"10 Yr\"].corr(df[\"INTEREST RATE\"])\n",
    "\n",
    "        df=df.merge(frame_trea[\"20 Yr\"],on=\"Month\")\n",
    "        df[\"spread between 20 Yr treasury\"]=df[\"INTEREST RATE\"]-df[\"20 Yr\"]\n",
    "        df[\"Corr with 20 Yr treasury\"]=df[\"20 Yr\"].corr(df[\"INTEREST RATE\"])\n",
    "\n",
    "        df=df.merge(frame_trea[\"30 Yr\"],on=\"Month\")\n",
    "        df[\"spread between 30 Yr treasury\"]=df[\"INTEREST RATE\"]-df[\"30 Yr\"]\n",
    "        df[\"Corr with 30 Yr treasury\"]=df[\"30 Yr\"].corr(df[\"INTEREST RATE\"])\n",
    "        df_list.append(df)\n",
    "    if len(df_list)!=0:\n",
    "        df_s=pd.concat(df_list).reset_index(drop=True)\n",
    "        df_s.to_csv(name+\"_month.csv\",index=False)"
   ]
  },
  {
   "cell_type": "code",
   "execution_count": null,
   "metadata": {},
   "outputs": [],
   "source": []
  },
  {
   "cell_type": "code",
   "execution_count": null,
   "metadata": {},
   "outputs": [],
   "source": []
  },
  {
   "cell_type": "code",
   "execution_count": null,
   "metadata": {},
   "outputs": [],
   "source": []
  },
  {
   "cell_type": "code",
   "execution_count": null,
   "metadata": {},
   "outputs": [],
   "source": []
  },
  {
   "cell_type": "code",
   "execution_count": null,
   "metadata": {},
   "outputs": [],
   "source": []
  },
  {
   "cell_type": "code",
   "execution_count": null,
   "metadata": {},
   "outputs": [],
   "source": []
  },
  {
   "cell_type": "code",
   "execution_count": null,
   "metadata": {},
   "outputs": [],
   "source": []
  }
 ],
 "metadata": {
  "kernelspec": {
   "display_name": "Python 3",
   "language": "python",
   "name": "python3"
  },
  "language_info": {
   "codemirror_mode": {
    "name": "ipython",
    "version": 3
   },
   "file_extension": ".py",
   "mimetype": "text/x-python",
   "name": "python",
   "nbconvert_exporter": "python",
   "pygments_lexer": "ipython3",
   "version": "3.7.4"
  }
 },
 "nbformat": 4,
 "nbformat_minor": 2
}
