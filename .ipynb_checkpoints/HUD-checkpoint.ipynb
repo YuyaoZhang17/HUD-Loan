{
 "cells": [
  {
   "cell_type": "code",
   "execution_count": 1,
   "metadata": {},
   "outputs": [],
   "source": [
    "import pandas as pd\n",
    "import numpy as np\n",
    "import datetime\n",
    "import glob"
   ]
  },
  {
   "cell_type": "code",
   "execution_count": 2,
   "metadata": {},
   "outputs": [],
   "source": [
    "start=\"2009-10-14\""
   ]
  },
  {
   "cell_type": "code",
   "execution_count": 3,
   "metadata": {},
   "outputs": [],
   "source": [
    "libor=pd.read_csv(\"LIBOR USD.csv\")"
   ]
  },
  {
   "cell_type": "code",
   "execution_count": 4,
   "metadata": {},
   "outputs": [],
   "source": [
    "libor[\"Date\"]=libor[\"Date\"].map(lambda x:pd.to_datetime(x,format='%d.%m.%Y'))"
   ]
  },
  {
   "cell_type": "code",
   "execution_count": 5,
   "metadata": {},
   "outputs": [],
   "source": [
    "libor[\"Week\"]=libor[\"Date\"].map(lambda x:x.to_period(\"W\"))"
   ]
  },
  {
   "cell_type": "code",
   "execution_count": 6,
   "metadata": {},
   "outputs": [],
   "source": [
    "libor=libor.sort_values(\"Date\")"
   ]
  },
  {
   "cell_type": "code",
   "execution_count": 7,
   "metadata": {},
   "outputs": [],
   "source": [
    "libor=libor[libor[\"Date\"]>start]\n",
    "libor=libor.groupby(\"Week\")[\"ON\",\"1W\",\"1M\",\"2M\",\"3M\",\"6M\",\"12M\"].mean()"
   ]
  },
  {
   "cell_type": "code",
   "execution_count": 8,
   "metadata": {},
   "outputs": [],
   "source": [
    "path_trea =r'./Treasury' \n",
    "allFiles_trea = glob.glob(path_trea + \"/*.csv\")\n",
    "frame_trea = pd.DataFrame()\n",
    "list_trea = []\n",
    "for file_trea in allFiles_trea:\n",
    "    df_trea = pd.read_csv(file_trea,index_col=\"Date\", header=0)\n",
    "    list_trea.append(df_trea)\n",
    "frame_trea=pd.concat(list_trea)"
   ]
  },
  {
   "cell_type": "code",
   "execution_count": 9,
   "metadata": {},
   "outputs": [],
   "source": [
    "frame_trea.index=frame_trea.index.map(lambda x:pd.to_datetime(x,format='%m/%d/%Y'))"
   ]
  },
  {
   "cell_type": "code",
   "execution_count": 10,
   "metadata": {},
   "outputs": [],
   "source": [
    "frame_trea[\"Week\"]=frame_trea.index.map(lambda x:x.to_period(\"W\"))"
   ]
  },
  {
   "cell_type": "code",
   "execution_count": 11,
   "metadata": {},
   "outputs": [],
   "source": [
    "frame_trea.to_csv(\"Treasury.csv\")"
   ]
  },
  {
   "cell_type": "code",
   "execution_count": 12,
   "metadata": {},
   "outputs": [],
   "source": [
    "frame_trea=frame_trea[frame_trea.index>start]\n",
    "frame_trea=frame_trea.groupby(\"Week\")[\"1 Mo\",\"6 Mo\",\"1 Yr\",\"5 Yr\",\"10 Yr\",\"20 Yr\",\"30 Yr\"].mean()"
   ]
  },
  {
   "cell_type": "code",
   "execution_count": 13,
   "metadata": {},
   "outputs": [],
   "source": [
    "hud=pd.read_csv(\"RM-A_09-30-2019.csv\")"
   ]
  },
  {
   "cell_type": "code",
   "execution_count": 14,
   "metadata": {},
   "outputs": [],
   "source": [
    "hud[\"DATE\"]=hud[\"INITIAL ENDORSEMENT DATE\"].map(lambda x:pd.to_datetime(x,format='%m/%d/%Y'))"
   ]
  },
  {
   "cell_type": "code",
   "execution_count": 15,
   "metadata": {},
   "outputs": [],
   "source": [
    "hud[\"Week\"]=hud[\"DATE\"].map(lambda x:x.to_period(\"W\"))"
   ]
  },
  {
   "cell_type": "code",
   "execution_count": 16,
   "metadata": {},
   "outputs": [],
   "source": [
    "hud=hud[hud[\"DATE\"]>start].reset_index()"
   ]
  },
  {
   "cell_type": "code",
   "execution_count": 17,
   "metadata": {},
   "outputs": [],
   "source": [
    "cata=[\"202\", \"811\"]\n",
    "catb=[\"542(c)\",\"542(b)\"]\n",
    "catc=[\"221\",\"220\",\"231\",\"213\"]\n",
    "catd=\"223(f)\"\n",
    "cate=\"223(a)(7)\"\n",
    "catg=\"241a\"\n",
    "cath=[\"234(d)\",\"207\",\"223(d)\"]\n",
    "cati=[\"232\",\"Board&Care\",\"ICF\",\"Nursing\"]\n",
    "catj=[\"Hospital\",\"Group Practice\"]"
   ]
  },
  {
   "cell_type": "code",
   "execution_count": 18,
   "metadata": {},
   "outputs": [],
   "source": [
    "cats=[cata,catb,catc,catd,cate,catg,cath,cati,catj]"
   ]
  },
  {
   "cell_type": "code",
   "execution_count": 19,
   "metadata": {},
   "outputs": [
    {
     "name": "stderr",
     "output_type": "stream",
     "text": [
      "C:\\Users\\19018\\Anaconda3\\lib\\site-packages\\ipykernel_launcher.py:7: SettingWithCopyWarning: \n",
      "A value is trying to be set on a copy of a slice from a DataFrame\n",
      "\n",
      "See the caveats in the documentation: http://pandas.pydata.org/pandas-docs/stable/user_guide/indexing.html#returning-a-view-versus-a-copy\n",
      "  import sys\n"
     ]
    }
   ],
   "source": [
    "for i in range(len(cats)):\n",
    "    name=\"Category %i\"%(i)\n",
    "    hud[name]=False\n",
    "    for j in range(len(hud)):\n",
    "        for k in range(len(cats[i])):\n",
    "            if (cats[i][k] in hud[\"SOA CATEGORY/SUB CATEGORY\"][j]):\n",
    "                hud[name][j]=True"
   ]
  },
  {
   "cell_type": "code",
   "execution_count": 20,
   "metadata": {},
   "outputs": [
    {
     "name": "stderr",
     "output_type": "stream",
     "text": [
      "C:\\Users\\19018\\Anaconda3\\lib\\site-packages\\ipykernel_launcher.py:3: SettingWithCopyWarning: \n",
      "A value is trying to be set on a copy of a slice from a DataFrame\n",
      "\n",
      "See the caveats in the documentation: http://pandas.pydata.org/pandas-docs/stable/user_guide/indexing.html#returning-a-view-versus-a-copy\n",
      "  This is separate from the ipykernel package so we can avoid doing imports until\n"
     ]
    }
   ],
   "source": [
    "hud[\"Category\"]=None\n",
    "for i in range(len(hud)):\n",
    "    hud[\"Category\"][i]=[]\n",
    "    if hud[\"Category 0\"][i]==True:\n",
    "        hud[\"Category\"][i].append(\"Capital Advances\")\n",
    "    if hud[\"Category 1\"][i]==True:\n",
    "        hud[\"Category\"][i].append(\"Risk Sharing\")\n",
    "    if hud[\"Category 2\"][i]==True:\n",
    "        hud[\"Category\"][i].append(\"New Construction\")\n",
    "    if hud[\"Category 3\"][i]==True:\n",
    "        hud[\"Category\"][i].append(\"Refinancing_Purchase of Apartments_Coops\")\n",
    "    if hud[\"Category 4\"][i]==True:\n",
    "        hud[\"Category\"][i].append(\"Refinancing of Apt\")\n",
    "    if hud[\"Category 5\"][i]==True:\n",
    "        hud[\"Category\"][i].append(\"Improvements_Additions for Apartments_Coops\")\n",
    "    if hud[\"Category 6\"][i]==True:\n",
    "        hud[\"Category\"][i].append(\"Other FHA\")\n",
    "    if hud[\"Category 7\"][i]==True:\n",
    "        hud[\"Category\"][i].append(\"Health Care Facilities\")\n",
    "    if hud[\"Category 8\"][i]==True:\n",
    "        hud[\"Category\"][i].append(\"Hospitals and Group Practices\")"
   ]
  },
  {
   "cell_type": "code",
   "execution_count": 21,
   "metadata": {},
   "outputs": [
    {
     "data": {
      "text/plain": [
       "Index(['index', 'HUD PROJECT NUMBER', 'PROPERTY NAME', 'PROPERTY STREET',\n",
       "       'PROPERTY CITY', 'PROPERTY STATE', 'PROPERTY ZIP', 'UNITS',\n",
       "       'INITIAL ENDORSEMENT DATE', 'FINAL ENDORSEMENT DATE',\n",
       "       'ORIGINAL MORTGAGE AMOUNT', 'FIRST PAYMENT DATE', 'MATURITY DATE',\n",
       "       'TERM IN MONTHS', 'INTEREST RATE', 'CURRENT PRINCIPAL AND INTEREST',\n",
       "       'AMORTIZED PRINCIPAL BALANCE', 'HOLDER NAME', 'HOLDER CITY',\n",
       "       'HOLDER STATE', 'SERVICER NAME', 'SERVICER CITY', 'SERVICER STATE',\n",
       "       'SECTION OF ACT CODE', 'SOA CATEGORY/SUB CATEGORY', 'TE', 'TC', 'DATE',\n",
       "       'Week', 'Category 0', 'Category 1', 'Category 2', 'Category 3',\n",
       "       'Category 4', 'Category 5', 'Category 6', 'Category 7', 'Category 8',\n",
       "       'Category'],\n",
       "      dtype='object')"
      ]
     },
     "execution_count": 21,
     "metadata": {},
     "output_type": "execute_result"
    }
   ],
   "source": [
    "hud.columns"
   ]
  },
  {
   "cell_type": "code",
   "execution_count": 22,
   "metadata": {},
   "outputs": [],
   "source": [
    "hud_cat=hud[['HUD PROJECT NUMBER', 'PROPERTY NAME', 'PROPERTY STREET',\n",
    "       'PROPERTY CITY', 'PROPERTY STATE', 'PROPERTY ZIP', 'UNITS',\n",
    "       'INITIAL ENDORSEMENT DATE', 'FINAL ENDORSEMENT DATE',\n",
    "       'ORIGINAL MORTGAGE AMOUNT', 'FIRST PAYMENT DATE', 'MATURITY DATE',\n",
    "       'TERM IN MONTHS', 'INTEREST RATE', 'CURRENT PRINCIPAL AND INTEREST',\n",
    "       'AMORTIZED PRINCIPAL BALANCE', 'HOLDER NAME', 'HOLDER CITY',\n",
    "       'HOLDER STATE', 'SERVICER NAME', 'SERVICER CITY', 'SERVICER STATE',\n",
    "       'SECTION OF ACT CODE', 'SOA CATEGORY/SUB CATEGORY','Week','Category']]"
   ]
  },
  {
   "cell_type": "code",
   "execution_count": 126,
   "metadata": {},
   "outputs": [],
   "source": [
    "hud_cat[\"PROPERTY CITY\"]=hud_cat[\"PROPERTY CITY\"].map(lambda x:x.upper())\n",
    "hud_cat=hud_cat.sort_values(\"PROPERTY CITY\")\n"
   ]
  },
  {
   "cell_type": "code",
   "execution_count": 127,
   "metadata": {},
   "outputs": [],
   "source": [
    "hud_cat.to_csv(\"HUD with Category.csv\")"
   ]
  },
  {
   "cell_type": "code",
   "execution_count": 25,
   "metadata": {},
   "outputs": [
    {
     "data": {
      "text/plain": [
       "3959"
      ]
     },
     "execution_count": 25,
     "metadata": {},
     "output_type": "execute_result"
    }
   ],
   "source": [
    "len(hud[\"PROPERTY CITY\"].unique())"
   ]
  },
  {
   "cell_type": "code",
   "execution_count": 26,
   "metadata": {},
   "outputs": [],
   "source": [
    "# capital advance\n",
    "CA=hud[hud[\"Category 0\"]==True].groupby([\"PROPERTY CITY\",\"Week\"])[\"INTEREST RATE\"].mean()"
   ]
  },
  {
   "cell_type": "code",
   "execution_count": 27,
   "metadata": {},
   "outputs": [],
   "source": [
    "aa=hud.groupby([\"PROPERTY CITY\",\"Week\"])[\"INTEREST RATE\"].mean()\n",
    "aa=aa.reset_index([\"PROPERTY CITY\",\"Week\"])"
   ]
  },
  {
   "cell_type": "code",
   "execution_count": 28,
   "metadata": {},
   "outputs": [],
   "source": [
    "aa.to_csv(\"City Data for Risk Sharing with HFAs & QPEs Type Loan.csv\")"
   ]
  },
  {
   "cell_type": "code",
   "execution_count": 29,
   "metadata": {},
   "outputs": [],
   "source": [
    "# Risk Sharing with HFAs & QPEs\n",
    "RS=hud[hud[\"Category 1\"]==True].groupby([\"PROPERTY STATE\",\"Week\"])[\"INTEREST RATE\"].mean()\n",
    "RS=RS.reset_index([\"PROPERTY STATE\",\"Week\"])"
   ]
  },
  {
   "cell_type": "code",
   "execution_count": 30,
   "metadata": {},
   "outputs": [
    {
     "name": "stderr",
     "output_type": "stream",
     "text": [
      "C:\\Users\\19018\\Anaconda3\\lib\\site-packages\\numpy\\lib\\function_base.py:2522: RuntimeWarning: Degrees of freedom <= 0 for slice\n",
      "  c = cov(x, y, rowvar)\n",
      "C:\\Users\\19018\\Anaconda3\\lib\\site-packages\\numpy\\lib\\function_base.py:2451: RuntimeWarning: divide by zero encountered in true_divide\n",
      "  c *= np.true_divide(1, fact)\n"
     ]
    }
   ],
   "source": [
    "states=RS[\"PROPERTY STATE\"].unique()\n",
    "df_list=[]\n",
    "df_s=pd.DataFrame()\n",
    "for i in range(len(states)):\n",
    "    df=RS[RS[\"PROPERTY STATE\"]==states[i]]\n",
    "    df=df.merge(libor,on=\"Week\")\n",
    "    df[\"spread between libor 12M\"]=df[\"INTEREST RATE\"]-df[\"12M\"]\n",
    "    df[\"Corr with libor 12M\"]=df[\"12M\"].corr(df[\"INTEREST RATE\"])\n",
    "    df=df.merge(frame_trea,on=\"Week\")\n",
    "    df[\"spread between 10 Yr treasury\"]=df[\"INTEREST RATE\"]-df[\"10 Yr\"]\n",
    "    df[\"Corr with 10 Yr treasury\"]=df[\"10 Yr\"].corr(df[\"INTEREST RATE\"])\n",
    "    df[\"spread between 20 Yr treasury\"]=df[\"INTEREST RATE\"]-df[\"20 Yr\"]\n",
    "    df[\"Corr with 20 Yr treasury\"]=df[\"20 Yr\"].corr(df[\"INTEREST RATE\"])\n",
    "    df[\"spread between 30 Yr treasury\"]=df[\"INTEREST RATE\"]-df[\"30 Yr\"]\n",
    "    df[\"Corr with 30 Yr treasury\"]=df[\"30 Yr\"].corr(df[\"INTEREST RATE\"])\n",
    "    df_list.append(df)\n",
    "df_s=pd.concat(df_list).reset_index(drop=True)\n",
    "    "
   ]
  },
  {
   "cell_type": "code",
   "execution_count": 31,
   "metadata": {},
   "outputs": [],
   "source": [
    "df_s.to_csv(\"State Data for Risk Sharing with HFAs & QPEs Type Loan.csv\")"
   ]
  },
  {
   "cell_type": "code",
   "execution_count": 32,
   "metadata": {},
   "outputs": [],
   "source": [
    "hud=hud.groupby([\"PROPERTY CITY\",\"Week\"])[\"INTEREST RATE\"].mean()\n",
    "hud=hud.reset_index([\"PROPERTY CITY\",\"Week\"])"
   ]
  },
  {
   "cell_type": "code",
   "execution_count": 34,
   "metadata": {},
   "outputs": [],
   "source": [
    "city=hud[\"PROPERTY CITY\"].unique()\n",
    "df_list=[]\n",
    "df_s=pd.DataFrame()\n",
    "for i in range(len(city)):\n",
    "    df=hud[hud[\"PROPERTY CITY\"]==city[i]]\n",
    "    df=df.merge(libor[\"ON\"],on=\"Week\")\n",
    "    df[\"spread between libor ON\"]=df[\"INTEREST RATE\"]-df[\"ON\"]\n",
    "    df[\"Corr with libor ON\"]=df[\"ON\"].corr(df[\"INTEREST RATE\"])\n",
    "    \n",
    "    df=df.merge(libor[\"1W\"],on=\"Week\")\n",
    "    df[\"spread between libor 1W\"]=df[\"INTEREST RATE\"]-df[\"1W\"]\n",
    "    df[\"Corr with libor 1W\"]=df[\"1W\"].corr(df[\"INTEREST RATE\"])\n",
    "    \n",
    "    df=df.merge(libor[\"1M\"],on=\"Week\")\n",
    "    df[\"spread between libor 1M\"]=df[\"INTEREST RATE\"]-df[\"1M\"]\n",
    "    df[\"Corr with libor 1M\"]=df[\"1M\"].corr(df[\"INTEREST RATE\"])\n",
    "    \n",
    "    df=df.merge(libor[\"2M\"],on=\"Week\")\n",
    "    df[\"spread between libor 2M\"]=df[\"INTEREST RATE\"]-df[\"2M\"]\n",
    "    df[\"Corr with libor 2M\"]=df[\"2M\"].corr(df[\"INTEREST RATE\"])\n",
    "    \n",
    "    df=df.merge(libor[\"3M\"],on=\"Week\")\n",
    "    df[\"spread between libor 3M\"]=df[\"INTEREST RATE\"]-df[\"3M\"]\n",
    "    df[\"Corr with libor 3M\"]=df[\"3M\"].corr(df[\"INTEREST RATE\"])\n",
    "    \n",
    "    df=df.merge(libor[\"6M\"],on=\"Week\")\n",
    "    df[\"spread between libor 6M\"]=df[\"INTEREST RATE\"]-df[\"6M\"]\n",
    "    df[\"Corr with libor 6M\"]=df[\"6M\"].corr(df[\"INTEREST RATE\"])\n",
    "    \n",
    "    df=df.merge(libor[\"12M\"],on=\"Week\")\n",
    "    df[\"spread between libor 12M\"]=df[\"INTEREST RATE\"]-df[\"12M\"]\n",
    "    df[\"Corr with libor 12M\"]=df[\"12M\"].corr(df[\"INTEREST RATE\"])\n",
    "\n",
    "    df=df.merge(frame_trea[\"1 Mo\"],on=\"Week\")\n",
    "    df[\"spread between 1 Mo treasury\"]=df[\"INTEREST RATE\"]-df[\"1 Mo\"]\n",
    "    df[\"Corr with 1 Mo treasury\"]=df[\"1 Mo\"].corr(df[\"INTEREST RATE\"])\n",
    "    \n",
    "    df=df.merge(frame_trea[\"6 Mo\"],on=\"Week\")\n",
    "    df[\"spread between 6 Mo treasury\"]=df[\"INTEREST RATE\"]-df[\"6 Mo\"]\n",
    "    df[\"Corr with 6 Mo treasury\"]=df[\"6 Mo\"].corr(df[\"INTEREST RATE\"])\n",
    "    \n",
    "    df=df.merge(frame_trea[\"1 Yr\"],on=\"Week\")\n",
    "    df[\"spread between 1 Yr treasury\"]=df[\"INTEREST RATE\"]-df[\"1 Yr\"]\n",
    "    df[\"Corr with 1 Yr treasury\"]=df[\"1 Yr\"].corr(df[\"INTEREST RATE\"])\n",
    "    \n",
    "    df=df.merge(frame_trea[\"5 Yr\"],on=\"Week\")\n",
    "    df[\"spread between 5 Yr treasury\"]=df[\"INTEREST RATE\"]-df[\"5 Yr\"]\n",
    "    df[\"Corr with 5 Yr treasury\"]=df[\"5 Yr\"].corr(df[\"INTEREST RATE\"])\n",
    "    \n",
    "    df=df.merge(frame_trea[\"10 Yr\"],on=\"Week\")\n",
    "    df[\"spread between 10 Yr treasury\"]=df[\"INTEREST RATE\"]-df[\"10 Yr\"]\n",
    "    df[\"Corr with 10 Yr treasury\"]=df[\"10 Yr\"].corr(df[\"INTEREST RATE\"])\n",
    "    \n",
    "    df=df.merge(frame_trea[\"20 Yr\"],on=\"Week\")\n",
    "    df[\"spread between 20 Yr treasury\"]=df[\"INTEREST RATE\"]-df[\"20 Yr\"]\n",
    "    df[\"Corr with 20 Yr treasury\"]=df[\"20 Yr\"].corr(df[\"INTEREST RATE\"])\n",
    "    \n",
    "    df=df.merge(frame_trea[\"30 Yr\"],on=\"Week\")\n",
    "    df[\"spread between 30 Yr treasury\"]=df[\"INTEREST RATE\"]-df[\"30 Yr\"]\n",
    "    df[\"Corr with 30 Yr treasury\"]=df[\"30 Yr\"].corr(df[\"INTEREST RATE\"])\n",
    "    df_list.append(df)\n",
    "df_s=pd.concat(df_list).reset_index(drop=True)\n",
    "\n",
    "\n",
    "df_s.to_csv(\"City Data of HUD.csv\",index=False)"
   ]
  },
  {
   "cell_type": "code",
   "execution_count": 129,
   "metadata": {},
   "outputs": [],
   "source": [
    "categories=[\"Risk Sharing\",\"New Construction\",\"Refinancing_Purchase of Apartments_Coops\",\n",
    "     \"Refinancing of Apt\",\"Improvements_Additions for Apartments_Coops\",\"Other FHA\",\"Health Care Facilities\",\n",
    "     \"Hospitals and Group Practices\"]\n",
    "\n",
    "for i in range(len(categories)):\n",
    "    hud_sub=hud_cat[hud_cat[\"Category\"].str.contains(categories[i],regex=False)]\n",
    "    hud_sub=hud_sub.groupby([\"PROPERTY CITY\",\"Week\"])[\"INTEREST RATE\"].mean()\n",
    "    hud_sub=hud_sub.reset_index([\"PROPERTY CITY\",\"Week\"])\n",
    "    hud_sub[\"Category\"]=categories[i]\n",
    "    city=hud_sub[\"PROPERTY CITY\"].unique()\n",
    "    df_list=[]\n",
    "    df_s=pd.DataFrame()\n",
    "    name=\"City Data of HUD_\"+categories[i]\n",
    "    for i in range(len(city)):\n",
    "        df=hud_sub[hud_sub[\"PROPERTY CITY\"]==city[i]]\n",
    "        df=df.merge(libor[\"ON\"],on=\"Week\")\n",
    "        df[\"spread between libor ON\"]=df[\"INTEREST RATE\"]-df[\"ON\"]\n",
    "        df[\"Corr with libor ON\"]=df[\"ON\"].corr(df[\"INTEREST RATE\"])\n",
    "\n",
    "        df=df.merge(libor[\"1W\"],on=\"Week\")\n",
    "        df[\"spread between libor 1W\"]=df[\"INTEREST RATE\"]-df[\"1W\"]\n",
    "        df[\"Corr with libor 1W\"]=df[\"1W\"].corr(df[\"INTEREST RATE\"])\n",
    "\n",
    "        df=df.merge(libor[\"1M\"],on=\"Week\")\n",
    "        df[\"spread between libor 1M\"]=df[\"INTEREST RATE\"]-df[\"1M\"]\n",
    "        df[\"Corr with libor 1M\"]=df[\"1M\"].corr(df[\"INTEREST RATE\"])\n",
    "\n",
    "        df=df.merge(libor[\"2M\"],on=\"Week\")\n",
    "        df[\"spread between libor 2M\"]=df[\"INTEREST RATE\"]-df[\"2M\"]\n",
    "        df[\"Corr with libor 2M\"]=df[\"2M\"].corr(df[\"INTEREST RATE\"])\n",
    "\n",
    "        df=df.merge(libor[\"3M\"],on=\"Week\")\n",
    "        df[\"spread between libor 3M\"]=df[\"INTEREST RATE\"]-df[\"3M\"]\n",
    "        df[\"Corr with libor 3M\"]=df[\"3M\"].corr(df[\"INTEREST RATE\"])\n",
    "\n",
    "        df=df.merge(libor[\"6M\"],on=\"Week\")\n",
    "        df[\"spread between libor 6M\"]=df[\"INTEREST RATE\"]-df[\"6M\"]\n",
    "        df[\"Corr with libor 6M\"]=df[\"6M\"].corr(df[\"INTEREST RATE\"])\n",
    "\n",
    "        df=df.merge(libor[\"12M\"],on=\"Week\")\n",
    "        df[\"spread between libor 12M\"]=df[\"INTEREST RATE\"]-df[\"12M\"]\n",
    "        df[\"Corr with libor 12M\"]=df[\"12M\"].corr(df[\"INTEREST RATE\"])\n",
    "\n",
    "        df=df.merge(frame_trea[\"1 Mo\"],on=\"Week\")\n",
    "        df[\"spread between 1 Mo treasury\"]=df[\"INTEREST RATE\"]-df[\"1 Mo\"]\n",
    "        df[\"Corr with 1 Mo treasury\"]=df[\"1 Mo\"].corr(df[\"INTEREST RATE\"])\n",
    "\n",
    "        df=df.merge(frame_trea[\"6 Mo\"],on=\"Week\")\n",
    "        df[\"spread between 6 Mo treasury\"]=df[\"INTEREST RATE\"]-df[\"6 Mo\"]\n",
    "        df[\"Corr with 6 Mo treasury\"]=df[\"6 Mo\"].corr(df[\"INTEREST RATE\"])\n",
    "\n",
    "        df=df.merge(frame_trea[\"1 Yr\"],on=\"Week\")\n",
    "        df[\"spread between 1 Yr treasury\"]=df[\"INTEREST RATE\"]-df[\"1 Yr\"]\n",
    "        df[\"Corr with 1 Yr treasury\"]=df[\"1 Yr\"].corr(df[\"INTEREST RATE\"])\n",
    "\n",
    "        df=df.merge(frame_trea[\"5 Yr\"],on=\"Week\")\n",
    "        df[\"spread between 5 Yr treasury\"]=df[\"INTEREST RATE\"]-df[\"5 Yr\"]\n",
    "        df[\"Corr with 5 Yr treasury\"]=df[\"5 Yr\"].corr(df[\"INTEREST RATE\"])\n",
    "\n",
    "        df=df.merge(frame_trea[\"10 Yr\"],on=\"Week\")\n",
    "        df[\"spread between 10 Yr treasury\"]=df[\"INTEREST RATE\"]-df[\"10 Yr\"]\n",
    "        df[\"Corr with 10 Yr treasury\"]=df[\"10 Yr\"].corr(df[\"INTEREST RATE\"])\n",
    "\n",
    "        df=df.merge(frame_trea[\"20 Yr\"],on=\"Week\")\n",
    "        df[\"spread between 20 Yr treasury\"]=df[\"INTEREST RATE\"]-df[\"20 Yr\"]\n",
    "        df[\"Corr with 20 Yr treasury\"]=df[\"20 Yr\"].corr(df[\"INTEREST RATE\"])\n",
    "\n",
    "        df=df.merge(frame_trea[\"30 Yr\"],on=\"Week\")\n",
    "        df[\"spread between 30 Yr treasury\"]=df[\"INTEREST RATE\"]-df[\"30 Yr\"]\n",
    "        df[\"Corr with 30 Yr treasury\"]=df[\"30 Yr\"].corr(df[\"INTEREST RATE\"])\n",
    "        df_list.append(df)\n",
    "    if len(df_list)!=0:\n",
    "        df_s=pd.concat(df_list).reset_index(drop=True)\n",
    "        df_s.to_csv(name+\".csv\",index=False)"
   ]
  },
  {
   "cell_type": "code",
   "execution_count": 118,
   "metadata": {},
   "outputs": [],
   "source": [
    "cities=[\"BOSTON\", \"PHILADELPHIA\", \"NEW YORK\", \"WASHINGTON\", \"CHICAGO\", \"LOS ANGELES\", \"ATLANTA\"]"
   ]
  },
  {
   "cell_type": "code",
   "execution_count": 117,
   "metadata": {},
   "outputs": [
    {
     "data": {
      "text/html": [
       "<div>\n",
       "<style scoped>\n",
       "    .dataframe tbody tr th:only-of-type {\n",
       "        vertical-align: middle;\n",
       "    }\n",
       "\n",
       "    .dataframe tbody tr th {\n",
       "        vertical-align: top;\n",
       "    }\n",
       "\n",
       "    .dataframe thead th {\n",
       "        text-align: right;\n",
       "    }\n",
       "</style>\n",
       "<table border=\"1\" class=\"dataframe\">\n",
       "  <thead>\n",
       "    <tr style=\"text-align: right;\">\n",
       "      <th></th>\n",
       "      <th>HUD PROJECT NUMBER</th>\n",
       "      <th>PROPERTY NAME</th>\n",
       "      <th>PROPERTY STREET</th>\n",
       "      <th>PROPERTY CITY</th>\n",
       "      <th>PROPERTY STATE</th>\n",
       "      <th>PROPERTY ZIP</th>\n",
       "      <th>UNITS</th>\n",
       "      <th>INITIAL ENDORSEMENT DATE</th>\n",
       "      <th>FINAL ENDORSEMENT DATE</th>\n",
       "      <th>ORIGINAL MORTGAGE AMOUNT</th>\n",
       "      <th>...</th>\n",
       "      <th>HOLDER NAME</th>\n",
       "      <th>HOLDER CITY</th>\n",
       "      <th>HOLDER STATE</th>\n",
       "      <th>SERVICER NAME</th>\n",
       "      <th>SERVICER CITY</th>\n",
       "      <th>SERVICER STATE</th>\n",
       "      <th>SECTION OF ACT CODE</th>\n",
       "      <th>SOA CATEGORY/SUB CATEGORY</th>\n",
       "      <th>Week</th>\n",
       "      <th>Category</th>\n",
       "    </tr>\n",
       "  </thead>\n",
       "  <tbody>\n",
       "  </tbody>\n",
       "</table>\n",
       "<p>0 rows × 26 columns</p>\n",
       "</div>"
      ],
      "text/plain": [
       "Empty DataFrame\n",
       "Columns: [HUD PROJECT NUMBER, PROPERTY NAME, PROPERTY STREET, PROPERTY CITY, PROPERTY STATE, PROPERTY ZIP, UNITS, INITIAL ENDORSEMENT DATE, FINAL ENDORSEMENT DATE, ORIGINAL MORTGAGE AMOUNT, FIRST PAYMENT DATE, MATURITY DATE, TERM IN MONTHS, INTEREST RATE, CURRENT PRINCIPAL AND INTEREST, AMORTIZED PRINCIPAL BALANCE, HOLDER NAME, HOLDER CITY, HOLDER STATE, SERVICER NAME, SERVICER CITY, SERVICER STATE, SECTION OF ACT CODE, SOA CATEGORY/SUB CATEGORY, Week, Category]\n",
       "Index: []\n",
       "\n",
       "[0 rows x 26 columns]"
      ]
     },
     "execution_count": 117,
     "metadata": {},
     "output_type": "execute_result"
    }
   ],
   "source": []
  },
  {
   "cell_type": "code",
   "execution_count": 121,
   "metadata": {},
   "outputs": [],
   "source": [
    "a=\"boston\"\n",
    "a=a.upper()"
   ]
  },
  {
   "cell_type": "code",
   "execution_count": 122,
   "metadata": {},
   "outputs": [
    {
     "data": {
      "text/plain": [
       "'BOSTON'"
      ]
     },
     "execution_count": 122,
     "metadata": {},
     "output_type": "execute_result"
    }
   ],
   "source": [
    "a"
   ]
  },
  {
   "cell_type": "code",
   "execution_count": null,
   "metadata": {},
   "outputs": [],
   "source": []
  }
 ],
 "metadata": {
  "kernelspec": {
   "display_name": "Python 3",
   "language": "python",
   "name": "python3"
  },
  "language_info": {
   "codemirror_mode": {
    "name": "ipython",
    "version": 3
   },
   "file_extension": ".py",
   "mimetype": "text/x-python",
   "name": "python",
   "nbconvert_exporter": "python",
   "pygments_lexer": "ipython3",
   "version": "3.6.5"
  }
 },
 "nbformat": 4,
 "nbformat_minor": 2
}
