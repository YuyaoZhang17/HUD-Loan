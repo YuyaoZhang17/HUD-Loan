{
 "cells": [
  {
   "cell_type": "code",
   "execution_count": 1,
   "metadata": {},
   "outputs": [],
   "source": [
    "import pandas as pd\n",
    "import numpy as np\n",
    "import datetime\n",
    "import glob"
   ]
  },
  {
   "cell_type": "code",
   "execution_count": 2,
   "metadata": {},
   "outputs": [],
   "source": [
    "start=\"2009-10-14\""
   ]
  },
  {
   "cell_type": "code",
   "execution_count": 3,
   "metadata": {},
   "outputs": [],
   "source": [
    "libor=pd.read_csv(\"LIBOR USD.csv\")"
   ]
  },
  {
   "cell_type": "code",
   "execution_count": 4,
   "metadata": {},
   "outputs": [],
   "source": [
    "libor[\"Date\"]=libor[\"Date\"].map(lambda x:pd.to_datetime(x,format='%d.%m.%Y'))"
   ]
  },
  {
   "cell_type": "code",
   "execution_count": 5,
   "metadata": {},
   "outputs": [],
   "source": [
    "libor[\"Month\"]=libor[\"Date\"].map(lambda x:x.to_period(\"M\"))"
   ]
  },
  {
   "cell_type": "code",
   "execution_count": 6,
   "metadata": {},
   "outputs": [],
   "source": [
    "libor=libor.sort_values(\"Date\")"
   ]
  },
  {
   "cell_type": "code",
   "execution_count": 7,
   "metadata": {},
   "outputs": [],
   "source": [
    "libor=libor[libor[\"Date\"]>start]\n",
    "libor=libor.groupby(\"Month\")[\"ON\",\"1W\",\"1M\",\"2M\",\"3M\",\"6M\",\"12M\"].mean()"
   ]
  },
  {
   "cell_type": "code",
   "execution_count": 8,
   "metadata": {},
   "outputs": [],
   "source": [
    "path_trea =r'./Treasury' \n",
    "allFiles_trea = glob.glob(path_trea + \"/*.csv\")\n",
    "frame_trea = pd.DataFrame()\n",
    "list_trea = []\n",
    "for file_trea in allFiles_trea:\n",
    "    df_trea = pd.read_csv(file_trea,index_col=\"Date\", header=0)\n",
    "    list_trea.append(df_trea)\n",
    "frame_trea=pd.concat(list_trea)"
   ]
  },
  {
   "cell_type": "code",
   "execution_count": 9,
   "metadata": {},
   "outputs": [],
   "source": [
    "frame_trea.index=frame_trea.index.map(lambda x:pd.to_datetime(x,format='%m/%d/%Y'))"
   ]
  },
  {
   "cell_type": "code",
   "execution_count": 10,
   "metadata": {},
   "outputs": [],
   "source": [
    "frame_trea[\"Month\"]=frame_trea.index.map(lambda x:x.to_period(\"M\"))"
   ]
  },
  {
   "cell_type": "code",
   "execution_count": 11,
   "metadata": {},
   "outputs": [],
   "source": [
    "frame_trea.to_csv(\"Treasury_month.csv\")"
   ]
  },
  {
   "cell_type": "code",
   "execution_count": 12,
   "metadata": {},
   "outputs": [],
   "source": [
    "frame_trea=frame_trea[frame_trea.index>start]\n",
    "frame_trea=frame_trea.groupby(\"Month\")[\"1 Mo\",\"6 Mo\",\"1 Yr\",\"5 Yr\",\"10 Yr\",\"20 Yr\",\"30 Yr\"].mean()"
   ]
  },
  {
   "cell_type": "code",
   "execution_count": 13,
   "metadata": {},
   "outputs": [],
   "source": [
    "hud=pd.read_csv(\"RM-A_09-30-2019.csv\")"
   ]
  },
  {
   "cell_type": "code",
   "execution_count": 14,
   "metadata": {},
   "outputs": [],
   "source": [
    "hud[\"DATE\"]=hud[\"INITIAL ENDORSEMENT DATE\"].map(lambda x:pd.to_datetime(x,format='%m/%d/%Y'))"
   ]
  },
  {
   "cell_type": "code",
   "execution_count": 15,
   "metadata": {},
   "outputs": [],
   "source": [
    "hud[\"Month\"]=hud[\"DATE\"].map(lambda x:x.to_period(\"M\"))"
   ]
  },
  {
   "cell_type": "code",
   "execution_count": 16,
   "metadata": {},
   "outputs": [],
   "source": [
    "hud=hud[hud[\"DATE\"]>start].reset_index()"
   ]
  },
  {
   "cell_type": "code",
   "execution_count": 17,
   "metadata": {},
   "outputs": [],
   "source": [
    "cata=[\"202\", \"811\"]\n",
    "catb=[\"542(c)\",\"542(b)\"]\n",
    "catc=[\"221\",\"220\",\"231\",\"213\"]\n",
    "catd=\"223(f)\"\n",
    "cate=\"223(a)(7)\"\n",
    "catg=\"241a\"\n",
    "cath=[\"234(d)\",\"207\",\"223(d)\"]\n",
    "cati=[\"232\",\"Board&Care\",\"ICF\",\"Nursing\"]\n",
    "catj=[\"Hospital\",\"Group Practice\"]"
   ]
  },
  {
   "cell_type": "code",
   "execution_count": 18,
   "metadata": {},
   "outputs": [],
   "source": [
    "cats=[cata,catb,catc,catd,cate,catg,cath,cati,catj]"
   ]
  },
  {
   "cell_type": "code",
   "execution_count": 19,
   "metadata": {},
   "outputs": [
    {
     "name": "stderr",
     "output_type": "stream",
     "text": [
      "C:\\Users\\yz402\\Anaconda3\\lib\\site-packages\\ipykernel_launcher.py:7: SettingWithCopyWarning: \n",
      "A value is trying to be set on a copy of a slice from a DataFrame\n",
      "\n",
      "See the caveats in the documentation: http://pandas.pydata.org/pandas-docs/stable/user_guide/indexing.html#returning-a-view-versus-a-copy\n",
      "  import sys\n"
     ]
    }
   ],
   "source": [
    "for i in range(len(cats)):\n",
    "    name=\"Category %i\"%(i)\n",
    "    hud[name]=False\n",
    "    for j in range(len(hud)):\n",
    "        for k in range(len(cats[i])):\n",
    "            if (cats[i][k] in hud[\"SOA CATEGORY/SUB CATEGORY\"][j]):\n",
    "                hud[name][j]=True"
   ]
  },
  {
   "cell_type": "code",
   "execution_count": 20,
   "metadata": {},
   "outputs": [
    {
     "name": "stderr",
     "output_type": "stream",
     "text": [
      "C:\\Users\\yz402\\Anaconda3\\lib\\site-packages\\ipykernel_launcher.py:3: SettingWithCopyWarning: \n",
      "A value is trying to be set on a copy of a slice from a DataFrame\n",
      "\n",
      "See the caveats in the documentation: http://pandas.pydata.org/pandas-docs/stable/user_guide/indexing.html#returning-a-view-versus-a-copy\n",
      "  This is separate from the ipykernel package so we can avoid doing imports until\n"
     ]
    }
   ],
   "source": [
    "hud[\"Category\"]=None\n",
    "for i in range(len(hud)):\n",
    "    hud[\"Category\"][i]=[]\n",
    "    if hud[\"Category 0\"][i]==True:\n",
    "        hud[\"Category\"][i].append(\"Capital Advances\")\n",
    "    if hud[\"Category 1\"][i]==True:\n",
    "        hud[\"Category\"][i].append(\"Risk Sharing\")\n",
    "    if hud[\"Category 2\"][i]==True:\n",
    "        hud[\"Category\"][i].append(\"New Construction\")\n",
    "    if hud[\"Category 3\"][i]==True:\n",
    "        hud[\"Category\"][i].append(\"Refinancing_Purchase of Apartments_Coops\")\n",
    "    if hud[\"Category 4\"][i]==True:\n",
    "        hud[\"Category\"][i].append(\"Refinancing of Apt\")\n",
    "    if hud[\"Category 5\"][i]==True:\n",
    "        hud[\"Category\"][i].append(\"Improvements_Additions for Apartments_Coops\")\n",
    "    if hud[\"Category 6\"][i]==True:\n",
    "        hud[\"Category\"][i].append(\"Other FHA\")\n",
    "    if hud[\"Category 7\"][i]==True:\n",
    "        hud[\"Category\"][i].append(\"Health Care Facilities\")\n",
    "    if hud[\"Category 8\"][i]==True:\n",
    "        hud[\"Category\"][i].append(\"Hospitals and Group Practices\")"
   ]
  },
  {
   "cell_type": "code",
   "execution_count": 21,
   "metadata": {},
   "outputs": [
    {
     "data": {
      "text/plain": [
       "Index(['index', 'HUD PROJECT NUMBER', 'PROPERTY NAME', 'PROPERTY STREET',\n",
       "       'PROPERTY CITY', 'PROPERTY STATE', 'PROPERTY ZIP', 'UNITS',\n",
       "       'INITIAL ENDORSEMENT DATE', 'FINAL ENDORSEMENT DATE',\n",
       "       'ORIGINAL MORTGAGE AMOUNT', 'FIRST PAYMENT DATE', 'MATURITY DATE',\n",
       "       'TERM IN MONTHS', 'INTEREST RATE', 'CURRENT PRINCIPAL AND INTEREST',\n",
       "       'AMORTIZED PRINCIPAL BALANCE', 'HOLDER NAME', 'HOLDER CITY',\n",
       "       'HOLDER STATE', 'SERVICER NAME', 'SERVICER CITY', 'SERVICER STATE',\n",
       "       'SECTION OF ACT CODE', 'SOA CATEGORY/SUB CATEGORY', 'TE', 'TC', 'DATE',\n",
       "       'Month', 'Category 0', 'Category 1', 'Category 2', 'Category 3',\n",
       "       'Category 4', 'Category 5', 'Category 6', 'Category 7', 'Category 8',\n",
       "       'Category'],\n",
       "      dtype='object')"
      ]
     },
     "execution_count": 21,
     "metadata": {},
     "output_type": "execute_result"
    }
   ],
   "source": [
    "hud.columns"
   ]
  },
  {
   "cell_type": "code",
   "execution_count": 22,
   "metadata": {},
   "outputs": [],
   "source": [
    "hud_cat=hud[['HUD PROJECT NUMBER', 'PROPERTY NAME', 'PROPERTY STREET',\n",
    "       'PROPERTY CITY', 'PROPERTY STATE', 'PROPERTY ZIP', 'UNITS',\n",
    "       'INITIAL ENDORSEMENT DATE', 'FINAL ENDORSEMENT DATE',\n",
    "       'ORIGINAL MORTGAGE AMOUNT', 'FIRST PAYMENT DATE', 'MATURITY DATE',\n",
    "       'TERM IN MONTHS', 'INTEREST RATE', 'CURRENT PRINCIPAL AND INTEREST',\n",
    "       'AMORTIZED PRINCIPAL BALANCE', 'HOLDER NAME', 'HOLDER CITY',\n",
    "       'HOLDER STATE', 'SERVICER NAME', 'SERVICER CITY', 'SERVICER STATE',\n",
    "       'SECTION OF ACT CODE', 'SOA CATEGORY/SUB CATEGORY','Month','Category']]"
   ]
  },
  {
   "cell_type": "code",
   "execution_count": 23,
   "metadata": {},
   "outputs": [
    {
     "name": "stderr",
     "output_type": "stream",
     "text": [
      "C:\\Users\\yz402\\Anaconda3\\lib\\site-packages\\ipykernel_launcher.py:1: SettingWithCopyWarning: \n",
      "A value is trying to be set on a copy of a slice from a DataFrame.\n",
      "Try using .loc[row_indexer,col_indexer] = value instead\n",
      "\n",
      "See the caveats in the documentation: http://pandas.pydata.org/pandas-docs/stable/user_guide/indexing.html#returning-a-view-versus-a-copy\n",
      "  \"\"\"Entry point for launching an IPython kernel.\n"
     ]
    }
   ],
   "source": [
    "hud_cat[\"PROPERTY CITY\"]=hud_cat[\"PROPERTY CITY\"].map(lambda x:x.upper())\n",
    "hud_cat=hud_cat.sort_values(\"PROPERTY CITY\")\n"
   ]
  },
  {
   "cell_type": "code",
   "execution_count": 24,
   "metadata": {},
   "outputs": [],
   "source": [
    "hud_cat.to_csv(\"HUD with Category_month.csv\")"
   ]
  },
  {
   "cell_type": "code",
   "execution_count": 25,
   "metadata": {},
   "outputs": [
    {
     "data": {
      "text/plain": [
       "3959"
      ]
     },
     "execution_count": 25,
     "metadata": {},
     "output_type": "execute_result"
    }
   ],
   "source": [
    "len(hud[\"PROPERTY CITY\"].unique())"
   ]
  },
  {
   "cell_type": "code",
   "execution_count": 26,
   "metadata": {},
   "outputs": [],
   "source": [
    "# capital advance\n",
    "CA=hud[hud[\"Category 0\"]==True].groupby([\"PROPERTY CITY\",\"Month\"])[\"INTEREST RATE\"].mean()"
   ]
  },
  {
   "cell_type": "code",
   "execution_count": 27,
   "metadata": {},
   "outputs": [],
   "source": [
    "aa=hud.groupby([\"PROPERTY CITY\",\"Month\"])[\"INTEREST RATE\"].mean()\n",
    "aa=aa.reset_index([\"PROPERTY CITY\",\"Month\"])"
   ]
  },
  {
   "cell_type": "code",
   "execution_count": 28,
   "metadata": {},
   "outputs": [],
   "source": [
    "aa.to_csv(\"City Data for Risk Sharing with HFAs & QPEs Type Loan_month.csv\")"
   ]
  },
  {
   "cell_type": "code",
   "execution_count": 29,
   "metadata": {},
   "outputs": [],
   "source": [
    "# Risk Sharing with HFAs & QPEs\n",
    "RS=hud[hud[\"Category 1\"]==True].groupby([\"PROPERTY STATE\",\"Month\"])[\"INTEREST RATE\"].mean()\n",
    "RS=RS.reset_index([\"PROPERTY STATE\",\"Month\"])"
   ]
  },
  {
   "cell_type": "code",
   "execution_count": 30,
   "metadata": {},
   "outputs": [
    {
     "name": "stderr",
     "output_type": "stream",
     "text": [
      "C:\\Users\\yz402\\Anaconda3\\lib\\site-packages\\numpy\\lib\\function_base.py:2522: RuntimeWarning: Degrees of freedom <= 0 for slice\n",
      "  c = cov(x, y, rowvar)\n",
      "C:\\Users\\yz402\\Anaconda3\\lib\\site-packages\\numpy\\lib\\function_base.py:2451: RuntimeWarning: divide by zero encountered in true_divide\n",
      "  c *= np.true_divide(1, fact)\n"
     ]
    }
   ],
   "source": [
    "states=RS[\"PROPERTY STATE\"].unique()\n",
    "df_list=[]\n",
    "df_s=pd.DataFrame()\n",
    "for i in range(len(states)):\n",
    "    df=RS[RS[\"PROPERTY STATE\"]==states[i]]\n",
    "    df=df.merge(libor,on=\"Month\")\n",
    "    df[\"spread between libor 12M\"]=df[\"INTEREST RATE\"]-df[\"12M\"]\n",
    "    df[\"Corr with libor 12M\"]=df[\"12M\"].corr(df[\"INTEREST RATE\"])\n",
    "    df=df.merge(frame_trea,on=\"Month\")\n",
    "    df[\"spread between 10 Yr treasury\"]=df[\"INTEREST RATE\"]-df[\"10 Yr\"]\n",
    "    df[\"Corr with 10 Yr treasury\"]=df[\"10 Yr\"].corr(df[\"INTEREST RATE\"])\n",
    "    df[\"spread between 20 Yr treasury\"]=df[\"INTEREST RATE\"]-df[\"20 Yr\"]\n",
    "    df[\"Corr with 20 Yr treasury\"]=df[\"20 Yr\"].corr(df[\"INTEREST RATE\"])\n",
    "    df[\"spread between 30 Yr treasury\"]=df[\"INTEREST RATE\"]-df[\"30 Yr\"]\n",
    "    df[\"Corr with 30 Yr treasury\"]=df[\"30 Yr\"].corr(df[\"INTEREST RATE\"])\n",
    "    df_list.append(df)\n",
    "df_s=pd.concat(df_list).reset_index(drop=True)\n",
    "    "
   ]
  },
  {
   "cell_type": "code",
   "execution_count": 31,
   "metadata": {},
   "outputs": [],
   "source": [
    "df_s.to_csv(\"State Data for Risk Sharing with HFAs & QPEs Type Loan_month.csv\")"
   ]
  },
  {
   "cell_type": "code",
   "execution_count": 38,
   "metadata": {},
   "outputs": [
    {
     "data": {
      "text/html": [
       "<div>\n",
       "<style scoped>\n",
       "    .dataframe tbody tr th:only-of-type {\n",
       "        vertical-align: middle;\n",
       "    }\n",
       "\n",
       "    .dataframe tbody tr th {\n",
       "        vertical-align: top;\n",
       "    }\n",
       "\n",
       "    .dataframe thead th {\n",
       "        text-align: right;\n",
       "    }\n",
       "</style>\n",
       "<table border=\"1\" class=\"dataframe\">\n",
       "  <thead>\n",
       "    <tr style=\"text-align: right;\">\n",
       "      <th></th>\n",
       "      <th>PROPERTY CITY</th>\n",
       "      <th>Month</th>\n",
       "      <th>INTEREST RATE</th>\n",
       "    </tr>\n",
       "  </thead>\n",
       "  <tbody>\n",
       "    <tr>\n",
       "      <td>0</td>\n",
       "      <td>46902</td>\n",
       "      <td>2017-07</td>\n",
       "      <td>3.28</td>\n",
       "    </tr>\n",
       "    <tr>\n",
       "      <td>1</td>\n",
       "      <td>55435</td>\n",
       "      <td>2017-12</td>\n",
       "      <td>3.66</td>\n",
       "    </tr>\n",
       "    <tr>\n",
       "      <td>2</td>\n",
       "      <td>ABBEVILLE</td>\n",
       "      <td>2013-03</td>\n",
       "      <td>3.15</td>\n",
       "    </tr>\n",
       "    <tr>\n",
       "      <td>3</td>\n",
       "      <td>ABERCEN</td>\n",
       "      <td>2013-08</td>\n",
       "      <td>4.89</td>\n",
       "    </tr>\n",
       "    <tr>\n",
       "      <td>4</td>\n",
       "      <td>ABERDEEN</td>\n",
       "      <td>2013-02</td>\n",
       "      <td>3.21</td>\n",
       "    </tr>\n",
       "    <tr>\n",
       "      <td>...</td>\n",
       "      <td>...</td>\n",
       "      <td>...</td>\n",
       "      <td>...</td>\n",
       "    </tr>\n",
       "    <tr>\n",
       "      <td>11337</td>\n",
       "      <td>elko</td>\n",
       "      <td>2019-02</td>\n",
       "      <td>4.25</td>\n",
       "    </tr>\n",
       "    <tr>\n",
       "      <td>11338</td>\n",
       "      <td>kokomo</td>\n",
       "      <td>2017-05</td>\n",
       "      <td>3.57</td>\n",
       "    </tr>\n",
       "    <tr>\n",
       "      <td>11339</td>\n",
       "      <td>martinsburg</td>\n",
       "      <td>2017-05</td>\n",
       "      <td>3.75</td>\n",
       "    </tr>\n",
       "    <tr>\n",
       "      <td>11340</td>\n",
       "      <td>michigan city</td>\n",
       "      <td>2017-07</td>\n",
       "      <td>3.25</td>\n",
       "    </tr>\n",
       "    <tr>\n",
       "      <td>11341</td>\n",
       "      <td>union city</td>\n",
       "      <td>2017-07</td>\n",
       "      <td>3.43</td>\n",
       "    </tr>\n",
       "  </tbody>\n",
       "</table>\n",
       "<p>11342 rows × 3 columns</p>\n",
       "</div>"
      ],
      "text/plain": [
       "       PROPERTY CITY    Month  INTEREST RATE\n",
       "0              46902  2017-07           3.28\n",
       "1              55435  2017-12           3.66\n",
       "2          ABBEVILLE  2013-03           3.15\n",
       "3            ABERCEN  2013-08           4.89\n",
       "4           ABERDEEN  2013-02           3.21\n",
       "...              ...      ...            ...\n",
       "11337           elko  2019-02           4.25\n",
       "11338         kokomo  2017-05           3.57\n",
       "11339    martinsburg  2017-05           3.75\n",
       "11340  michigan city  2017-07           3.25\n",
       "11341     union city  2017-07           3.43\n",
       "\n",
       "[11342 rows x 3 columns]"
      ]
     },
     "execution_count": 38,
     "metadata": {},
     "output_type": "execute_result"
    }
   ],
   "source": [
    "hud=hud.groupby([\"PROPERTY CITY\",\"Month\"])[\"INTEREST RATE\"].mean()\n",
    "hud=hud.reset_index([\"PROPERTY CITY\",\"Month\"])\n",
    "hud"
   ]
  },
  {
   "cell_type": "code",
   "execution_count": 43,
   "metadata": {},
   "outputs": [],
   "source": [
    "at_vol=pd.read_csv(\"auto/vol_data_AUT.csv\")\n",
    "at_vol[\"date\"]=at_vol[\"date\"].map(lambda x:pd.to_datetime(x,format='%Y-%m'))\n",
    "at_vol[\"Month\"]=at_vol[\"date\"].map(lambda x:x.to_period(\"M\"))\n",
    "at_vol=at_vol.drop(columns={\"month\",'date'})\n",
    "at_vol=at_vol.rename(columns={\"vol\":\"auto_vol\"})\n",
    "at_vol[\"auto_vol(-1)\"]=at_vol[\"auto_vol\"].shift(1)\n",
    "at_vol[\"auto_vol(-2)\"]=at_vol[\"auto_vol\"].shift(2)\n",
    "at_vol[\"auto_vol(-3)\"]=at_vol[\"auto_vol\"].shift(3)\n",
    "at_vol[\"auto_vol(-4)\"]=at_vol[\"auto_vol\"].shift(4)\n",
    "at_vol[\"auto_vol(1)\"]=at_vol[\"auto_vol\"].shift(-1)\n",
    "at_vol[\"auto_vol(2)\"]=at_vol[\"auto_vol\"].shift(-2)\n",
    "at_vol[\"auto_vol(3)\"]=at_vol[\"auto_vol\"].shift(-3)\n",
    "at_vol[\"auto_vol(4)\"]=at_vol[\"auto_vol\"].shift(-4)"
   ]
  },
  {
   "cell_type": "code",
   "execution_count": 44,
   "metadata": {},
   "outputs": [],
   "source": [
    "cred=pd.read_csv(\"credit card/tightness.csv\")\n",
    "cred[\"date\"]=cred[\"date\"].map(lambda x:pd.to_datetime(x,format=\"%Y-%m\"))\n",
    "cred[\"Month\"]=cred[\"date\"].map(lambda x: x.to_period(\"M\"))\n",
    "cred=cred.drop(columns={\"date\",\"month\"})\n",
    "cred=cred.rename(columns={\"tightness_index\":\"credit_tightness\"})\n",
    "cred[\"credit_tightness(-1)\"]=cred[\"credit_tightness\"].shift(1)\n",
    "cred[\"credit_tightness(-2)\"]=cred[\"credit_tightness\"].shift(2)\n",
    "cred[\"credit_tightness(-3)\"]=cred[\"credit_tightness\"].shift(3)\n",
    "cred[\"credit_tightness(-4)\"]=cred[\"credit_tightness\"].shift(4)\n",
    "cred[\"credit_tightness(1)\"]=cred[\"credit_tightness\"].shift(-1)\n",
    "cred[\"credit_tightness(2)\"]=cred[\"credit_tightness\"].shift(-2)\n",
    "cred[\"credit_tightness(3)\"]=cred[\"credit_tightness\"].shift(-3)\n",
    "cred[\"credit_tightness(4)\"]=cred[\"credit_tightness\"].shift(-4)"
   ]
  },
  {
   "cell_type": "code",
   "execution_count": 46,
   "metadata": {},
   "outputs": [],
   "source": [
    "stu=pd.read_csv(\"student/vol_data_AUT.csv\")\n",
    "stu[\"date\"]=stu[\"date\"].map(lambda x:pd.to_datetime(x,format=\"%Y-%m\"))\n",
    "stu[\"Month\"]=stu[\"date\"].map(lambda x:x.to_period(\"M\"))\n",
    "stu=stu.drop(columns={\"month\",'date'})\n",
    "stu=stu.rename(columns={\"vol\":\"student_vol\"})\n",
    "stu[\"student_vol(-1)\"]=stu[\"student_vol\"].shift(1)\n",
    "stu[\"student_vol(-2)\"]=stu[\"student_vol\"].shift(2)\n",
    "stu[\"student_vol(-3)\"]=stu[\"student_vol\"].shift(3)\n",
    "stu[\"student_vol(-4)\"]=stu[\"student_vol\"].shift(4)\n",
    "stu[\"student_vol(1)\"]=stu[\"student_vol\"].shift(-1)\n",
    "stu[\"student_vol(2)\"]=stu[\"student_vol\"].shift(-2)\n",
    "stu[\"student_vol(3)\"]=stu[\"student_vol\"].shift(-3)\n",
    "stu[\"student_vol(4)\"]=stu[\"student_vol\"].shift(-4)"
   ]
  },
  {
   "cell_type": "code",
   "execution_count": null,
   "metadata": {},
   "outputs": [],
   "source": []
  },
  {
   "cell_type": "code",
   "execution_count": 50,
   "metadata": {},
   "outputs": [
    {
     "name": "stderr",
     "output_type": "stream",
     "text": [
      "C:\\Users\\yz402\\Anaconda3\\lib\\site-packages\\ipykernel_launcher.py:143: FutureWarning: Sorting because non-concatenation axis is not aligned. A future version\n",
      "of pandas will change to not sort by default.\n",
      "\n",
      "To accept the future behavior, pass 'sort=False'.\n",
      "\n",
      "To retain the current behavior and silence the warning, pass 'sort=True'.\n",
      "\n"
     ]
    }
   ],
   "source": [
    "city=hud[\"PROPERTY CITY\"].unique()\n",
    "df_list=[]\n",
    "df_s=pd.DataFrame()\n",
    "for i in range(len(city)):\n",
    "    df=hud[hud[\"PROPERTY CITY\"]==city[i]]\n",
    "    df=df.merge(libor[\"ON\"],on=\"Month\")\n",
    "    df[\"spread between libor ON\"]=df[\"INTEREST RATE\"]-df[\"ON\"]\n",
    "    df[\"Corr with libor ON\"]=df[\"ON\"].corr(df[\"INTEREST RATE\"])\n",
    "    \n",
    "    df=df.merge(libor[\"1W\"],on=\"Month\")\n",
    "    df[\"spread between libor 1W\"]=df[\"INTEREST RATE\"]-df[\"1W\"]\n",
    "    df[\"Corr with libor 1W\"]=df[\"1W\"].corr(df[\"INTEREST RATE\"])\n",
    "    \n",
    "    df=df.merge(libor[\"1M\"],on=\"Month\")\n",
    "    df[\"spread between libor 1M\"]=df[\"INTEREST RATE\"]-df[\"1M\"]\n",
    "    df[\"Corr with libor 1M\"]=df[\"1M\"].corr(df[\"INTEREST RATE\"])\n",
    "    \n",
    "    df=df.merge(libor[\"2M\"],on=\"Month\")\n",
    "    df[\"spread between libor 2M\"]=df[\"INTEREST RATE\"]-df[\"2M\"]\n",
    "    df[\"Corr with libor 2M\"]=df[\"2M\"].corr(df[\"INTEREST RATE\"])\n",
    "    \n",
    "    df=df.merge(libor[\"3M\"],on=\"Month\")\n",
    "    df[\"spread between libor 3M\"]=df[\"INTEREST RATE\"]-df[\"3M\"]\n",
    "    df[\"Corr with libor 3M\"]=df[\"3M\"].corr(df[\"INTEREST RATE\"])\n",
    "    \n",
    "    df=df.merge(libor[\"6M\"],on=\"Month\")\n",
    "    df[\"spread between libor 6M\"]=df[\"INTEREST RATE\"]-df[\"6M\"]\n",
    "    df[\"Corr with libor 6M\"]=df[\"6M\"].corr(df[\"INTEREST RATE\"])\n",
    "    \n",
    "    df=df.merge(libor[\"12M\"],on=\"Month\")\n",
    "    df[\"spread between libor 12M\"]=df[\"INTEREST RATE\"]-df[\"12M\"]\n",
    "    df[\"Corr with libor 12M\"]=df[\"12M\"].corr(df[\"INTEREST RATE\"])\n",
    "\n",
    "    df=df.merge(frame_trea[\"1 Mo\"],on=\"Month\")\n",
    "    df[\"spread between 1 Mo treasury\"]=df[\"INTEREST RATE\"]-df[\"1 Mo\"]\n",
    "    df[\"Corr with 1 Mo treasury\"]=df[\"1 Mo\"].corr(df[\"INTEREST RATE\"])\n",
    "    \n",
    "    df=df.merge(frame_trea[\"6 Mo\"],on=\"Month\")\n",
    "    df[\"spread between 6 Mo treasury\"]=df[\"INTEREST RATE\"]-df[\"6 Mo\"]\n",
    "    df[\"Corr with 6 Mo treasury\"]=df[\"6 Mo\"].corr(df[\"INTEREST RATE\"])\n",
    "    \n",
    "    df=df.merge(frame_trea[\"1 Yr\"],on=\"Month\")\n",
    "    df[\"spread between 1 Yr treasury\"]=df[\"INTEREST RATE\"]-df[\"1 Yr\"]\n",
    "    df[\"Corr with 1 Yr treasury\"]=df[\"1 Yr\"].corr(df[\"INTEREST RATE\"])\n",
    "    \n",
    "    df=df.merge(frame_trea[\"5 Yr\"],on=\"Month\")\n",
    "    df[\"spread between 5 Yr treasury\"]=df[\"INTEREST RATE\"]-df[\"5 Yr\"]\n",
    "    df[\"Corr with 5 Yr treasury\"]=df[\"5 Yr\"].corr(df[\"INTEREST RATE\"])\n",
    "    \n",
    "    df=df.merge(frame_trea[\"10 Yr\"],on=\"Month\")\n",
    "    df[\"spread between 10 Yr treasury\"]=df[\"INTEREST RATE\"]-df[\"10 Yr\"]\n",
    "    df[\"Corr with 10 Yr treasury\"]=df[\"10 Yr\"].corr(df[\"INTEREST RATE\"])\n",
    "    \n",
    "    df=df.merge(frame_trea[\"20 Yr\"],on=\"Month\")\n",
    "    df[\"spread between 20 Yr treasury\"]=df[\"INTEREST RATE\"]-df[\"20 Yr\"]\n",
    "    df[\"Corr with 20 Yr treasury\"]=df[\"20 Yr\"].corr(df[\"INTEREST RATE\"])\n",
    "    \n",
    "    df=df.merge(frame_trea[\"30 Yr\"],on=\"Month\")\n",
    "    df[\"spread between 30 Yr treasury\"]=df[\"INTEREST RATE\"]-df[\"30 Yr\"]\n",
    "    df[\"Corr with 30 Yr treasury\"]=df[\"30 Yr\"].corr(df[\"INTEREST RATE\"])\n",
    "    \n",
    "    df=df.merge(at_vol[[\"auto_vol\",\"Month\"]],on=\"Month\")\n",
    "    df[\"Corr with auto loan volume\"]=df[\"auto_vol\"].corr(df[\"INTEREST RATE\"])\n",
    "    \n",
    "    df=df.merge(at_vol[[\"auto_vol(-1)\",\"Month\"]],on=\"Month\")\n",
    "    df[\"Corr with lag 1 auto loan volume\"]=df[\"auto_vol(-1)\"].corr(df[\"INTEREST RATE\"])\n",
    "    \n",
    "    df=df.merge(at_vol[[\"auto_vol(-2)\",\"Month\"]],on=\"Month\")\n",
    "    df[\"Corr with lag 2 auto loan volume\"]=df[\"auto_vol(-2)\"].corr(df[\"INTEREST RATE\"])\n",
    "    \n",
    "    df=df.merge(at_vol[[\"auto_vol(-3)\",\"Month\"]],on=\"Month\")\n",
    "    df[\"Corr with lag 3 auto loan volume\"]=df[\"auto_vol(-3)\"].corr(df[\"INTEREST RATE\"])\n",
    "    \n",
    "    df=df.merge(at_vol[[\"auto_vol(-4)\",\"Month\"]],on=\"Month\")\n",
    "    df[\"Corr with lag 4 auto loan volume\"]=df[\"auto_vol(-4)\"].corr(df[\"INTEREST RATE\"])\n",
    "    \n",
    "    df=df.merge(at_vol[[\"auto_vol(1)\",\"Month\"]],on=\"Month\")\n",
    "    df[\"Corr with lead 1 auto loan volume\"]=df[\"auto_vol(1)\"].corr(df[\"INTEREST RATE\"])\n",
    "    \n",
    "    df=df.merge(at_vol[[\"auto_vol(2)\",\"Month\"]],on=\"Month\")\n",
    "    df[\"Corr with lead 2 auto loan volume\"]=df[\"auto_vol(2)\"].corr(df[\"INTEREST RATE\"])\n",
    "    \n",
    "    df=df.merge(at_vol[[\"auto_vol(3)\",\"Month\"]],on=\"Month\")\n",
    "    df[\"Corr with lead 3 auto loan volume\"]=df[\"auto_vol(3)\"].corr(df[\"INTEREST RATE\"])\n",
    "    \n",
    "    df=df.merge(at_vol[[\"auto_vol(4)\",\"Month\"]],on=\"Month\")\n",
    "    df[\"Corr with lead 4 auto loan volume\"]=df[\"auto_vol(4)\"].corr(df[\"INTEREST RATE\"])\n",
    "    \n",
    "    df=df.merge(stu[[\"student_vol\",\"Month\"]],on=\"Month\")\n",
    "    df[\"Corr with student loan volume\"]=df[\"student_vol\"].corr(df[\"INTEREST RATE\"])\n",
    "    \n",
    "    df=df.merge(stu[[\"student_vol(-1)\",\"Month\"]],on=\"Month\")\n",
    "    df[\"Corr with lag 1 student loan volume\"]=df[\"student_vol(-1)\"].corr(df[\"INTEREST RATE\"])\n",
    "    \n",
    "    df=df.merge(stu[[\"student_vol(-2)\",\"Month\"]],on=\"Month\")\n",
    "    df[\"Corr with lag 2 student loan volume\"]=df[\"student_vol(-2)\"].corr(df[\"INTEREST RATE\"])\n",
    "    \n",
    "    df=df.merge(stu[[\"student_vol(-3)\",\"Month\"]],on=\"Month\")\n",
    "    df[\"Corr with lag 3 student loan volume\"]=df[\"student_vol(-3)\"].corr(df[\"INTEREST RATE\"])\n",
    "    \n",
    "    df=df.merge(stu[[\"student_vol(-4)\",\"Month\"]],on=\"Month\")\n",
    "    df[\"Corr with lag 4 student loan volume\"]=df[\"student_vol(-4)\"].corr(df[\"INTEREST RATE\"])\n",
    "    \n",
    "    df=df.merge(stu[[\"student_vol(1)\",\"Month\"]],on=\"Month\")\n",
    "    df[\"Corr with lead 1 student loan volume\"]=df[\"student_vol(1)\"].corr(df[\"INTEREST RATE\"])\n",
    "    \n",
    "    df=df.merge(stu[[\"student_vol(2)\",\"Month\"]],on=\"Month\")\n",
    "    df[\"Corr with lead 2 student loan volume\"]=df[\"student_vol(2)\"].corr(df[\"INTEREST RATE\"])\n",
    "    \n",
    "    df=df.merge(stu[[\"student_vol(3)\",\"Month\"]],on=\"Month\")\n",
    "    df[\"Corr with lead 3 student loan volume\"]=df[\"student_vol(3)\"].corr(df[\"INTEREST RATE\"])\n",
    "    \n",
    "    df=df.merge(stu[[\"student_vol(4)\",\"Month\"]],on=\"Month\")\n",
    "    df[\"Corr with lead 4 student loan volume\"]=df[\"student_vol(4)\"].corr(df[\"INTEREST RATE\"])\n",
    "    \n",
    "    df=df.merge(cred[[\"credit_tightness\",\"Month\"]],on=\"Month\")\n",
    "    df[\"Corr with credit tightness\"]=df[\"credit_tightness\"].corr(df[\"INTEREST RATE\"])\n",
    "    \n",
    "    df=df.merge(cred[[\"credit_tightness(-1)\",\"Month\"]],on=\"Month\")\n",
    "    df[\"Corr with lag 1 credit tightness\"]=df[\"credit_tightness(-1)\"].corr(df[\"INTEREST RATE\"])\n",
    "    \n",
    "    df=df.merge(cred[[\"credit_tightness(-2)\",\"Month\"]],on=\"Month\")\n",
    "    df[\"Corr with lag 2 credit tightness\"]=df[\"credit_tightness(-2)\"].corr(df[\"INTEREST RATE\"])\n",
    "    \n",
    "    df=df.merge(cred[[\"credit_tightness(-3)\",\"Month\"]],on=\"Month\")\n",
    "    df[\"Corr with lag 3 credit tightness\"]=df[\"credit_tightness(-3)\"].corr(df[\"INTEREST RATE\"])\n",
    "    \n",
    "    df=df.merge(cred[[\"credit_tightness(-4)\",\"Month\"]],on=\"Month\")\n",
    "    df[\"Corr with lag 4 credit tightness\"]=df[\"credit_tightness(-4)\"].corr(df[\"INTEREST RATE\"])\n",
    "    \n",
    "    df=df.merge(cred[[\"credit_tightness(1)\",\"Month\"]],on=\"Month\")\n",
    "    df[\"Corr with lead 1 credit tightness\"]=df[\"credit_tightness(1)\"].corr(df[\"INTEREST RATE\"])\n",
    "    \n",
    "    df=df.merge(cred[[\"credit_tightness(2)\",\"Month\"]],on=\"Month\")\n",
    "    df[\"Corr with lead 2 credit tightness\"]=df[\"credit_tightness(2)\"].corr(df[\"INTEREST RATE\"])\n",
    "    \n",
    "    df=df.merge(cred[[\"credit_tightness(3)\",\"Month\"]],on=\"Month\")\n",
    "    df[\"Corr with lead 3 credit tightness\"]=df[\"credit_tightness(3)\"].corr(df[\"INTEREST RATE\"])\n",
    "    \n",
    "    df=df.merge(cred[[\"credit_tightness(4)\",\"Month\"]],on=\"Month\")\n",
    "    df[\"Corr with lead 4 credit tightness\"]=df[\"credit_tightness(4)\"].corr(df[\"INTEREST RATE\"])\n",
    "    df_list.append(df)\n",
    "df_s=pd.concat(df_list).reset_index(drop=True)\n",
    "df_s=df_s[['PROPERTY CITY', 'Month', 'INTEREST RATE', 'ON',\n",
    "       'spread between libor ON', 'Corr with libor ON', '1W',\n",
    "       'spread between libor 1W', 'Corr with libor 1W', '1M',\n",
    "       'spread between libor 1M', 'Corr with libor 1M', '2M',\n",
    "       'spread between libor 2M', 'Corr with libor 2M', '3M',\n",
    "       'spread between libor 3M', 'Corr with libor 3M', '6M',\n",
    "       'spread between libor 6M', 'Corr with libor 6M', '12M',\n",
    "       'spread between libor 12M', 'Corr with libor 12M', '1 Mo',\n",
    "       'spread between 1 Mo treasury', 'Corr with 1 Mo treasury', '6 Mo',\n",
    "       'spread between 6 Mo treasury', 'Corr with 6 Mo treasury', '1 Yr',\n",
    "       'spread between 1 Yr treasury', 'Corr with 1 Yr treasury', '5 Yr',\n",
    "       'spread between 5 Yr treasury', 'Corr with 5 Yr treasury', '10 Yr',\n",
    "       'spread between 10 Yr treasury', 'Corr with 10 Yr treasury', '20 Yr',\n",
    "       'spread between 20 Yr treasury', 'Corr with 20 Yr treasury', '30 Yr',\n",
    "       'spread between 30 Yr treasury', 'Corr with 30 Yr treasury', 'auto_vol',\n",
    "       'Corr with auto loan volume', 'auto_vol(-1)',\n",
    "       'Corr with lag 1 auto loan volume', 'auto_vol(-2)',\n",
    "       'Corr with lag 2 auto loan volume', 'auto_vol(-3)',\n",
    "       'Corr with lag 3 auto loan volume', 'auto_vol(-4)',\n",
    "       'Corr with lag 4 auto loan volume', 'auto_vol(1)',\n",
    "       'Corr with lead 1 auto loan volume', 'auto_vol(2)',\n",
    "       'Corr with lead 2 auto loan volume', 'auto_vol(3)',\n",
    "       'Corr with lead 3 auto loan volume', 'auto_vol(4)',\n",
    "       'Corr with lead 4 auto loan volume', 'student_vol',\n",
    "       'Corr with student loan volume', 'student_vol(-1)',\n",
    "       'Corr with lag 1 student loan volume', 'student_vol(-2)',\n",
    "       'Corr with lag 2 student loan volume', 'student_vol(-3)',\n",
    "       'Corr with lag 3 student loan volume', 'student_vol(-4)',\n",
    "       'Corr with lag 4 student loan volume', 'student_vol(1)',\n",
    "       'Corr with lead 1 student loan volume', 'student_vol(2)',\n",
    "       'Corr with lead 2 student loan volume', 'student_vol(3)',\n",
    "       'Corr with lead 3 student loan volume', 'student_vol(4)',\n",
    "       'Corr with lead 4 student loan volume', 'credit_tightness',\n",
    "       'Corr with credit tightness', 'credit_tightness(-1)',\n",
    "       'Corr with lag 1 credit tightness', 'credit_tightness(-2)',\n",
    "       'Corr with lag 2 credit tightness', 'credit_tightness(-3)',\n",
    "       'Corr with lag 3 credit tightness', 'credit_tightness(-4)',\n",
    "       'Corr with lag 4 credit tightness', 'credit_tightness(1)',\n",
    "       'Corr with lead 1 credit tightness', 'credit_tightness(2)',\n",
    "       'Corr with lead 2 credit tightness', 'credit_tightness(3)',\n",
    "       'Corr with lead 3 credit tightness', 'credit_tightness(4)',\n",
    "       'Corr with lead 4 credit tightness']]\n",
    "\n",
    "df_s.to_csv(\"month/City Data of HUD_month.csv\",index=False)"
   ]
  },
  {
   "cell_type": "code",
   "execution_count": 51,
   "metadata": {},
   "outputs": [
    {
     "name": "stderr",
     "output_type": "stream",
     "text": [
      "C:\\Users\\yz402\\Anaconda3\\lib\\site-packages\\ipykernel_launcher.py:154: FutureWarning: Sorting because non-concatenation axis is not aligned. A future version\n",
      "of pandas will change to not sort by default.\n",
      "\n",
      "To accept the future behavior, pass 'sort=False'.\n",
      "\n",
      "To retain the current behavior and silence the warning, pass 'sort=True'.\n",
      "\n"
     ]
    }
   ],
   "source": [
    "categories=[\"Risk Sharing\",\"New Construction\",\"Refinancing_Purchase of Apartments_Coops\",\n",
    "     \"Refinancing of Apt\",\"Improvements_Additions for Apartments_Coops\",\"Other FHA\",\"Health Care Facilities\",\n",
    "     \"Hospitals and Group Practices\"]\n",
    "\n",
    "for i in range(len(categories)):\n",
    "    hud_sub=hud_cat[hud_cat[\"Category\"].str.contains(categories[i],regex=False)]\n",
    "    hud_sub=hud_sub.groupby([\"PROPERTY CITY\",\"Month\"])[\"INTEREST RATE\"].mean()\n",
    "    hud_sub=hud_sub.reset_index([\"PROPERTY CITY\",\"Month\"])\n",
    "    hud_sub[\"Category\"]=categories[i]\n",
    "    city=hud_sub[\"PROPERTY CITY\"].unique()\n",
    "    df_list=[]\n",
    "    df_s=pd.DataFrame()\n",
    "    name=\"month/City Data of HUD_\"+categories[i]\n",
    "    for j in range(len(city)):\n",
    "        df=hud_sub[hud_sub[\"PROPERTY CITY\"]==city[j]]\n",
    "        df=df.merge(libor[\"ON\"],on=\"Month\")\n",
    "        df[\"spread between libor ON\"]=df[\"INTEREST RATE\"]-df[\"ON\"]\n",
    "        df[\"Corr with libor ON\"]=df[\"ON\"].corr(df[\"INTEREST RATE\"])\n",
    "\n",
    "        df=df.merge(libor[\"1W\"],on=\"Month\")\n",
    "        df[\"spread between libor 1W\"]=df[\"INTEREST RATE\"]-df[\"1W\"]\n",
    "        df[\"Corr with libor 1W\"]=df[\"1W\"].corr(df[\"INTEREST RATE\"])\n",
    "\n",
    "        df=df.merge(libor[\"1M\"],on=\"Month\")\n",
    "        df[\"spread between libor 1M\"]=df[\"INTEREST RATE\"]-df[\"1M\"]\n",
    "        df[\"Corr with libor 1M\"]=df[\"1M\"].corr(df[\"INTEREST RATE\"])\n",
    "\n",
    "        df=df.merge(libor[\"2M\"],on=\"Month\")\n",
    "        df[\"spread between libor 2M\"]=df[\"INTEREST RATE\"]-df[\"2M\"]\n",
    "        df[\"Corr with libor 2M\"]=df[\"2M\"].corr(df[\"INTEREST RATE\"])\n",
    "\n",
    "        df=df.merge(libor[\"3M\"],on=\"Month\")\n",
    "        df[\"spread between libor 3M\"]=df[\"INTEREST RATE\"]-df[\"3M\"]\n",
    "        df[\"Corr with libor 3M\"]=df[\"3M\"].corr(df[\"INTEREST RATE\"])\n",
    "\n",
    "        df=df.merge(libor[\"6M\"],on=\"Month\")\n",
    "        df[\"spread between libor 6M\"]=df[\"INTEREST RATE\"]-df[\"6M\"]\n",
    "        df[\"Corr with libor 6M\"]=df[\"6M\"].corr(df[\"INTEREST RATE\"])\n",
    "\n",
    "        df=df.merge(libor[\"12M\"],on=\"Month\")\n",
    "        df[\"spread between libor 12M\"]=df[\"INTEREST RATE\"]-df[\"12M\"]\n",
    "        df[\"Corr with libor 12M\"]=df[\"12M\"].corr(df[\"INTEREST RATE\"])\n",
    "\n",
    "        df=df.merge(frame_trea[\"1 Mo\"],on=\"Month\")\n",
    "        df[\"spread between 1 Mo treasury\"]=df[\"INTEREST RATE\"]-df[\"1 Mo\"]\n",
    "        df[\"Corr with 1 Mo treasury\"]=df[\"1 Mo\"].corr(df[\"INTEREST RATE\"])\n",
    "\n",
    "        df=df.merge(frame_trea[\"6 Mo\"],on=\"Month\")\n",
    "        df[\"spread between 6 Mo treasury\"]=df[\"INTEREST RATE\"]-df[\"6 Mo\"]\n",
    "        df[\"Corr with 6 Mo treasury\"]=df[\"6 Mo\"].corr(df[\"INTEREST RATE\"])\n",
    "\n",
    "        df=df.merge(frame_trea[\"1 Yr\"],on=\"Month\")\n",
    "        df[\"spread between 1 Yr treasury\"]=df[\"INTEREST RATE\"]-df[\"1 Yr\"]\n",
    "        df[\"Corr with 1 Yr treasury\"]=df[\"1 Yr\"].corr(df[\"INTEREST RATE\"])\n",
    "\n",
    "        df=df.merge(frame_trea[\"5 Yr\"],on=\"Month\")\n",
    "        df[\"spread between 5 Yr treasury\"]=df[\"INTEREST RATE\"]-df[\"5 Yr\"]\n",
    "        df[\"Corr with 5 Yr treasury\"]=df[\"5 Yr\"].corr(df[\"INTEREST RATE\"])\n",
    "\n",
    "        df=df.merge(frame_trea[\"10 Yr\"],on=\"Month\")\n",
    "        df[\"spread between 10 Yr treasury\"]=df[\"INTEREST RATE\"]-df[\"10 Yr\"]\n",
    "        df[\"Corr with 10 Yr treasury\"]=df[\"10 Yr\"].corr(df[\"INTEREST RATE\"])\n",
    "\n",
    "        df=df.merge(frame_trea[\"20 Yr\"],on=\"Month\")\n",
    "        df[\"spread between 20 Yr treasury\"]=df[\"INTEREST RATE\"]-df[\"20 Yr\"]\n",
    "        df[\"Corr with 20 Yr treasury\"]=df[\"20 Yr\"].corr(df[\"INTEREST RATE\"])\n",
    "\n",
    "        df=df.merge(frame_trea[\"30 Yr\"],on=\"Month\")\n",
    "        df[\"spread between 30 Yr treasury\"]=df[\"INTEREST RATE\"]-df[\"30 Yr\"]\n",
    "        df[\"Corr with 30 Yr treasury\"]=df[\"30 Yr\"].corr(df[\"INTEREST RATE\"])\n",
    "        \n",
    "        df=df.merge(at_vol[[\"auto_vol\",\"Month\"]],on=\"Month\")\n",
    "        df[\"Corr with auto loan volume\"]=df[\"auto_vol\"].corr(df[\"INTEREST RATE\"])\n",
    "\n",
    "        df=df.merge(at_vol[[\"auto_vol(-1)\",\"Month\"]],on=\"Month\")\n",
    "        df[\"Corr with lag 1 auto loan volume\"]=df[\"auto_vol(-1)\"].corr(df[\"INTEREST RATE\"])\n",
    "\n",
    "        df=df.merge(at_vol[[\"auto_vol(-2)\",\"Month\"]],on=\"Month\")\n",
    "        df[\"Corr with lag 2 auto loan volume\"]=df[\"auto_vol(-2)\"].corr(df[\"INTEREST RATE\"])\n",
    "\n",
    "        df=df.merge(at_vol[[\"auto_vol(-3)\",\"Month\"]],on=\"Month\")\n",
    "        df[\"Corr with lag 3 auto loan volume\"]=df[\"auto_vol(-3)\"].corr(df[\"INTEREST RATE\"])\n",
    "\n",
    "        df=df.merge(at_vol[[\"auto_vol(-4)\",\"Month\"]],on=\"Month\")\n",
    "        df[\"Corr with lag 4 auto loan volume\"]=df[\"auto_vol(-4)\"].corr(df[\"INTEREST RATE\"])\n",
    "\n",
    "        df=df.merge(at_vol[[\"auto_vol(1)\",\"Month\"]],on=\"Month\")\n",
    "        df[\"Corr with lead 1 auto loan volume\"]=df[\"auto_vol(1)\"].corr(df[\"INTEREST RATE\"])\n",
    "\n",
    "        df=df.merge(at_vol[[\"auto_vol(2)\",\"Month\"]],on=\"Month\")\n",
    "        df[\"Corr with lead 2 auto loan volume\"]=df[\"auto_vol(2)\"].corr(df[\"INTEREST RATE\"])\n",
    "\n",
    "        df=df.merge(at_vol[[\"auto_vol(3)\",\"Month\"]],on=\"Month\")\n",
    "        df[\"Corr with lead 3 auto loan volume\"]=df[\"auto_vol(3)\"].corr(df[\"INTEREST RATE\"])\n",
    "\n",
    "        df=df.merge(at_vol[[\"auto_vol(4)\",\"Month\"]],on=\"Month\")\n",
    "        df[\"Corr with lead 4 auto loan volume\"]=df[\"auto_vol(4)\"].corr(df[\"INTEREST RATE\"])\n",
    "\n",
    "        df=df.merge(stu[[\"student_vol\",\"Month\"]],on=\"Month\")\n",
    "        df[\"Corr with student loan volume\"]=df[\"student_vol\"].corr(df[\"INTEREST RATE\"])\n",
    "\n",
    "        df=df.merge(stu[[\"student_vol(-1)\",\"Month\"]],on=\"Month\")\n",
    "        df[\"Corr with lag 1 student loan volume\"]=df[\"student_vol(-1)\"].corr(df[\"INTEREST RATE\"])\n",
    "\n",
    "        df=df.merge(stu[[\"student_vol(-2)\",\"Month\"]],on=\"Month\")\n",
    "        df[\"Corr with lag 2 student loan volume\"]=df[\"student_vol(-2)\"].corr(df[\"INTEREST RATE\"])\n",
    "\n",
    "        df=df.merge(stu[[\"student_vol(-3)\",\"Month\"]],on=\"Month\")\n",
    "        df[\"Corr with lag 3 student loan volume\"]=df[\"student_vol(-3)\"].corr(df[\"INTEREST RATE\"])\n",
    "\n",
    "        df=df.merge(stu[[\"student_vol(-4)\",\"Month\"]],on=\"Month\")\n",
    "        df[\"Corr with lag 4 student loan volume\"]=df[\"student_vol(-4)\"].corr(df[\"INTEREST RATE\"])\n",
    "\n",
    "        df=df.merge(stu[[\"student_vol(1)\",\"Month\"]],on=\"Month\")\n",
    "        df[\"Corr with lead 1 student loan volume\"]=df[\"student_vol(1)\"].corr(df[\"INTEREST RATE\"])\n",
    "\n",
    "        df=df.merge(stu[[\"student_vol(2)\",\"Month\"]],on=\"Month\")\n",
    "        df[\"Corr with lead 2 student loan volume\"]=df[\"student_vol(2)\"].corr(df[\"INTEREST RATE\"])\n",
    "\n",
    "        df=df.merge(stu[[\"student_vol(3)\",\"Month\"]],on=\"Month\")\n",
    "        df[\"Corr with lead 3 student loan volume\"]=df[\"student_vol(3)\"].corr(df[\"INTEREST RATE\"])\n",
    "\n",
    "        df=df.merge(stu[[\"student_vol(4)\",\"Month\"]],on=\"Month\")\n",
    "        df[\"Corr with lead 4 student loan volume\"]=df[\"student_vol(4)\"].corr(df[\"INTEREST RATE\"])\n",
    "\n",
    "        df=df.merge(cred[[\"credit_tightness\",\"Month\"]],on=\"Month\")\n",
    "        df[\"Corr with credit tightness\"]=df[\"credit_tightness\"].corr(df[\"INTEREST RATE\"])\n",
    "\n",
    "        df=df.merge(cred[[\"credit_tightness(-1)\",\"Month\"]],on=\"Month\")\n",
    "        df[\"Corr with lag 1 credit tightness\"]=df[\"credit_tightness(-1)\"].corr(df[\"INTEREST RATE\"])\n",
    "\n",
    "        df=df.merge(cred[[\"credit_tightness(-2)\",\"Month\"]],on=\"Month\")\n",
    "        df[\"Corr with lag 2 credit tightness\"]=df[\"credit_tightness(-2)\"].corr(df[\"INTEREST RATE\"])\n",
    "\n",
    "        df=df.merge(cred[[\"credit_tightness(-3)\",\"Month\"]],on=\"Month\")\n",
    "        df[\"Corr with lag 3 credit tightness\"]=df[\"credit_tightness(-3)\"].corr(df[\"INTEREST RATE\"])\n",
    "\n",
    "        df=df.merge(cred[[\"credit_tightness(-4)\",\"Month\"]],on=\"Month\")\n",
    "        df[\"Corr with lag 4 credit tightness\"]=df[\"credit_tightness(-4)\"].corr(df[\"INTEREST RATE\"])\n",
    "\n",
    "        df=df.merge(cred[[\"credit_tightness(1)\",\"Month\"]],on=\"Month\")\n",
    "        df[\"Corr with lead 1 credit tightness\"]=df[\"credit_tightness(1)\"].corr(df[\"INTEREST RATE\"])\n",
    "\n",
    "        df=df.merge(cred[[\"credit_tightness(2)\",\"Month\"]],on=\"Month\")\n",
    "        df[\"Corr with lead 2 credit tightness\"]=df[\"credit_tightness(2)\"].corr(df[\"INTEREST RATE\"])\n",
    "\n",
    "        df=df.merge(cred[[\"credit_tightness(3)\",\"Month\"]],on=\"Month\")\n",
    "        df[\"Corr with lead 3 credit tightness\"]=df[\"credit_tightness(3)\"].corr(df[\"INTEREST RATE\"])\n",
    "\n",
    "        df=df.merge(cred[[\"credit_tightness(4)\",\"Month\"]],on=\"Month\")\n",
    "        df[\"Corr with lead 4 credit tightness\"]=df[\"credit_tightness(4)\"].corr(df[\"INTEREST RATE\"])\n",
    "        df_list.append(df)\n",
    "    if len(df_list)!=0:\n",
    "        df_s=pd.concat(df_list).reset_index(drop=True)\n",
    "        df_s=df_s[['PROPERTY CITY', 'Month', 'INTEREST RATE', 'Category', 'ON',\n",
    "       'spread between libor ON', 'Corr with libor ON', '1W',\n",
    "       'spread between libor 1W', 'Corr with libor 1W', '1M',\n",
    "       'spread between libor 1M', 'Corr with libor 1M', '2M',\n",
    "       'spread between libor 2M', 'Corr with libor 2M', '3M',\n",
    "       'spread between libor 3M', 'Corr with libor 3M', '6M',\n",
    "       'spread between libor 6M', 'Corr with libor 6M', '12M',\n",
    "       'spread between libor 12M', 'Corr with libor 12M', '1 Mo',\n",
    "       'spread between 1 Mo treasury', 'Corr with 1 Mo treasury', '6 Mo',\n",
    "       'spread between 6 Mo treasury', 'Corr with 6 Mo treasury', '1 Yr',\n",
    "       'spread between 1 Yr treasury', 'Corr with 1 Yr treasury', '5 Yr',\n",
    "       'spread between 5 Yr treasury', 'Corr with 5 Yr treasury', '10 Yr',\n",
    "       'spread between 10 Yr treasury', 'Corr with 10 Yr treasury', '20 Yr',\n",
    "       'spread between 20 Yr treasury', 'Corr with 20 Yr treasury', '30 Yr',\n",
    "       'spread between 30 Yr treasury', 'Corr with 30 Yr treasury', 'auto_vol',\n",
    "       'Corr with auto loan volume', 'auto_vol(-1)',\n",
    "       'Corr with lag 1 auto loan volume', 'auto_vol(-2)',\n",
    "       'Corr with lag 2 auto loan volume', 'auto_vol(-3)',\n",
    "       'Corr with lag 3 auto loan volume', 'auto_vol(-4)',\n",
    "       'Corr with lag 4 auto loan volume', 'auto_vol(1)',\n",
    "       'Corr with lead 1 auto loan volume', 'auto_vol(2)',\n",
    "       'Corr with lead 2 auto loan volume', 'auto_vol(3)',\n",
    "       'Corr with lead 3 auto loan volume', 'auto_vol(4)',\n",
    "       'Corr with lead 4 auto loan volume', 'student_vol',\n",
    "       'Corr with student loan volume', 'student_vol(-1)',\n",
    "       'Corr with lag 1 student loan volume', 'student_vol(-2)',\n",
    "       'Corr with lag 2 student loan volume', 'student_vol(-3)',\n",
    "       'Corr with lag 3 student loan volume', 'student_vol(-4)',\n",
    "       'Corr with lag 4 student loan volume', 'student_vol(1)',\n",
    "       'Corr with lead 1 student loan volume', 'student_vol(2)',\n",
    "       'Corr with lead 2 student loan volume', 'student_vol(3)',\n",
    "       'Corr with lead 3 student loan volume', 'student_vol(4)',\n",
    "       'Corr with lead 4 student loan volume', 'credit_tightness',\n",
    "       'Corr with credit tightness', 'credit_tightness(-1)',\n",
    "       'Corr with lag 1 credit tightness', 'credit_tightness(-2)',\n",
    "       'Corr with lag 2 credit tightness', 'credit_tightness(-3)',\n",
    "       'Corr with lag 3 credit tightness', 'credit_tightness(-4)',\n",
    "       'Corr with lag 4 credit tightness', 'credit_tightness(1)',\n",
    "       'Corr with lead 1 credit tightness', 'credit_tightness(2)',\n",
    "       'Corr with lead 2 credit tightness', 'credit_tightness(3)',\n",
    "       'Corr with lead 3 credit tightness', 'credit_tightness(4)',\n",
    "       'Corr with lead 4 credit tightness']]\n",
    "        df_s.to_csv(name+\"_month.csv\",index=False)"
   ]
  },
  {
   "cell_type": "code",
   "execution_count": null,
   "metadata": {},
   "outputs": [],
   "source": [
    "cities=[\"BOSTON\", \"PHILADELPHIA\", \"NEW YORK\", \"WASHINGTON\", \"CHICAGO\", \"LOS ANGELES\", \"ATLANTA\"]"
   ]
  },
  {
   "cell_type": "code",
   "execution_count": null,
   "metadata": {},
   "outputs": [],
   "source": []
  },
  {
   "cell_type": "code",
   "execution_count": null,
   "metadata": {},
   "outputs": [],
   "source": []
  },
  {
   "cell_type": "code",
   "execution_count": null,
   "metadata": {},
   "outputs": [],
   "source": []
  },
  {
   "cell_type": "code",
   "execution_count": null,
   "metadata": {},
   "outputs": [],
   "source": []
  },
  {
   "cell_type": "code",
   "execution_count": null,
   "metadata": {},
   "outputs": [],
   "source": []
  },
  {
   "cell_type": "code",
   "execution_count": null,
   "metadata": {},
   "outputs": [],
   "source": []
  },
  {
   "cell_type": "code",
   "execution_count": null,
   "metadata": {},
   "outputs": [],
   "source": []
  }
 ],
 "metadata": {
  "kernelspec": {
   "display_name": "Python 3",
   "language": "python",
   "name": "python3"
  },
  "language_info": {
   "codemirror_mode": {
    "name": "ipython",
    "version": 3
   },
   "file_extension": ".py",
   "mimetype": "text/x-python",
   "name": "python",
   "nbconvert_exporter": "python",
   "pygments_lexer": "ipython3",
   "version": "3.7.4"
  }
 },
 "nbformat": 4,
 "nbformat_minor": 2
}
