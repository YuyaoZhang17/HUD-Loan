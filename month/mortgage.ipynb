{
 "cells": [
  {
   "cell_type": "code",
   "execution_count": 1,
   "metadata": {},
   "outputs": [],
   "source": [
    "import pandas as pd\n",
    "import numpy as np"
   ]
  },
  {
   "cell_type": "code",
   "execution_count": 2,
   "metadata": {},
   "outputs": [],
   "source": [
    "mg=pd.read_csv(\"../mortgage/metro30_89.csv\")\n",
    "mg=mg.drop(columns={\"RegionType\",\"CBSACode\"})"
   ]
  },
  {
   "cell_type": "code",
   "execution_count": 3,
   "metadata": {},
   "outputs": [],
   "source": [
    "mg_2=pd.read_csv(\"../mortgage/metro90.csv\")\n",
    "mg_2=mg_2.drop(columns={\"RegionType\",\"CBSACode\"})"
   ]
  },
  {
   "cell_type": "code",
   "execution_count": 4,
   "metadata": {},
   "outputs": [],
   "source": [
    "cities=[\"BOSTON\", \"PHILADELPHIA\", \"NEW YORK\", \"WASHINGTON\", \"CHICAGO\", \"LOS ANGELES\", \"ATLANTA\",\"MIAMI\"]"
   ]
  },
  {
   "cell_type": "code",
   "execution_count": 5,
   "metadata": {},
   "outputs": [],
   "source": [
    "bs=mg[mg[\"Name\"]==\"Boston-Cambridge-Newton, MA-NH\"]"
   ]
  },
  {
   "cell_type": "code",
   "execution_count": 6,
   "metadata": {},
   "outputs": [],
   "source": [
    "bs=bs.drop(columns=[\"Name\"])"
   ]
  },
  {
   "cell_type": "code",
   "execution_count": 7,
   "metadata": {},
   "outputs": [],
   "source": [
    "bs=np.transpose(bs)"
   ]
  },
  {
   "cell_type": "code",
   "execution_count": 8,
   "metadata": {},
   "outputs": [],
   "source": [
    "bs=bs.rename(columns={31:\"30-89\"})"
   ]
  },
  {
   "cell_type": "code",
   "execution_count": 9,
   "metadata": {},
   "outputs": [],
   "source": [
    "bs_2=mg_2[mg_2[\"Name\"]==\"Boston-Cambridge-Newton, MA-NH\"]"
   ]
  },
  {
   "cell_type": "code",
   "execution_count": 10,
   "metadata": {},
   "outputs": [],
   "source": [
    "bs_2=np.transpose(bs_2.drop(columns=\"Name\"))"
   ]
  },
  {
   "cell_type": "code",
   "execution_count": 11,
   "metadata": {},
   "outputs": [],
   "source": [
    "bs_2=bs_2.rename(columns={31:\"90\"})"
   ]
  },
  {
   "cell_type": "code",
   "execution_count": 12,
   "metadata": {},
   "outputs": [],
   "source": [
    "def add_shift(cc):\n",
    "    cc[\"30-89(-1)\"]=cc[\"30-89\"].shift(1)\n",
    "    cc[\"30-89(-2)\"]=cc[\"30-89\"].shift(2)\n",
    "    cc[\"30-89(-3)\"]=cc[\"30-89\"].shift(3)\n",
    "    cc[\"30-89(-4)\"]=cc[\"30-89\"].shift(4)\n",
    "    cc[\"30-89(1)\"]=cc[\"30-89\"].shift(-1)\n",
    "    cc[\"30-89(2)\"]=cc[\"30-89\"].shift(-2)\n",
    "    cc[\"30-89(3)\"]=cc[\"30-89\"].shift(-3)\n",
    "    cc[\"30-89(4)\"]=cc[\"30-89\"].shift(-4)\n",
    "    cc[\"90(-1)\"]=cc[\"90\"].shift(1)\n",
    "    cc[\"90(-2)\"]=cc[\"90\"].shift(2)\n",
    "    cc[\"90(-3)\"]=cc[\"90\"].shift(3)\n",
    "    cc[\"90(-4)\"]=cc[\"90\"].shift(4)\n",
    "    cc[\"90(1)\"]=cc[\"90\"].shift(-1)\n",
    "    cc[\"90(2)\"]=cc[\"90\"].shift(-2)\n",
    "    cc[\"90(3)\"]=cc[\"90\"].shift(-3)\n",
    "    cc[\"90(4)\"]=cc[\"90\"].shift(-4)\n",
    "    return cc"
   ]
  },
  {
   "cell_type": "code",
   "execution_count": 13,
   "metadata": {},
   "outputs": [],
   "source": [
    "bs=pd.concat([bs,bs_2],axis=1)"
   ]
  },
  {
   "cell_type": "code",
   "execution_count": 14,
   "metadata": {},
   "outputs": [],
   "source": [
    "bs=add_shift(bs)"
   ]
  },
  {
   "cell_type": "code",
   "execution_count": 15,
   "metadata": {},
   "outputs": [],
   "source": [
    "bs.to_csv(\"BOSTON mortgage.csv\")"
   ]
  },
  {
   "cell_type": "code",
   "execution_count": 16,
   "metadata": {},
   "outputs": [],
   "source": [
    "ph=mg[mg[\"Name\"]==\"Philadelphia-Camden-Wilmington, PA-NJ-DE-MD\"]\n",
    "ph=ph.drop(columns=\"Name\")\n",
    "ph=np.transpose(ph)\n",
    "ph=ph.rename(columns={186:\"30-89\"})\n",
    "ph_2=mg_2[mg_2[\"Name\"]==\"Philadelphia-Camden-Wilmington, PA-NJ-DE-MD\"]\n",
    "ph_2=np.transpose(ph_2.drop(columns=\"Name\"))\n",
    "ph=pd.concat([ph,ph_2],axis=1)\n",
    "ph=ph.rename(columns={186:\"90\"})"
   ]
  },
  {
   "cell_type": "code",
   "execution_count": 17,
   "metadata": {},
   "outputs": [],
   "source": [
    "ph[\"30-89(-1)\"]=ph[\"30-89\"].shift(1)\n",
    "ph[\"30-89(-2)\"]=ph[\"30-89\"].shift(2)\n",
    "ph[\"30-89(-3)\"]=ph[\"30-89\"].shift(3)\n",
    "ph[\"30-89(-4)\"]=ph[\"30-89\"].shift(4)\n",
    "ph[\"30-89(1)\"]=ph[\"30-89\"].shift(-1)\n",
    "ph[\"30-89(2)\"]=ph[\"30-89\"].shift(-2)\n",
    "ph[\"30-89(3)\"]=ph[\"30-89\"].shift(-3)\n",
    "ph[\"30-89(4)\"]=ph[\"30-89\"].shift(-4)\n",
    "ph[\"90(-1)\"]=ph[\"90\"].shift(1)\n",
    "ph[\"90(-2)\"]=ph[\"90\"].shift(2)\n",
    "ph[\"90(-3)\"]=ph[\"90\"].shift(3)\n",
    "ph[\"90(-4)\"]=ph[\"90\"].shift(4)\n",
    "ph[\"90(1)\"]=ph[\"90\"].shift(-1)\n",
    "ph[\"90(2)\"]=ph[\"90\"].shift(-2)\n",
    "ph[\"90(3)\"]=ph[\"90\"].shift(-3)\n",
    "ph[\"90(4)\"]=ph[\"90\"].shift(-4)"
   ]
  },
  {
   "cell_type": "code",
   "execution_count": 42,
   "metadata": {},
   "outputs": [],
   "source": [
    "ph.to_csv(\"PHILADELPHIA mortgage.csv\")"
   ]
  },
  {
   "cell_type": "code",
   "execution_count": 43,
   "metadata": {},
   "outputs": [],
   "source": [
    "ny=mg[mg[\"Name\"]==\"New York-Newark-Jersey City, NY-NJ-PA\"]\n",
    "ny=ny.drop(columns=\"Name\")\n",
    "ny=np.transpose(ny)\n",
    "ny=ny.rename(columns={169:\"30-89\"})\n",
    "ny_2=mg_2[mg_2[\"Name\"]==\"New York-Newark-Jersey City, NY-NJ-PA\"]\n",
    "ny_2=np.transpose(ny_2.drop(columns=\"Name\"))\n",
    "ny=pd.concat([ny,ny_2],axis=1)\n",
    "ny=ny.rename(columns={169:\"90\"})"
   ]
  },
  {
   "cell_type": "code",
   "execution_count": 44,
   "metadata": {},
   "outputs": [],
   "source": [
    "ny[\"30-89(-1)\"]=ny[\"30-89\"].shift(1)\n",
    "ny[\"30-89(-2)\"]=ny[\"30-89\"].shift(2)\n",
    "ny[\"30-89(-3)\"]=ny[\"30-89\"].shift(3)\n",
    "ny[\"30-89(-4)\"]=ny[\"30-89\"].shift(4)\n",
    "ny[\"30-89(1)\"]=ny[\"30-89\"].shift(-1)\n",
    "ny[\"30-89(2)\"]=ny[\"30-89\"].shift(-2)\n",
    "ny[\"30-89(3)\"]=ny[\"30-89\"].shift(-3)\n",
    "ny[\"30-89(4)\"]=ny[\"30-89\"].shift(-4)\n",
    "ny[\"90(-1)\"]=ny[\"90\"].shift(1)\n",
    "ny[\"90(-2)\"]=ny[\"90\"].shift(2)\n",
    "ny[\"90(-3)\"]=ny[\"90\"].shift(3)\n",
    "ny[\"90(-4)\"]=ny[\"90\"].shift(4)\n",
    "ny[\"90(1)\"]=ny[\"90\"].shift(-1)\n",
    "ny[\"90(2)\"]=ny[\"90\"].shift(-2)\n",
    "ny[\"90(3)\"]=ny[\"90\"].shift(-3)\n",
    "ny[\"90(4)\"]=ny[\"90\"].shift(-4)"
   ]
  },
  {
   "cell_type": "code",
   "execution_count": 45,
   "metadata": {},
   "outputs": [],
   "source": [
    "ny.to_csv(\"NEW YORK mortgage.csv\")"
   ]
  },
  {
   "cell_type": "code",
   "execution_count": 46,
   "metadata": {},
   "outputs": [],
   "source": [
    "ws=mg[mg[\"Name\"]==\"Washington-Arlington-Alexandria, DC-VA-MD-WV\"]\n",
    "ws=ws.drop(columns=\"Name\")\n",
    "ws=np.transpose(ws)\n",
    "ws=ws.rename(columns={260:\"30-89\"})\n",
    "ws_2=mg_2[mg_2[\"Name\"]==\"Washington-Arlington-Alexandria, DC-VA-MD-WV\"]\n",
    "ws_2=np.transpose(ws_2.drop(columns=\"Name\"))\n",
    "ws=pd.concat([ws,ws_2],axis=1)\n",
    "ws=ws.rename(columns={260:\"90\"})"
   ]
  },
  {
   "cell_type": "code",
   "execution_count": 47,
   "metadata": {},
   "outputs": [],
   "source": [
    "ws[\"30-89(-1)\"]=ws[\"30-89\"].shift(1)\n",
    "ws[\"30-89(-2)\"]=ws[\"30-89\"].shift(2)\n",
    "ws[\"30-89(-3)\"]=ws[\"30-89\"].shift(3)\n",
    "ws[\"30-89(-4)\"]=ws[\"30-89\"].shift(4)\n",
    "ws[\"30-89(1)\"]=ws[\"30-89\"].shift(-1)\n",
    "ws[\"30-89(2)\"]=ws[\"30-89\"].shift(-2)\n",
    "ws[\"30-89(3)\"]=ws[\"30-89\"].shift(-3)\n",
    "ws[\"30-89(4)\"]=ws[\"30-89\"].shift(-4)\n",
    "ws[\"90(-1)\"]=ws[\"90\"].shift(1)\n",
    "ws[\"90(-2)\"]=ws[\"90\"].shift(2)\n",
    "ws[\"90(-3)\"]=ws[\"90\"].shift(3)\n",
    "ws[\"90(-4)\"]=ws[\"90\"].shift(4)\n",
    "ws[\"90(1)\"]=ws[\"90\"].shift(-1)\n",
    "ws[\"90(2)\"]=ws[\"90\"].shift(-2)\n",
    "ws[\"90(3)\"]=ws[\"90\"].shift(-3)\n",
    "ws[\"90(4)\"]=ws[\"90\"].shift(-4)"
   ]
  },
  {
   "cell_type": "code",
   "execution_count": 48,
   "metadata": {},
   "outputs": [],
   "source": [
    "ws.to_csv(\"WASHINGTON mortgage.csv\")"
   ]
  },
  {
   "cell_type": "code",
   "execution_count": 49,
   "metadata": {},
   "outputs": [],
   "source": [
    "cc=mg[mg[\"Name\"]==\"Chicago-Naperville-Elgin, IL-IN-WI\"]\n",
    "cc=cc.drop(columns=\"Name\")\n",
    "cc=np.transpose(cc)\n",
    "cc=cc.rename(columns={51:\"30-89\"})\n",
    "cc_2=mg_2[mg_2[\"Name\"]==\"Chicago-Naperville-Elgin, IL-IN-WI\"]\n",
    "cc_2=np.transpose(cc_2.drop(columns=\"Name\"))\n",
    "cc=pd.concat([cc,cc_2],axis=1)\n",
    "cc=cc.rename(columns={51:\"90\"})"
   ]
  },
  {
   "cell_type": "code",
   "execution_count": 50,
   "metadata": {},
   "outputs": [],
   "source": [
    "cc[\"30-89(-1)\"]=cc[\"30-89\"].shift(1)\n",
    "cc[\"30-89(-2)\"]=cc[\"30-89\"].shift(2)\n",
    "cc[\"30-89(-3)\"]=cc[\"30-89\"].shift(3)\n",
    "cc[\"30-89(-4)\"]=cc[\"30-89\"].shift(4)\n",
    "cc[\"30-89(1)\"]=cc[\"30-89\"].shift(-1)\n",
    "cc[\"30-89(2)\"]=cc[\"30-89\"].shift(-2)\n",
    "cc[\"30-89(3)\"]=cc[\"30-89\"].shift(-3)\n",
    "cc[\"30-89(4)\"]=cc[\"30-89\"].shift(-4)\n",
    "cc[\"90(-1)\"]=cc[\"90\"].shift(1)\n",
    "cc[\"90(-2)\"]=cc[\"90\"].shift(2)\n",
    "cc[\"90(-3)\"]=cc[\"90\"].shift(3)\n",
    "cc[\"90(-4)\"]=cc[\"90\"].shift(4)\n",
    "cc[\"90(1)\"]=cc[\"90\"].shift(-1)\n",
    "cc[\"90(2)\"]=cc[\"90\"].shift(-2)\n",
    "cc[\"90(3)\"]=cc[\"90\"].shift(-3)\n",
    "cc[\"90(4)\"]=cc[\"90\"].shift(-4)"
   ]
  },
  {
   "cell_type": "code",
   "execution_count": 51,
   "metadata": {},
   "outputs": [],
   "source": [
    "cc.to_csv(\"CHICAGO mortgage.csv\")"
   ]
  },
  {
   "cell_type": "code",
   "execution_count": 52,
   "metadata": {},
   "outputs": [],
   "source": [
    "la=mg[mg[\"Name\"]==\"Los Angeles-Long Beach-Anaheim, CA\"]\n",
    "la=la.drop(columns=\"Name\")\n",
    "la=np.transpose(la)\n",
    "la=la.rename(columns={145:\"30-89\"})\n",
    "la_2=mg_2[mg_2[\"Name\"]==\"Los Angeles-Long Beach-Anaheim, CA\"]\n",
    "la_2=np.transpose(la_2.drop(columns=\"Name\"))\n",
    "la=pd.concat([la,la_2],axis=1)\n",
    "la=la.rename(columns={145:\"90\"})\n",
    "la=add_shift(la)"
   ]
  },
  {
   "cell_type": "code",
   "execution_count": 53,
   "metadata": {},
   "outputs": [],
   "source": [
    "la.to_csv(\"LOS ANGELES mortgage.csv\")"
   ]
  },
  {
   "cell_type": "code",
   "execution_count": 54,
   "metadata": {},
   "outputs": [],
   "source": [
    "at=mg[mg[\"Name\"]==\"Atlanta-Sandy Springs-Roswell, GA\"]\n",
    "at=at.drop(columns=\"Name\")\n",
    "at=np.transpose(at)\n",
    "at=at.rename(columns={11:\"30-89\"})\n",
    "at_2=mg_2[mg_2[\"Name\"]==\"Atlanta-Sandy Springs-Roswell, GA\"]\n",
    "at_2=np.transpose(at_2.drop(columns=\"Name\"))\n",
    "at=pd.concat([at,at_2],axis=1)\n",
    "at=at.rename(columns={11:\"90\"})\n",
    "at=add_shift(at)"
   ]
  },
  {
   "cell_type": "code",
   "execution_count": 55,
   "metadata": {},
   "outputs": [],
   "source": [
    "at.to_csv(\"ATLANTA mortgage.csv\")"
   ]
  },
  {
   "cell_type": "code",
   "execution_count": null,
   "metadata": {},
   "outputs": [],
   "source": []
  },
  {
   "cell_type": "code",
   "execution_count": null,
   "metadata": {},
   "outputs": [],
   "source": []
  }
 ],
 "metadata": {
  "kernelspec": {
   "display_name": "Python 3",
   "language": "python",
   "name": "python3"
  },
  "language_info": {
   "codemirror_mode": {
    "name": "ipython",
    "version": 3
   },
   "file_extension": ".py",
   "mimetype": "text/x-python",
   "name": "python",
   "nbconvert_exporter": "python",
   "pygments_lexer": "ipython3",
   "version": "3.7.4"
  }
 },
 "nbformat": 4,
 "nbformat_minor": 2
}
