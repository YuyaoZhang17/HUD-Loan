{
 "cells": [
  {
   "cell_type": "code",
   "execution_count": null,
   "metadata": {},
   "outputs": [],
   "source": [
    "import pandas as pd\n",
    "import numpy as np\n",
    "import datetime\n",
    "import glob\n",
    "import dash\n",
    "import matplotlib\n",
    "from matplotlib import pyplot as plt\n",
    "import seaborn as sns"
   ]
  },
  {
   "cell_type": "code",
   "execution_count": null,
   "metadata": {},
   "outputs": [],
   "source": [
    "def norm(df):\n",
    "    df_2=(df - df.min()) / (df.max() - df.min())\n",
    "    return df_2"
   ]
  },
  {
   "cell_type": "code",
   "execution_count": null,
   "metadata": {},
   "outputs": [],
   "source": [
    "folder=r'All/Category'\n",
    "path_s=glob.glob(folder+\"/*\")\n",
    "for path in path_s:\n",
    "    allFiles = glob.glob(path + \"/*.csv\")\n",
    "    for file in allFiles:\n",
    "        sub = pd.read_csv(file, header=0)\n",
    "        \n",
    "        if len(sub)>10:\n",
    "            \n",
    "            x=sub[\"Month\"].map(lambda x:str.split(x,\"/\")[-1])\n",
    "            fig=plt.figure(figsize=(20,10))\n",
    "            plt.grid(dash)\n",
    "            plt.plot(x, sub[\"INTEREST RATE\"], label=\"Loan Rate\",color=\"black\")\n",
    "            plt.plot(x , sub[\"ON\"],label=\"ON Libor\")\n",
    "            plt.plot(x , sub[\"1W\"],label=\"1 Week Libor\")\n",
    "            plt.plot(x , sub[\"1M\"],label=\"1 Month Libor\")\n",
    "            plt.plot(x , sub[\"6M\"],label=\"6 Month Libor\")\n",
    "            plt.plot(x, sub[\"12M\"], label=\"12 Month Libor\")\n",
    "            plt.plot(x , sub[\"1 Yr\"],label=\"1 Yr Treasury rate\")\n",
    "            plt.plot(x , sub[\"5 Yr\"],label=\"5 Yr Treasury rate\")\n",
    "            plt.plot(x , sub[\"10 Yr\"],label=\"10 Yr Treasury rate\")\n",
    "            plt.plot(x , sub[\"20 Yr\"],label=\"20 Yr Treasury rate\")\n",
    "            plt.plot(x, sub[\"30 Yr\"], label=\"30 Yr Treasury rate\")\n",
    "            \n",
    "            plt.ylabel('rate %',fontsize = 16)\n",
    "            \n",
    "            name='figure/All/Rates/'+sub[\"PROPERTY CITY\"][0]+\"_\"+sub[\"PROPERTY STATE\"][0]+\" \"+sub[\"Category\"][0]+'.jpg'\n",
    "            plt.title(name)\n",
    "            \n",
    "            plt.xticks(np.arange(len(sub), step=len(sub)/12))\n",
    "            plt.legend(loc=\"upper right\")\n",
    "            \n",
    "            plt.savefig(name)\n",
    "            \n",
    "            "
   ]
  },
  {
   "cell_type": "code",
   "execution_count": null,
   "metadata": {},
   "outputs": [],
   "source": [
    "folder=r'All/Category'\n",
    "path_s=glob.glob(folder+\"/*\")\n",
    "for path in path_s:\n",
    "    allFiles = glob.glob(path + \"/*.csv\")\n",
    "    for file in allFiles:\n",
    "        sub = pd.read_csv(file, header=0)\n",
    "        \n",
    "        if len(sub)>10:\n",
    "            \n",
    "            x=sub[\"Month\"].map(lambda x:str.split(x,\"/\")[-1])\n",
    "            fig=plt.figure(figsize=(20,20))\n",
    "            data_sub=sub[[\"INTEREST RATE\",\"ON\",\"1W\",\"1M\",\"2M\",\"3M\",\"6M\",\"12M\",\"1 Mo\",\"6 Mo\",\n",
    "                          \"1 Yr\",\"5 Yr\",\"10 Yr\",\"20 Yr\",\"30 Yr\"]]\n",
    "            corr=data_sub.corr()\n",
    "            fig=sns.heatmap(corr, xticklabels=corr.columns,yticklabels=corr.columns,annot=True,robust=True)\n",
    "            name2='figure/All/Rates/'+sub[\"PROPERTY CITY\"][0]+\"_\"+sub[\"PROPERTY STATE\"][0]+\" \"+sub[\"Category\"][0]+\" heatmap\"+'.jpg'\n",
    "            plt.savefig(name2,bbox_inches=\"tight\")"
   ]
  },
  {
   "cell_type": "code",
   "execution_count": null,
   "metadata": {},
   "outputs": [],
   "source": [
    "test=pd.read_csv(\"All/Category/Health Care Facilities/CHICAGO_IL.csv\")"
   ]
  },
  {
   "cell_type": "code",
   "execution_count": null,
   "metadata": {},
   "outputs": [],
   "source": [
    "test[\"INTEREST RATE\"].corr(test[\"30 Yr\"],method=\"pearson\")"
   ]
  },
  {
   "cell_type": "code",
   "execution_count": null,
   "metadata": {},
   "outputs": [],
   "source": [
    "test"
   ]
  },
  {
   "cell_type": "code",
   "execution_count": null,
   "metadata": {},
   "outputs": [],
   "source": []
  },
  {
   "cell_type": "code",
   "execution_count": null,
   "metadata": {},
   "outputs": [],
   "source": []
  },
  {
   "cell_type": "code",
   "execution_count": null,
   "metadata": {},
   "outputs": [],
   "source": []
  },
  {
   "cell_type": "code",
   "execution_count": null,
   "metadata": {},
   "outputs": [],
   "source": [
    "folder=r'All/Category'\n",
    "path_s=glob.glob(folder+\"/*\")\n",
    "for path in path_s:\n",
    "    allFiles = glob.glob(path + \"/*.csv\")\n",
    "    for file in allFiles:\n",
    "        sub = pd.read_csv(file, header=0)\n",
    "        \n",
    "        if len(sub)>10:\n",
    "            matplotlib.use('Agg')\n",
    "            x=sub[\"Month\"].map(lambda x:str.split(x,\"/\")[-1])\n",
    "            plt.figure(figsize=(20,10))\n",
    "            plt.grid(dash)\n",
    "            spreads=sub.columns[sub.columns.map(lambda x:str.split(x,\" \")[0]).isin([\"spread\"])]\n",
    "            plt.plot(x,sub[\"spread between libor ON\"],label=\"spread between libor ON\")\n",
    "            plt.plot(x,sub[\"spread between libor 1W\"],label=\"spread between libor 1W\")\n",
    "            plt.plot(x,sub[\"spread between libor 1M\"],label=\"spread between libor 1M\")\n",
    "            plt.plot(x,sub[\"spread between libor 2M\"],label=\"spread between libor 2M\")\n",
    "            plt.plot(x,sub[\"spread between libor 3M\"],label=\"spread between libor 3M\")\n",
    "            plt.plot(x,sub['spread between libor 6M'],label='spread between libor 6M')\n",
    "            plt.plot(x,sub['spread between libor 12M'],label='spread between libor 12M')\n",
    "            \n",
    "            plt.ylabel('spreads',fontsize = 16)\n",
    "            name='figure/All/Spreads/Libor/'+sub[\"PROPERTY CITY\"][0]+\"_\"+sub[\"PROPERTY STATE\"][0]+\" \"+sub[\"Category\"][0]+'.jpg'\n",
    "            plt.title(name)\n",
    "            plt.xticks(np.arange(len(sub), step=len(sub)/12))\n",
    "            plt.legend(loc=\"upper right\")\n",
    "            plt.savefig(name)\n",
    "            \n",
    "            \n",
    "            \n",
    "            figsize=(20,10)\n",
    "            plt.grid(dash)\n",
    "            spreads=sub.columns[sub.columns.map(lambda x:str.split(x,\" \")[0]).isin([\"spread\"])]\n",
    "            plt.plot(x,sub[\"spread between 1 Mo treasury\"],label=\"spread between 1 Mo treasury\")\n",
    "            plt.plot(x,sub[\"spread between 6 Mo treasury\"],label=\"spread between 6 Mo treasury\")\n",
    "            plt.plot(x,sub[\"spread between 1 Yr treasury\"],label=\"spread between 1 Yr treasury\")\n",
    "            plt.plot(x,sub[\"spread between 5 Yr treasury\"],label=\"spread between 5 Yr treasury\")\n",
    "            plt.plot(x,sub[\"spread between 10 Yr treasury\"],label=\"spread between 10 Yr treasury\")\n",
    "            plt.plot(x,sub['spread between 20 Yr treasury'],label='spread between 20 Yr treasury')\n",
    "            plt.plot(x,sub['spread between 30 Yr treasury'],label='spread between 30 Yr treasury')\n",
    "            \n",
    "            plt.ylabel('spreads',fontsize = 16)\n",
    "            name2='figure/All/Spreads/Treasury/'+sub[\"PROPERTY CITY\"][0]+\"_\"+sub[\"PROPERTY STATE\"][0]+\" \"+sub[\"Category\"][0]+'.jpg'\n",
    "            plt.title(name2)\n",
    "            plt.xticks(np.arange(len(sub), step=len(sub)/12))\n",
    "            plt.legend(loc=\"upper right\")\n",
    "            plt.savefig(name2)"
   ]
  },
  {
   "cell_type": "code",
   "execution_count": null,
   "metadata": {},
   "outputs": [],
   "source": []
  }
 ],
 "metadata": {
  "kernelspec": {
   "display_name": "Python 3",
   "language": "python",
   "name": "python3"
  },
  "language_info": {
   "codemirror_mode": {
    "name": "ipython",
    "version": 3
   },
   "file_extension": ".py",
   "mimetype": "text/x-python",
   "name": "python",
   "nbconvert_exporter": "python",
   "pygments_lexer": "ipython3",
   "version": "3.7.4"
  }
 },
 "nbformat": 4,
 "nbformat_minor": 2
}
