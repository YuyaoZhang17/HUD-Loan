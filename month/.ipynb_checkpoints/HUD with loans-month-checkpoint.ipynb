{
 "cells": [
  {
   "cell_type": "code",
   "execution_count": null,
   "metadata": {},
   "outputs": [],
   "source": [
    "import pandas as pd\n",
    "import numpy as np\n",
    "import datetime\n",
    "import glob\n",
    "import dash\n",
    "from matplotlib import pyplot as plt\n",
    "import seaborn as sns"
   ]
  },
  {
   "cell_type": "code",
   "execution_count": null,
   "metadata": {},
   "outputs": [],
   "source": [
    "def norm(df):\n",
    "    df_2=(df - df.min()) / (df.max() - df.min())\n",
    "    return df_2"
   ]
  },
  {
   "cell_type": "code",
   "execution_count": null,
   "metadata": {},
   "outputs": [],
   "source": [
    "folder=r'All/Category'\n",
    "path_s=glob.glob(folder+\"/*\")\n",
    "for path in path_s:\n",
    "    allFiles = glob.glob(path + \"/*.csv\")\n",
    "    for file in allFiles:\n",
    "        sub = pd.read_csv(file, header=0)\n",
    "        \n",
    "        if len(sub)>10:\n",
    "            \n",
    "            x=sub[\"Month\"].map(lambda x:str.split(x,\"/\")[-1])\n",
    "            plt.figure(figsize=(20,10))\n",
    "            plt.grid(dash)\n",
    "            plt.plot(x, norm(sub[\"INTEREST RATE\"]), label=\"Loan Rate\",color=\"black\")\n",
    "            auto_name=sub.columns[list(sub.columns.map(lambda x: str.split(x,\"(\")[0])).index(\"auto_vol\")]\n",
    "            plt.plot(x , norm(sub[auto_name]),label=auto_name)\n",
    "            stu_name=sub.columns[list(sub.columns.map(lambda x: str.split(x,\"(\")[0])).index(\"student_vol\")]\n",
    "            plt.plot(x , norm(sub[stu_name]),label=stu_name)\n",
    "            cre_name=sub.columns[list(sub.columns.map(lambda x: str.split(x,\"(\")[0])).index(\"credit_tightness\")]\n",
    "            plt.plot(x , norm(sub[cre_name]),label=cre_name)\n",
    "            mo1_name=sub.columns[list(sub.columns.map(lambda x: str.split(x,\"(\")[0])).index(\"mortgage 30-89\")]\n",
    "            plt.plot(x , norm(sub[mo1_name]),label=mo1_name)\n",
    "            mo2_name=sub.columns[list(sub.columns.map(lambda x: str.split(x,\"(\")[0])).index(\"mortgage 90\")]\n",
    "            plt.plot(x , norm(sub[mo2_name]),label=mo2_name)\n",
    "            title=str(sub[\"PROPERTY CITY\"][0]+\" of \"+sub[\"Category\"][0])\n",
    "            plt.title(title)\n",
    "            plt.xticks(np.arange(len(sub), step=len(sub)/12))\n",
    "            plt.legend(loc=\"upper right\")\n",
    "            name='figure/All/Loans/'+sub[\"PROPERTY CITY\"][0]+\"_\"+sub[\"PROPERTY STATE\"][0]+\" \"+sub[\"Category\"][0]+'.jpg'\n",
    "            plt.savefig(name)\n",
    "            \n",
    "            \n",
    "            data_sub=sub[[\"INTEREST RATE\",\"ON\",\"1W\",\"1M\",\"2M\",\"3M\",\"6M\",\"12M\",\"1 Mo\",\"6 Mo\",\n",
    "                          \"1 Yr\",\"5 Yr\",\"10 Yr\",\"20 Yr\",\"30 Yr\",auto_name,stu_name,cre_name,mo1_name,mo2_name]]\n",
    "            corr=data_sub.corr()\n",
    "            \n",
    "            plt.figure(figsize=(20,20))\n",
    "            fig=sns.heatmap(corr, xticklabels=corr.columns,yticklabels=corr.columns,annot=True)\n",
    "            name2='figure/All/Loans/'+sub[\"PROPERTY CITY\"][0]+\"_\"+sub[\"PROPERTY STATE\"][0]+\" \"+sub[\"Category\"][0]+\" heatmap\"+'.jpg'\n",
    "            plt.savefig(name2,bbox_inches=\"tight\")"
   ]
  },
  {
   "cell_type": "code",
   "execution_count": null,
   "metadata": {},
   "outputs": [],
   "source": []
  },
  {
   "cell_type": "code",
   "execution_count": null,
   "metadata": {},
   "outputs": [],
   "source": []
  }
 ],
 "metadata": {
  "kernelspec": {
   "display_name": "Python 3",
   "language": "python",
   "name": "python3"
  },
  "language_info": {
   "codemirror_mode": {
    "name": "ipython",
    "version": 3
   },
   "file_extension": ".py",
   "mimetype": "text/x-python",
   "name": "python",
   "nbconvert_exporter": "python",
   "pygments_lexer": "ipython3",
   "version": "3.7.4"
  }
 },
 "nbformat": 4,
 "nbformat_minor": 2
}
