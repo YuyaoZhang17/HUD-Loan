{
 "cells": [
  {
   "cell_type": "code",
   "execution_count": 1,
   "metadata": {},
   "outputs": [],
   "source": [
    "import pandas as pd\n",
    "import numpy as np\n",
    "import datetime\n",
    "import glob"
   ]
  },
  {
   "cell_type": "code",
   "execution_count": 2,
   "metadata": {},
   "outputs": [],
   "source": [
    "start=\"2009-10-14\""
   ]
  },
  {
   "cell_type": "code",
   "execution_count": 3,
   "metadata": {},
   "outputs": [],
   "source": [
    "libor=pd.read_csv(\"../LIBOR USD.csv\")"
   ]
  },
  {
   "cell_type": "code",
   "execution_count": 4,
   "metadata": {},
   "outputs": [],
   "source": [
    "libor[\"Date\"]=libor[\"Date\"].map(lambda x:pd.to_datetime(x,format='%d.%m.%Y'))"
   ]
  },
  {
   "cell_type": "code",
   "execution_count": 5,
   "metadata": {},
   "outputs": [],
   "source": [
    "libor[\"Month\"]=libor[\"Date\"].map(lambda x:x.to_period(\"M\"))"
   ]
  },
  {
   "cell_type": "code",
   "execution_count": 6,
   "metadata": {},
   "outputs": [],
   "source": [
    "libor=libor.sort_values(\"Date\")"
   ]
  },
  {
   "cell_type": "code",
   "execution_count": 7,
   "metadata": {},
   "outputs": [],
   "source": [
    "libor=libor[libor[\"Date\"]>start]\n",
    "libor=libor.groupby(\"Month\")[\"ON\",\"1W\",\"1M\",\"2M\",\"3M\",\"6M\",\"12M\"].mean()"
   ]
  },
  {
   "cell_type": "code",
   "execution_count": 8,
   "metadata": {},
   "outputs": [],
   "source": [
    "path_trea =r'../Treasury' \n",
    "allFiles_trea = glob.glob(path_trea + \"/*.csv\")\n",
    "frame_trea = pd.DataFrame()\n",
    "list_trea = []\n",
    "for file_trea in allFiles_trea:\n",
    "    df_trea = pd.read_csv(file_trea,index_col=\"Date\", header=0)\n",
    "    list_trea.append(df_trea)\n",
    "frame_trea=pd.concat(list_trea)"
   ]
  },
  {
   "cell_type": "code",
   "execution_count": 9,
   "metadata": {},
   "outputs": [],
   "source": [
    "frame_trea.index=frame_trea.index.map(lambda x:pd.to_datetime(x,format='%m/%d/%Y'))"
   ]
  },
  {
   "cell_type": "code",
   "execution_count": 10,
   "metadata": {},
   "outputs": [],
   "source": [
    "frame_trea[\"Month\"]=frame_trea.index.map(lambda x:x.to_period(\"M\"))"
   ]
  },
  {
   "cell_type": "code",
   "execution_count": 11,
   "metadata": {},
   "outputs": [],
   "source": [
    "frame_trea.to_csv(\"Treasury_month.csv\")"
   ]
  },
  {
   "cell_type": "code",
   "execution_count": 12,
   "metadata": {},
   "outputs": [],
   "source": [
    "frame_trea=frame_trea[frame_trea.index>start]\n",
    "frame_trea=frame_trea.groupby(\"Month\")[\"1 Mo\",\"6 Mo\",\"1 Yr\",\"5 Yr\",\"10 Yr\",\"20 Yr\",\"30 Yr\"].mean()"
   ]
  },
  {
   "cell_type": "code",
   "execution_count": 13,
   "metadata": {},
   "outputs": [],
   "source": [
    "cities=[\"BOSTON\", \"PHILADELPHIA\", \"NEW YORK\", \"WASHINGTON\", \"CHICAGO\", \"LOS ANGELES\", \"ATLANTA\",\"MIAMI\"]"
   ]
  },
  {
   "cell_type": "code",
   "execution_count": 14,
   "metadata": {},
   "outputs": [],
   "source": [
    "hud_cat=pd.read_csv(\"HUD with Category_month.csv\")"
   ]
  },
  {
   "cell_type": "code",
   "execution_count": 15,
   "metadata": {},
   "outputs": [],
   "source": [
    "hud=hud_cat.groupby([\"PROPERTY CITY\",\"Month\"])[\"INTEREST RATE\"].mean()\n",
    "hud=hud.reset_index([\"PROPERTY CITY\",\"Month\"])\n",
    "hud=hud[hud[\"PROPERTY CITY\"].isin(cities)]"
   ]
  },
  {
   "cell_type": "code",
   "execution_count": 16,
   "metadata": {},
   "outputs": [],
   "source": [
    "def select_lag(data1,data2,column):\n",
    "    data=data2.merge(data1,on=\"Month\",how=\"left\")\n",
    "    lags=[-4,-3,-2,-1,0,1,2,3,4]\n",
    "    corrs=[]\n",
    "    corrs_abs=[]\n",
    "    for i in range(len(lags)):\n",
    "        name=column+\"(\"+str(lags[i])+\")\"\n",
    "        data[name]=data[column].shift(-lags[i])\n",
    "        corrs.append(data[name].corr(data[\"INTEREST RATE\"]))\n",
    "        corrs_abs.append(abs(corrs[i]))\n",
    "    max_i=corrs_abs.index(max(corrs_abs))\n",
    "    if lags[max_i]==0:\n",
    "        new_name=column\n",
    "    else:\n",
    "        new_name=column+\"(\"+str(lags[max_i])+\")\"\n",
    "    data1=data1.merge(data[[new_name,\"Month\"]],on=\"Month\")\n",
    "    col_name=\"Corr with \"+new_name\n",
    "    data1[col_name]=corrs[max_i]\n",
    "    return data1"
   ]
  },
  {
   "cell_type": "code",
   "execution_count": null,
   "metadata": {},
   "outputs": [],
   "source": []
  },
  {
   "cell_type": "code",
   "execution_count": 17,
   "metadata": {},
   "outputs": [],
   "source": [
    "at_vol=pd.read_csv(\"../auto/vol_data_AUT.csv\")\n",
    "at_vol[\"date\"]=at_vol[\"date\"].map(lambda x:pd.to_datetime(x,format='%Y-%m'))\n",
    "at_vol[\"Month\"]=at_vol[\"date\"].map(lambda x:x.to_period(\"M\"))\n",
    "at_vol=at_vol.drop(columns={\"month\",'date'})\n",
    "at_vol=at_vol.rename(columns={\"vol\":\"auto_vol\"})\n"
   ]
  },
  {
   "cell_type": "code",
   "execution_count": 18,
   "metadata": {},
   "outputs": [],
   "source": [
    "cred=pd.read_csv(\"../credit card/tightness.csv\")\n",
    "cred[\"date\"]=cred[\"date\"].map(lambda x:pd.to_datetime(x,format=\"%Y-%m\"))\n",
    "cred[\"Month\"]=cred[\"date\"].map(lambda x: x.to_period(\"M\"))\n",
    "cred=cred.drop(columns={\"date\",\"month\"})\n",
    "cred=cred.rename(columns={\"tightness_index\":\"credit_tightness\"})\n"
   ]
  },
  {
   "cell_type": "code",
   "execution_count": 19,
   "metadata": {},
   "outputs": [],
   "source": [
    "stu=pd.read_csv(\"../student/vol_data_STU.csv\")\n",
    "stu[\"date\"]=stu[\"date\"].map(lambda x:pd.to_datetime(x,format=\"%Y-%m\"))\n",
    "stu[\"Month\"]=stu[\"date\"].map(lambda x:x.to_period(\"M\"))\n",
    "stu=stu.drop(columns={\"month\",'date'})\n",
    "stu=stu.rename(columns={\"vol\":\"student_vol\"})\n"
   ]
  },
  {
   "cell_type": "code",
   "execution_count": 20,
   "metadata": {},
   "outputs": [],
   "source": [
    "mo1=pd.read_csv(\"../mortgage/metro30_89.csv\")\n",
    "mo2=pd.read_csv(\"../mortgage/metro90.csv\")"
   ]
  },
  {
   "cell_type": "code",
   "execution_count": 21,
   "metadata": {},
   "outputs": [],
   "source": [
    "mo1[\"Name\"]=mo1[\"Name\"].map(lambda x:str.upper(x))\n",
    "mo2[\"Name\"]=mo2[\"Name\"].map(lambda x:str.upper(x))\n",
    "mo1=mo1[mo1[\"RegionType\"]==\"MetroArea\"]\n",
    "mo2=mo2[mo2[\"RegionType\"]==\"MetroArea\"]\n",
    "mo1=mo1.drop(columns=[\"CBSACode\",\"RegionType\"])\n",
    "mo2=mo2.drop(columns=[\"CBSACode\",\"RegionType\"])"
   ]
  },
  {
   "cell_type": "code",
   "execution_count": 22,
   "metadata": {},
   "outputs": [],
   "source": [
    "li_st=[]\n",
    "for i in range(len(cities)):\n",
    "    li_st.append(mo1[mo1[\"Name\"].map(lambda x: cities[i] in(x))])\n",
    "    \n",
    "df1=pd.concat(li_st).reset_index(drop=True)\n",
    "df1[\"Name\"]=cities\n",
    "df1_t=np.transpose(df1).reset_index()\n",
    "name_list=[]\n",
    "name_list.append(\"Month\")\n",
    "name_list.extend(cities)\n",
    "df1_t.columns=name_list\n",
    "df1_t=df1_t.drop(0)\n",
    "df1_t[\"Month\"]=df1_t[\"Month\"].map(lambda x:pd.to_datetime(x,format='%Y-%m'))\n",
    "df1_t[\"Month\"]=df1_t[\"Month\"].map(lambda x: x.to_period(\"M\"))\n",
    "df1_t[\"Score\"]=\"30-89\""
   ]
  },
  {
   "cell_type": "code",
   "execution_count": 23,
   "metadata": {},
   "outputs": [],
   "source": [
    "li_st2=[]\n",
    "for i in range(len(cities)):\n",
    "    li_st2.append(mo2[mo2[\"Name\"].map(lambda x: cities[i] in(x))])\n",
    "    \n",
    "df2=pd.concat(li_st2).reset_index(drop=True)\n",
    "df2[\"Name\"]=cities\n",
    "df2_t=np.transpose(df2).reset_index()\n",
    "name_list=[]\n",
    "name_list.append(\"Month\")\n",
    "name_list.extend(cities)\n",
    "df2_t.columns=name_list\n",
    "df2_t=df2_t.drop(0)\n",
    "df2_t[\"Month\"]=df2_t[\"Month\"].map(lambda x:pd.to_datetime(x,format='%Y-%m'))\n",
    "df2_t[\"Month\"]=df2_t[\"Month\"].map(lambda x: x.to_period(\"M\"))\n",
    "df2_t[\"Score\"]=\"90\""
   ]
  },
  {
   "cell_type": "code",
   "execution_count": 24,
   "metadata": {},
   "outputs": [],
   "source": [
    "mort_list=[]\n",
    "mortgage=pd.DataFrame()\n",
    "for i in range(len(cities)):\n",
    "    mort=pd.DataFrame()\n",
    "    a=df1_t[cities[i]]\n",
    "    b=df2_t[cities[i]]\n",
    "    mort[\"Month\"]=df1_t[\"Month\"]\n",
    "    mort[\"PROPERTY CITY\"]=cities[i]\n",
    "    mort[\"mortgage 30-89\"]=a.astype(float)\n",
    "    mort[\"mortgage 90\"]=b.astype(float)\n",
    "    mort_list.append(mort)\n",
    "mortgage=pd.concat(mort_list)\n",
    "mortgage.to_csv(\"mortgage_selected.csv\")"
   ]
  },
  {
   "cell_type": "code",
   "execution_count": 25,
   "metadata": {},
   "outputs": [
    {
     "name": "stderr",
     "output_type": "stream",
     "text": [
      "C:\\Users\\yz402\\Anaconda3\\lib\\site-packages\\ipykernel_launcher.py:6: SettingWithCopyWarning: \n",
      "A value is trying to be set on a copy of a slice from a DataFrame.\n",
      "Try using .loc[row_indexer,col_indexer] = value instead\n",
      "\n",
      "See the caveats in the documentation: http://pandas.pydata.org/pandas-docs/stable/user_guide/indexing.html#returning-a-view-versus-a-copy\n",
      "  \n",
      "C:\\Users\\yz402\\Anaconda3\\lib\\site-packages\\ipykernel_launcher.py:7: SettingWithCopyWarning: \n",
      "A value is trying to be set on a copy of a slice from a DataFrame.\n",
      "Try using .loc[row_indexer,col_indexer] = value instead\n",
      "\n",
      "See the caveats in the documentation: http://pandas.pydata.org/pandas-docs/stable/user_guide/indexing.html#returning-a-view-versus-a-copy\n",
      "  import sys\n",
      "C:\\Users\\yz402\\Anaconda3\\lib\\site-packages\\ipykernel_launcher.py:78: FutureWarning: Sorting because non-concatenation axis is not aligned. A future version\n",
      "of pandas will change to not sort by default.\n",
      "\n",
      "To accept the future behavior, pass 'sort=False'.\n",
      "\n",
      "To retain the current behavior and silence the warning, pass 'sort=True'.\n",
      "\n"
     ]
    }
   ],
   "source": [
    "city=hud[\"PROPERTY CITY\"].unique()\n",
    "df_list=[]\n",
    "df_s=pd.DataFrame()\n",
    "for i in range(len(city)):\n",
    "    df=hud[hud[\"PROPERTY CITY\"]==city[i]]\n",
    "    df[\"Month\"]=df[\"Month\"].map(lambda x:pd.to_datetime(x,format='%Y-%m'))\n",
    "    df[\"Month\"]=df[\"Month\"].map(lambda x: x.to_period(\"M\"))\n",
    "\n",
    "    df=df.merge(libor[\"ON\"],on=\"Month\")\n",
    "    df[\"spread between libor ON\"]=df[\"INTEREST RATE\"]-df[\"ON\"]\n",
    "    df[\"Corr with libor ON\"]=df[\"ON\"].corr(df[\"INTEREST RATE\"])\n",
    "    \n",
    "    df=df.merge(libor[\"1W\"],on=\"Month\")\n",
    "    df[\"spread between libor 1W\"]=df[\"INTEREST RATE\"]-df[\"1W\"]\n",
    "    df[\"Corr with libor 1W\"]=df[\"1W\"].corr(df[\"INTEREST RATE\"])\n",
    "    \n",
    "    df=df.merge(libor[\"1M\"],on=\"Month\")\n",
    "    df[\"spread between libor 1M\"]=df[\"INTEREST RATE\"]-df[\"1M\"]\n",
    "    df[\"Corr with libor 1M\"]=df[\"1M\"].corr(df[\"INTEREST RATE\"])\n",
    "    \n",
    "    df=df.merge(libor[\"2M\"],on=\"Month\")\n",
    "    df[\"spread between libor 2M\"]=df[\"INTEREST RATE\"]-df[\"2M\"]\n",
    "    df[\"Corr with libor 2M\"]=df[\"2M\"].corr(df[\"INTEREST RATE\"])\n",
    "    \n",
    "    df=df.merge(libor[\"3M\"],on=\"Month\")\n",
    "    df[\"spread between libor 3M\"]=df[\"INTEREST RATE\"]-df[\"3M\"]\n",
    "    df[\"Corr with libor 3M\"]=df[\"3M\"].corr(df[\"INTEREST RATE\"])\n",
    "    \n",
    "    df=df.merge(libor[\"6M\"],on=\"Month\")\n",
    "    df[\"spread between libor 6M\"]=df[\"INTEREST RATE\"]-df[\"6M\"]\n",
    "    df[\"Corr with libor 6M\"]=df[\"6M\"].corr(df[\"INTEREST RATE\"])\n",
    "    \n",
    "    df=df.merge(libor[\"12M\"],on=\"Month\")\n",
    "    df[\"spread between libor 12M\"]=df[\"INTEREST RATE\"]-df[\"12M\"]\n",
    "    df[\"Corr with libor 12M\"]=df[\"12M\"].corr(df[\"INTEREST RATE\"])\n",
    "\n",
    "    df=df.merge(frame_trea[\"1 Mo\"],on=\"Month\")\n",
    "    df[\"spread between 1 Mo treasury\"]=df[\"INTEREST RATE\"]-df[\"1 Mo\"]\n",
    "    df[\"Corr with 1 Mo treasury\"]=df[\"1 Mo\"].corr(df[\"INTEREST RATE\"])\n",
    "    \n",
    "    df=df.merge(frame_trea[\"6 Mo\"],on=\"Month\")\n",
    "    df[\"spread between 6 Mo treasury\"]=df[\"INTEREST RATE\"]-df[\"6 Mo\"]\n",
    "    df[\"Corr with 6 Mo treasury\"]=df[\"6 Mo\"].corr(df[\"INTEREST RATE\"])\n",
    "    \n",
    "    df=df.merge(frame_trea[\"1 Yr\"],on=\"Month\")\n",
    "    df[\"spread between 1 Yr treasury\"]=df[\"INTEREST RATE\"]-df[\"1 Yr\"]\n",
    "    df[\"Corr with 1 Yr treasury\"]=df[\"1 Yr\"].corr(df[\"INTEREST RATE\"])\n",
    "    \n",
    "    df=df.merge(frame_trea[\"5 Yr\"],on=\"Month\")\n",
    "    df[\"spread between 5 Yr treasury\"]=df[\"INTEREST RATE\"]-df[\"5 Yr\"]\n",
    "    df[\"Corr with 5 Yr treasury\"]=df[\"5 Yr\"].corr(df[\"INTEREST RATE\"])\n",
    "    \n",
    "    df=df.merge(frame_trea[\"10 Yr\"],on=\"Month\")\n",
    "    df[\"spread between 10 Yr treasury\"]=df[\"INTEREST RATE\"]-df[\"10 Yr\"]\n",
    "    df[\"Corr with 10 Yr treasury\"]=df[\"10 Yr\"].corr(df[\"INTEREST RATE\"])\n",
    "    \n",
    "    df=df.merge(frame_trea[\"20 Yr\"],on=\"Month\")\n",
    "    df[\"spread between 20 Yr treasury\"]=df[\"INTEREST RATE\"]-df[\"20 Yr\"]\n",
    "    df[\"Corr with 20 Yr treasury\"]=df[\"20 Yr\"].corr(df[\"INTEREST RATE\"])\n",
    "    \n",
    "    df=df.merge(frame_trea[\"30 Yr\"],on=\"Month\")\n",
    "    df[\"spread between 30 Yr treasury\"]=df[\"INTEREST RATE\"]-df[\"30 Yr\"]\n",
    "    df[\"Corr with 30 Yr treasury\"]=df[\"30 Yr\"].corr(df[\"INTEREST RATE\"])\n",
    "    \n",
    "    df=select_lag(df,at_vol,\"auto_vol\")\n",
    "    \n",
    "    df=select_lag(df,stu,\"student_vol\")\n",
    "    \n",
    "    df=select_lag(df,cred,\"credit_tightness\")\n",
    "    \n",
    "    df=select_lag(df,mortgage[mortgage[\"PROPERTY CITY\"]==city[i]],\"mortgage 30-89\")\n",
    "    \n",
    "    df=select_lag(df,mortgage[mortgage[\"PROPERTY CITY\"]==city[i]],\"mortgage 90\")\n",
    "\n",
    "    df_list.append(df)\n",
    "    \n",
    "    \n",
    "df_s=pd.concat(df_list).reset_index(drop=True)\n",
    "\n",
    "\n",
    "df_s.to_csv(\"City Data of HUD_month_selected city(new).csv\",index=False)"
   ]
  },
  {
   "cell_type": "code",
   "execution_count": 26,
   "metadata": {},
   "outputs": [],
   "source": [
    "def concat_ordered_columns(frames): \n",
    "    columns_ordered = [] \n",
    "    for frame in frames: \n",
    "        columns_ordered.extend(x for x in frame.columns if x not in columns_ordered) \n",
    "    final_df = pd.concat(frames)  \n",
    "    return final_df[columns_ordered]  "
   ]
  },
  {
   "cell_type": "code",
   "execution_count": null,
   "metadata": {},
   "outputs": [],
   "source": []
  },
  {
   "cell_type": "code",
   "execution_count": null,
   "metadata": {},
   "outputs": [],
   "source": []
  },
  {
   "cell_type": "code",
   "execution_count": null,
   "metadata": {},
   "outputs": [],
   "source": []
  },
  {
   "cell_type": "code",
   "execution_count": null,
   "metadata": {},
   "outputs": [],
   "source": []
  },
  {
   "cell_type": "code",
   "execution_count": 27,
   "metadata": {
    "scrolled": true
   },
   "outputs": [
    {
     "name": "stderr",
     "output_type": "stream",
     "text": [
      "C:\\Users\\yz402\\Anaconda3\\lib\\site-packages\\ipykernel_launcher.py:7: SettingWithCopyWarning: \n",
      "A value is trying to be set on a copy of a slice from a DataFrame.\n",
      "Try using .loc[row_indexer,col_indexer] = value instead\n",
      "\n",
      "See the caveats in the documentation: http://pandas.pydata.org/pandas-docs/stable/user_guide/indexing.html#returning-a-view-versus-a-copy\n",
      "  import sys\n",
      "C:\\Users\\yz402\\Anaconda3\\lib\\site-packages\\ipykernel_launcher.py:8: SettingWithCopyWarning: \n",
      "A value is trying to be set on a copy of a slice from a DataFrame.\n",
      "Try using .loc[row_indexer,col_indexer] = value instead\n",
      "\n",
      "See the caveats in the documentation: http://pandas.pydata.org/pandas-docs/stable/user_guide/indexing.html#returning-a-view-versus-a-copy\n",
      "  \n",
      "C:\\Users\\yz402\\Anaconda3\\lib\\site-packages\\numpy\\lib\\function_base.py:2522: RuntimeWarning: Degrees of freedom <= 0 for slice\n",
      "  c = cov(x, y, rowvar)\n",
      "C:\\Users\\yz402\\Anaconda3\\lib\\site-packages\\numpy\\lib\\function_base.py:2451: RuntimeWarning: divide by zero encountered in true_divide\n",
      "  c *= np.true_divide(1, fact)\n"
     ]
    }
   ],
   "source": [
    "categories=[\"Risk Sharing\",\"New Construction\",\"Refinancing_Purchase of Apartments_Coops\",\n",
    "     \"Refinancing of Apt\",\"Improvements_Additions for Apartments_Coops\",\"Other FHA\",\"Health Care Facilities\",\n",
    "     \"Hospitals and Group Practices\"]\n",
    "\n",
    "for i in range(len(categories)):\n",
    "    hud_sub=hud_cat[hud_cat[\"Category\"].str.contains(categories[i],regex=False)]\n",
    "    hud_sub[\"Month\"]=hud_sub[\"Month\"].map(lambda x: pd.to_datetime(x,format='%Y-%m'))\n",
    "    hud_sub[\"Month\"]=hud_sub[\"Month\"].map(lambda x:x.to_period(\"M\"))\n",
    "    hud_sub=hud_sub.groupby([\"PROPERTY CITY\",\"Month\"])[\"INTEREST RATE\"].mean()\n",
    "    hud_sub=hud_sub.reset_index([\"PROPERTY CITY\",\"Month\"])\n",
    "    hud_sub=hud_sub[hud_sub[\"PROPERTY CITY\"].isin(cities)]\n",
    "    hud_sub[\"Category\"]=categories[i]\n",
    "    df_list=[]\n",
    "    df_s=pd.DataFrame()\n",
    "\n",
    "    for j in range(len(cities)):\n",
    "        df=hud_sub[hud_sub[\"PROPERTY CITY\"]==cities[j]]\n",
    "        df=df.merge(libor[\"ON\"],on=\"Month\")\n",
    "        df[\"spread between libor ON\"]=df[\"INTEREST RATE\"]-df[\"ON\"]\n",
    "        df[\"Corr with libor ON\"]=df[\"ON\"].corr(df[\"INTEREST RATE\"])\n",
    "\n",
    "        df=df.merge(libor[\"1W\"],on=\"Month\")\n",
    "        df[\"spread between libor 1W\"]=df[\"INTEREST RATE\"]-df[\"1W\"]\n",
    "        df[\"Corr with libor 1W\"]=df[\"1W\"].corr(df[\"INTEREST RATE\"])\n",
    "\n",
    "        df=df.merge(libor[\"1M\"],on=\"Month\")\n",
    "        df[\"spread between libor 1M\"]=df[\"INTEREST RATE\"]-df[\"1M\"]\n",
    "        df[\"Corr with libor 1M\"]=df[\"1M\"].corr(df[\"INTEREST RATE\"])\n",
    "\n",
    "        df=df.merge(libor[\"2M\"],on=\"Month\")\n",
    "        df[\"spread between libor 2M\"]=df[\"INTEREST RATE\"]-df[\"2M\"]\n",
    "        df[\"Corr with libor 2M\"]=df[\"2M\"].corr(df[\"INTEREST RATE\"])\n",
    "\n",
    "        df=df.merge(libor[\"3M\"],on=\"Month\")\n",
    "        df[\"spread between libor 3M\"]=df[\"INTEREST RATE\"]-df[\"3M\"]\n",
    "        df[\"Corr with libor 3M\"]=df[\"3M\"].corr(df[\"INTEREST RATE\"])\n",
    "\n",
    "        df=df.merge(libor[\"6M\"],on=\"Month\")\n",
    "        df[\"spread between libor 6M\"]=df[\"INTEREST RATE\"]-df[\"6M\"]\n",
    "        df[\"Corr with libor 6M\"]=df[\"6M\"].corr(df[\"INTEREST RATE\"])\n",
    "\n",
    "        df=df.merge(libor[\"12M\"],on=\"Month\")\n",
    "        df[\"spread between libor 12M\"]=df[\"INTEREST RATE\"]-df[\"12M\"]\n",
    "        df[\"Corr with libor 12M\"]=df[\"12M\"].corr(df[\"INTEREST RATE\"])\n",
    "\n",
    "        df=df.merge(frame_trea[\"1 Mo\"],on=\"Month\")\n",
    "        df[\"spread between 1 Mo treasury\"]=df[\"INTEREST RATE\"]-df[\"1 Mo\"]\n",
    "        df[\"Corr with 1 Mo treasury\"]=df[\"1 Mo\"].corr(df[\"INTEREST RATE\"])\n",
    "\n",
    "        df=df.merge(frame_trea[\"6 Mo\"],on=\"Month\")\n",
    "        df[\"spread between 6 Mo treasury\"]=df[\"INTEREST RATE\"]-df[\"6 Mo\"]\n",
    "        df[\"Corr with 6 Mo treasury\"]=df[\"6 Mo\"].corr(df[\"INTEREST RATE\"])\n",
    "\n",
    "        df=df.merge(frame_trea[\"1 Yr\"],on=\"Month\")\n",
    "        df[\"spread between 1 Yr treasury\"]=df[\"INTEREST RATE\"]-df[\"1 Yr\"]\n",
    "        df[\"Corr with 1 Yr treasury\"]=df[\"1 Yr\"].corr(df[\"INTEREST RATE\"])\n",
    "\n",
    "        df=df.merge(frame_trea[\"5 Yr\"],on=\"Month\")\n",
    "        df[\"spread between 5 Yr treasury\"]=df[\"INTEREST RATE\"]-df[\"5 Yr\"]\n",
    "        df[\"Corr with 5 Yr treasury\"]=df[\"5 Yr\"].corr(df[\"INTEREST RATE\"])\n",
    "\n",
    "        df=df.merge(frame_trea[\"10 Yr\"],on=\"Month\")\n",
    "        df[\"spread between 10 Yr treasury\"]=df[\"INTEREST RATE\"]-df[\"10 Yr\"]\n",
    "        df[\"Corr with 10 Yr treasury\"]=df[\"10 Yr\"].corr(df[\"INTEREST RATE\"])\n",
    "\n",
    "        df=df.merge(frame_trea[\"20 Yr\"],on=\"Month\")\n",
    "        df[\"spread between 20 Yr treasury\"]=df[\"INTEREST RATE\"]-df[\"20 Yr\"]\n",
    "        df[\"Corr with 20 Yr treasury\"]=df[\"20 Yr\"].corr(df[\"INTEREST RATE\"])\n",
    "\n",
    "        df=df.merge(frame_trea[\"30 Yr\"],on=\"Month\")\n",
    "        df[\"spread between 30 Yr treasury\"]=df[\"INTEREST RATE\"]-df[\"30 Yr\"]\n",
    "        df[\"Corr with 30 Yr treasury\"]=df[\"30 Yr\"].corr(df[\"INTEREST RATE\"])\n",
    "        \n",
    "        df=select_lag(df,at_vol,\"auto_vol\")\n",
    "    \n",
    "        df=select_lag(df,stu,\"student_vol\")\n",
    "\n",
    "        df=select_lag(df,cred,\"credit_tightness\")\n",
    "        \n",
    "        df=select_lag(df,mortgage[mortgage[\"PROPERTY CITY\"]==cities[j]],\"mortgage 30-89\")\n",
    "        \n",
    "        df=select_lag(df,mortgage[mortgage[\"PROPERTY CITY\"]==cities[j]],\"mortgage 90\")\n",
    "        \n",
    "        name=\"Category/\"+categories[i]+\"/\"+cities[j]+\".csv\"\n",
    "        df.to_csv(name)\n"
   ]
  },
  {
   "cell_type": "code",
   "execution_count": 28,
   "metadata": {},
   "outputs": [],
   "source": [
    "hud_all=hud_cat\n",
    "hud_all[\"Month\"]=hud_all[\"Month\"].map(lambda x: pd.to_datetime(x,format='%Y-%m'))\n",
    "hud_all[\"Month\"]=hud_all[\"Month\"].map(lambda x:x.to_period(\"M\"))\n",
    "hud_all=hud_all.groupby([\"PROPERTY CITY\",\"Month\"])[\"INTEREST RATE\"].mean()\n",
    "hud_all=hud_all.reset_index([\"PROPERTY CITY\",\"Month\"])\n",
    "hud_all=hud_all[hud_all[\"PROPERTY CITY\"].isin(cities)]\n",
    "hud_all[\"Category\"]=\"All\"\n",
    "df_list=[]\n",
    "df_s=pd.DataFrame()\n",
    "\n",
    "for j in range(len(cities)):\n",
    "    df=hud_all[hud_all[\"PROPERTY CITY\"]==cities[j]]\n",
    "    df=df.merge(libor[\"ON\"],on=\"Month\")\n",
    "    df[\"spread between libor ON\"]=df[\"INTEREST RATE\"]-df[\"ON\"]\n",
    "    df[\"Corr with libor ON\"]=df[\"ON\"].corr(df[\"INTEREST RATE\"])\n",
    "\n",
    "    df=df.merge(libor[\"1W\"],on=\"Month\")\n",
    "    df[\"spread between libor 1W\"]=df[\"INTEREST RATE\"]-df[\"1W\"]\n",
    "    df[\"Corr with libor 1W\"]=df[\"1W\"].corr(df[\"INTEREST RATE\"])\n",
    "\n",
    "    df=df.merge(libor[\"1M\"],on=\"Month\")\n",
    "    df[\"spread between libor 1M\"]=df[\"INTEREST RATE\"]-df[\"1M\"]\n",
    "    df[\"Corr with libor 1M\"]=df[\"1M\"].corr(df[\"INTEREST RATE\"])\n",
    "\n",
    "    df=df.merge(libor[\"2M\"],on=\"Month\")\n",
    "    df[\"spread between libor 2M\"]=df[\"INTEREST RATE\"]-df[\"2M\"]\n",
    "    df[\"Corr with libor 2M\"]=df[\"2M\"].corr(df[\"INTEREST RATE\"])\n",
    "\n",
    "    df=df.merge(libor[\"3M\"],on=\"Month\")\n",
    "    df[\"spread between libor 3M\"]=df[\"INTEREST RATE\"]-df[\"3M\"]\n",
    "    df[\"Corr with libor 3M\"]=df[\"3M\"].corr(df[\"INTEREST RATE\"])\n",
    "\n",
    "    df=df.merge(libor[\"6M\"],on=\"Month\")\n",
    "    df[\"spread between libor 6M\"]=df[\"INTEREST RATE\"]-df[\"6M\"]\n",
    "    df[\"Corr with libor 6M\"]=df[\"6M\"].corr(df[\"INTEREST RATE\"])\n",
    "\n",
    "    df=df.merge(libor[\"12M\"],on=\"Month\")\n",
    "    df[\"spread between libor 12M\"]=df[\"INTEREST RATE\"]-df[\"12M\"]\n",
    "    df[\"Corr with libor 12M\"]=df[\"12M\"].corr(df[\"INTEREST RATE\"])\n",
    "\n",
    "    df=df.merge(frame_trea[\"1 Mo\"],on=\"Month\")\n",
    "    df[\"spread between 1 Mo treasury\"]=df[\"INTEREST RATE\"]-df[\"1 Mo\"]\n",
    "    df[\"Corr with 1 Mo treasury\"]=df[\"1 Mo\"].corr(df[\"INTEREST RATE\"])\n",
    "\n",
    "    df=df.merge(frame_trea[\"6 Mo\"],on=\"Month\")\n",
    "    df[\"spread between 6 Mo treasury\"]=df[\"INTEREST RATE\"]-df[\"6 Mo\"]\n",
    "    df[\"Corr with 6 Mo treasury\"]=df[\"6 Mo\"].corr(df[\"INTEREST RATE\"])\n",
    "\n",
    "    df=df.merge(frame_trea[\"1 Yr\"],on=\"Month\")\n",
    "    df[\"spread between 1 Yr treasury\"]=df[\"INTEREST RATE\"]-df[\"1 Yr\"]\n",
    "    df[\"Corr with 1 Yr treasury\"]=df[\"1 Yr\"].corr(df[\"INTEREST RATE\"])\n",
    "\n",
    "    df=df.merge(frame_trea[\"5 Yr\"],on=\"Month\")\n",
    "    df[\"spread between 5 Yr treasury\"]=df[\"INTEREST RATE\"]-df[\"5 Yr\"]\n",
    "    df[\"Corr with 5 Yr treasury\"]=df[\"5 Yr\"].corr(df[\"INTEREST RATE\"])\n",
    "\n",
    "    df=df.merge(frame_trea[\"10 Yr\"],on=\"Month\")\n",
    "    df[\"spread between 10 Yr treasury\"]=df[\"INTEREST RATE\"]-df[\"10 Yr\"]\n",
    "    df[\"Corr with 10 Yr treasury\"]=df[\"10 Yr\"].corr(df[\"INTEREST RATE\"])\n",
    "\n",
    "    df=df.merge(frame_trea[\"20 Yr\"],on=\"Month\")\n",
    "    df[\"spread between 20 Yr treasury\"]=df[\"INTEREST RATE\"]-df[\"20 Yr\"]\n",
    "    df[\"Corr with 20 Yr treasury\"]=df[\"20 Yr\"].corr(df[\"INTEREST RATE\"])\n",
    "\n",
    "    df=df.merge(frame_trea[\"30 Yr\"],on=\"Month\")\n",
    "    df[\"spread between 30 Yr treasury\"]=df[\"INTEREST RATE\"]-df[\"30 Yr\"]\n",
    "    df[\"Corr with 30 Yr treasury\"]=df[\"30 Yr\"].corr(df[\"INTEREST RATE\"])\n",
    "\n",
    "    df=select_lag(df,at_vol,\"auto_vol\")\n",
    "\n",
    "    df=select_lag(df,stu,\"student_vol\")\n",
    "\n",
    "    df=select_lag(df,cred,\"credit_tightness\")\n",
    "\n",
    "    df=select_lag(df,mortgage[mortgage[\"PROPERTY CITY\"]==cities[j]],\"mortgage 30-89\")\n",
    "\n",
    "    df=select_lag(df,mortgage[mortgage[\"PROPERTY CITY\"]==cities[j]],\"mortgage 90\")\n",
    "\n",
    "    name=\"Category/\"+\"All\"+\"/\"+cities[j]+\".csv\"\n",
    "    df.to_csv(name)\n"
   ]
  },
  {
   "cell_type": "code",
   "execution_count": null,
   "metadata": {},
   "outputs": [],
   "source": []
  },
  {
   "cell_type": "code",
   "execution_count": null,
   "metadata": {},
   "outputs": [],
   "source": []
  },
  {
   "cell_type": "code",
   "execution_count": null,
   "metadata": {},
   "outputs": [],
   "source": []
  },
  {
   "cell_type": "code",
   "execution_count": null,
   "metadata": {},
   "outputs": [],
   "source": []
  }
 ],
 "metadata": {
  "kernelspec": {
   "display_name": "Python 3",
   "language": "python",
   "name": "python3"
  },
  "language_info": {
   "codemirror_mode": {
    "name": "ipython",
    "version": 3
   },
   "file_extension": ".py",
   "mimetype": "text/x-python",
   "name": "python",
   "nbconvert_exporter": "python",
   "pygments_lexer": "ipython3",
   "version": "3.7.4"
  }
 },
 "nbformat": 4,
 "nbformat_minor": 2
}
